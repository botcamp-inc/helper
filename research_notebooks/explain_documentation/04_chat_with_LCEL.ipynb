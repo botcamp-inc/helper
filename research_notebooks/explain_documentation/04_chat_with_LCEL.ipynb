{
 "cells": [
  {
   "cell_type": "code",
   "execution_count": null,
   "metadata": {
    "collapsed": true
   },
   "outputs": [],
   "source": [
    "import os\n",
    "from langchain.vectorstores.chroma import Chroma\n",
    "from langchain.embeddings import OpenAIEmbeddings\n",
    "from langchain.chat_models import ChatOpenAI\n",
    "from pydantic import BaseModel, Field\n",
    "from langchain.utils.openai_functions import convert_pydantic_to_openai_function\n",
    "\n",
    "from dotenv import load_dotenv\n",
    "\n",
    "load_dotenv()\n",
    "\n",
    "llm_name = \"gpt-4-1106-preview\"\n",
    "os.environ[\"OPENAI_API_KEY\"]  # you should see the api key if the .env file is loaded correctly"
   ]
  },
  {
   "cell_type": "code",
   "execution_count": 2,
   "outputs": [],
   "source": [
    "persist_directory = \"/Users/dardonacci/Documents/work/ai-assistant/vector_stores\"\n",
    "\n",
    "embedding = OpenAIEmbeddings()\n",
    "\n",
    "vectordb = Chroma(\n",
    "    collection_name=\"hummingbot_documentation\",\n",
    "    persist_directory=persist_directory,\n",
    "    embedding_function=embedding\n",
    ")"
   ],
   "metadata": {
    "collapsed": false,
    "ExecuteTime": {
     "end_time": "2023-11-29T21:05:57.413937Z",
     "start_time": "2023-11-29T21:05:57.147634Z"
    }
   }
  },
  {
   "cell_type": "code",
   "execution_count": 3,
   "outputs": [],
   "source": [
    "from langchain.schema import StrOutputParser\n",
    "from langchain.prompts import ChatPromptTemplate\n",
    "\n",
    "# Build prompt\n",
    "template = \"\"\"Use the following pieces of context that are part of the Hummingbot Documentation to answer the user question. If you don't know the answer, just say that you don't know, don't try to make up an answer. Use three sentences maximum. Keep the answer as concise as possible. Always say \"thanks for asking!\" at the end of the answer.\n",
    "{context}\n",
    "Question: {question}\n",
    "Helpful Answer:\"\"\"\n",
    "\n",
    "prompt = ChatPromptTemplate.from_template(template=template)\n",
    "model = ChatOpenAI(model_name=llm_name, temperature=0)\n",
    "output_parser = StrOutputParser()\n",
    "\n",
    "chain = prompt | model"
   ],
   "metadata": {
    "collapsed": false,
    "ExecuteTime": {
     "end_time": "2023-11-29T21:06:28.818213Z",
     "start_time": "2023-11-29T21:06:28.813754Z"
    }
   }
  },
  {
   "cell_type": "code",
   "execution_count": 7,
   "outputs": [],
   "source": [
    "query = \"\"\"Can you explain me how to use the pure market making strategy?\n",
    "\"\"\""
   ],
   "metadata": {
    "collapsed": false,
    "ExecuteTime": {
     "end_time": "2023-11-29T21:40:20.215863Z",
     "start_time": "2023-11-29T21:40:20.214575Z"
    }
   }
  },
  {
   "cell_type": "code",
   "execution_count": 8,
   "outputs": [],
   "source": [
    "from langchain.schema.runnable import RunnableMap\n",
    "\n",
    "retriever = vectordb.as_retriever(search_type=\"mmr\", k=5, fetch_k=10)\n",
    "\n",
    "chain = RunnableMap({\n",
    "    \"context\": lambda x: retriever.get_relevant_documents(x[\"question\"]),\n",
    "    \"question\": lambda x: x[\"question\"]\n",
    "}) | prompt | model | output_parser"
   ],
   "metadata": {
    "collapsed": false,
    "ExecuteTime": {
     "end_time": "2023-11-29T21:40:22.536161Z",
     "start_time": "2023-11-29T21:40:22.533240Z"
    }
   }
  },
  {
   "cell_type": "code",
   "execution_count": 9,
   "outputs": [
    {
     "data": {
      "text/plain": "\"Certainly! The pure market making strategy in Hummingbot allows you to run a market making strategy on a single trading pair on spot exchanges. Here's a step-by-step guide on how to use the pure market making strategy:\\n\\n1. **Choose an Exchange**: First, you need to select a spot exchange that is supported by Hummingbot and set up your API keys within the Hummingbot client.\\n\\n2. **Select a Trading Pair**: Choose the trading pair you want to make a market in. This will be the pair for which you will be placing buy and sell orders.\\n\\n3. **Configure Strategy Parameters**: You will need to configure several parameters for the strategy, including:\\n   - `bid_spread` and `ask_spread`: The percentage difference from the mid-price where your buy (bid) and sell (ask) limit orders will be placed.\\n   - `order_refresh_time`: The frequency in seconds at which your orders will be canceled and new orders will be placed with updated prices.\\n   - `order_amount`: The size of each order in terms of the base asset.\\n   - Additional parameters such as `minimum_spread`, `max_order_age`, `price_ceiling`, `price_floor`, and others can be configured based on your strategy needs.\\n\\n4. **Start the Strategy**: Once you have configured all the necessary parameters, you can start the strategy. Hummingbot will then begin placing limit orders on the order book according to your settings.\\n\\n5. **Monitor and Adjust**: Keep an eye on your strategy's performance and adjust your parameters as needed based on market conditions and your inventory levels.\\n\\n6. **Stop the Strategy**: When you want to stop market making, you can stop the strategy in Hummingbot, and it will cancel any outstanding orders.\\n\\nRemember, market making involves risks, including the potential for slippage, inventory risks, and the possibility of trading losses. It's important to thoroughly understand the strategy and test it in a paper trading or sandbox environment before deploying real capital.\\n\\nFor more detailed information, you can refer to the Hummingbot documentation at `https://docs.hummingbot.org/strategies/pure-market-making/`.\""
     },
     "execution_count": 9,
     "metadata": {},
     "output_type": "execute_result"
    }
   ],
   "source": [
    "chain.invoke(\n",
    "    input={\n",
    "        \"question\": query,\n",
    "    }\n",
    ")"
   ],
   "metadata": {
    "collapsed": false,
    "ExecuteTime": {
     "end_time": "2023-11-29T21:40:49.241128Z",
     "start_time": "2023-11-29T21:40:24.042Z"
    }
   }
  },
  {
   "cell_type": "code",
   "execution_count": 12,
   "outputs": [],
   "source": [
    "class Strategy(BaseModel):\n",
    "    \"\"\"Strategy created by the LLM for the user.\"\"\"\n",
    "    code: str = Field(description=\"Provide the python code for the strategy.\")\n",
    "    summary: str = Field(description=\"Provide a concise summary of what the strategy is doing.\")"
   ],
   "metadata": {
    "collapsed": false,
    "ExecuteTime": {
     "end_time": "2023-11-28T17:18:49.324899Z",
     "start_time": "2023-11-28T17:18:49.322402Z"
    }
   }
  },
  {
   "cell_type": "code",
   "execution_count": 13,
   "outputs": [],
   "source": [
    "\n",
    "strategy_extraction_function = [\n",
    "    convert_pydantic_to_openai_function(Strategy)\n",
    "]\n",
    "tagging_model = model.bind(\n",
    "    functions=strategy_extraction_function,\n",
    "    function_call={\"name\":\"Strategy\"}\n",
    ")"
   ],
   "metadata": {
    "collapsed": false,
    "ExecuteTime": {
     "end_time": "2023-11-28T17:18:49.329376Z",
     "start_time": "2023-11-28T17:18:49.326815Z"
    }
   }
  },
  {
   "cell_type": "code",
   "execution_count": 14,
   "outputs": [],
   "source": [
    "from langchain.output_parsers.openai_functions import JsonOutputFunctionsParser\n",
    "\n",
    "tagging_chain = RunnableMap({\n",
    "    \"context\": lambda x: retriever.get_relevant_documents(x[\"question\"]),\n",
    "    \"question\": lambda x: x[\"question\"]\n",
    "}) | prompt | model | StrOutputParser() | tagging_model | JsonOutputFunctionsParser()"
   ],
   "metadata": {
    "collapsed": false,
    "ExecuteTime": {
     "end_time": "2023-11-28T17:18:49.358224Z",
     "start_time": "2023-11-28T17:18:49.332343Z"
    }
   }
  },
  {
   "cell_type": "code",
   "execution_count": 15,
   "outputs": [],
   "source": [
    "result = tagging_chain.invoke(\n",
    "    input={\n",
    "        \"question\": query,\n",
    "    }\n",
    ")"
   ],
   "metadata": {
    "collapsed": false,
    "ExecuteTime": {
     "end_time": "2023-11-28T17:20:32.795746Z",
     "start_time": "2023-11-28T17:18:49.357219Z"
    }
   }
  },
  {
   "cell_type": "code",
   "execution_count": 16,
   "outputs": [
    {
     "name": "stdout",
     "output_type": "stream",
     "text": [
      "The provided Python script is a template for a Directional Strategy using Hummingbot with the MACDBB controller. It defines a class `MACDBBDirectionalStrategy` that extends `ScriptStrategyBase` and includes configuration for the trading pair, exchange, and order amount. The strategy uses the MACDBB controller with initial values for the MACD and Bollinger Bands indicators. The `on_tick` method contains the main trading logic, which checks the MACDBB signal to decide on placing buy or sell orders. Placeholder methods for determining buy/sell prices and order placement need to be implemented. The script requires further development and optimization based on historical data and market conditions before actual trading.\n"
     ]
    }
   ],
   "source": [
    "print(result[\"summary\"])"
   ],
   "metadata": {
    "collapsed": false,
    "ExecuteTime": {
     "end_time": "2023-11-28T17:20:32.800495Z",
     "start_time": "2023-11-28T17:20:32.794334Z"
    }
   }
  },
  {
   "cell_type": "code",
   "execution_count": 17,
   "outputs": [
    {
     "name": "stdout",
     "output_type": "stream",
     "text": [
      "from decimal import Decimal\n",
      "from hummingbot.connector.connector_base import ConnectorBase\n",
      "from hummingbot.core.data_type.common import OrderType\n",
      "from hummingbot.smart_components.controllers.macd_bb_v1 import MACDBBV1, MACDBBV1Config\n",
      "from hummingbot.strategy.script_strategy_base import ScriptStrategyBase\n",
      "\n",
      "class MACDBBDirectionalStrategy(ScriptStrategyBase):\n",
      "    # Configuration\n",
      "    trading_pair = \"BTC-USDT\"  # Example trading pair\n",
      "    exchange = \"binance\"  # Example exchange\n",
      "    order_amount = Decimal(\"0.01\")  # Example order amount in base currency\n",
      "\n",
      "    # MACDBB Configuration\n",
      "    macd_bb_config = MACDBBV1Config(\n",
      "        fast_ema_period=12,  # Fast EMA period for MACD\n",
      "        slow_ema_period=26,  # Slow EMA period for MACD\n",
      "        signal_ema_period=9,  # Signal EMA period for MACD\n",
      "        bollinger_band_period=20,  # Bollinger Bands period\n",
      "        bollinger_band_std_dev=2  # Bollinger Bands standard deviation\n",
      "    )\n",
      "    macd_bb_controller = None\n",
      "\n",
      "    def __init__(self, connectors: Dict[str, ConnectorBase]):\n",
      "        super().__init__(connectors)\n",
      "        self.macd_bb_controller = MACDBBV1(self.macd_bb_config)\n",
      "\n",
      "    def on_tick(self):\n",
      "        # This method will be called periodically by the Hummingbot framework\n",
      "        # Here you can check the MACDBB signals and decide whether to place orders\n",
      "\n",
      "        # Get the latest MACDBB signal\n",
      "        macd_bb_signal = self.macd_bb_controller.get_signal(self.trading_pair)\n",
      "\n",
      "        # Implement your trading logic based on the signal\n",
      "        if macd_bb_signal == MACDBBV1.Signal.LONG:\n",
      "            # Place a buy order\n",
      "            self.place_order(self.trading_pair, OrderType.LIMIT, TradeType.BUY, self.order_amount, self.get_price_to_buy())\n",
      "        elif macd_bb_signal == MACDBBV1.Signal.SHORT:\n",
      "            # Place a sell order\n",
      "            self.place_order(self.trading_pair, OrderType.LIMIT, TradeType.SELL, self.order_amount, self.get_price_to_sell())\n",
      "\n",
      "    def get_price_to_buy(self):\n",
      "        # Implement logic to determine the buy price, e.g., last trade price, order book analysis, etc.\n",
      "        pass\n",
      "\n",
      "    def get_price_to_sell(self):\n",
      "        # Implement logic to determine the sell price, e.g., last trade price, order book analysis, etc.\n",
      "        pass\n",
      "\n",
      "    def place_order(self, trading_pair, order_type, trade_type, amount, price):\n",
      "        # Implement order placement logic\n",
      "        pass\n",
      "\n",
      "# Note: The methods get_price_to_buy, get_price_to_sell, and place_order are placeholders and need to be implemented.\n"
     ]
    }
   ],
   "source": [
    "print(result[\"code\"])"
   ],
   "metadata": {
    "collapsed": false,
    "ExecuteTime": {
     "end_time": "2023-11-28T17:20:32.802656Z",
     "start_time": "2023-11-28T17:20:32.798767Z"
    }
   }
  }
 ],
 "metadata": {
  "kernelspec": {
   "display_name": "Python 3",
   "language": "python",
   "name": "python3"
  },
  "language_info": {
   "codemirror_mode": {
    "name": "ipython",
    "version": 2
   },
   "file_extension": ".py",
   "mimetype": "text/x-python",
   "name": "python",
   "nbconvert_exporter": "python",
   "pygments_lexer": "ipython2",
   "version": "2.7.6"
  }
 },
 "nbformat": 4,
 "nbformat_minor": 0
}
