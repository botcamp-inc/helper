{
 "cells": [
  {
   "cell_type": "code",
   "execution_count": null,
   "metadata": {},
   "outputs": [],
   "source": [
    "import os\n",
    "from langchain.vectorstores.chroma import Chroma\n",
    "from langchain.embeddings import OpenAIEmbeddings\n",
    "from langchain.chat_models import ChatOpenAI\n",
    "from pydantic import BaseModel, Field\n",
    "from langchain.utils.openai_functions import convert_pydantic_to_openai_function\n",
    "\n",
    "from dotenv import load_dotenv\n",
    "\n",
    "load_dotenv()\n",
    "\n",
    "llm_name = \"gpt-4-1106-preview\"\n",
    "os.environ[\"OPENAI_API_KEY\"]  # you should see the api key if the .env file is loaded correctly"
   ]
  },
  {
   "cell_type": "code",
   "execution_count": 44,
   "metadata": {
    "ExecuteTime": {
     "end_time": "2023-11-29T21:05:57.413937Z",
     "start_time": "2023-11-29T21:05:57.147634Z"
    },
    "collapsed": false,
    "jupyter": {
     "outputs_hidden": false
    }
   },
   "outputs": [],
   "source": [
    "# Replace with persist_directory location from 01_load_hummingbot_docs.ipnynb\n",
    "persist_directory = \"/Users/feng/Code/ai-assistant/vector_stores\"\n",
    "\n",
    "embedding = OpenAIEmbeddings()\n",
    "\n",
    "vectordb = Chroma(\n",
    "    collection_name=\"hummingbot_documentation\",\n",
    "    persist_directory=persist_directory,\n",
    "    embedding_function=embedding\n",
    ")"
   ]
  },
  {
   "cell_type": "code",
   "execution_count": 45,
   "metadata": {
    "ExecuteTime": {
     "end_time": "2023-11-29T21:06:28.818213Z",
     "start_time": "2023-11-29T21:06:28.813754Z"
    },
    "collapsed": false,
    "jupyter": {
     "outputs_hidden": false
    }
   },
   "outputs": [],
   "source": [
    "from langchain.schema import StrOutputParser\n",
    "from langchain.prompts import ChatPromptTemplate\n",
    "\n",
    "# Build prompt\n",
    "template = \"\"\"Use the following pieces of context that are part of the Hummingbot Documentation to answer the user question. If you don't know the answer, just say that you don't know, don't try to make up an answer. Use three sentences maximum. Keep the answer as concise as possible. Always say \"thanks for asking!\" at the end of the answer.\n",
    "{context}\n",
    "Question: {question}\n",
    "Helpful Answer:\"\"\"\n",
    "\n",
    "prompt = ChatPromptTemplate.from_template(template=template)\n",
    "model = ChatOpenAI(model_name=llm_name, temperature=0)\n",
    "output_parser = StrOutputParser()\n",
    "\n",
    "chain = prompt | model"
   ]
  },
  {
   "cell_type": "code",
   "execution_count": 46,
   "metadata": {
    "ExecuteTime": {
     "end_time": "2023-11-29T21:40:20.215863Z",
     "start_time": "2023-11-29T21:40:20.214575Z"
    },
    "collapsed": false,
    "jupyter": {
     "outputs_hidden": false
    }
   },
   "outputs": [],
   "source": [
    "query = \"\"\"Can you explain me how to use the pure market making strategy?\n",
    "\"\"\""
   ]
  },
  {
   "cell_type": "code",
   "execution_count": 47,
   "metadata": {
    "ExecuteTime": {
     "end_time": "2023-11-29T21:40:22.536161Z",
     "start_time": "2023-11-29T21:40:22.533240Z"
    },
    "collapsed": false,
    "jupyter": {
     "outputs_hidden": false
    }
   },
   "outputs": [],
   "source": [
    "from langchain.schema.runnable import RunnableMap\n",
    "\n",
    "retriever = vectordb.as_retriever(search_type=\"mmr\", k=5, fetch_k=10)\n",
    "\n",
    "chain = RunnableMap({\n",
    "    \"context\": lambda x: retriever.get_relevant_documents(x[\"question\"]),\n",
    "    \"question\": lambda x: x[\"question\"]\n",
    "}) | prompt | model | output_parser"
   ]
  },
  {
   "cell_type": "code",
   "execution_count": 48,
   "metadata": {
    "ExecuteTime": {
     "end_time": "2023-11-29T21:40:49.241128Z",
     "start_time": "2023-11-29T21:40:24.042Z"
    },
    "collapsed": false,
    "jupyter": {
     "outputs_hidden": false
    }
   },
   "outputs": [
    {
     "data": {
      "text/plain": [
       "'The Pure Market Making strategy in Hummingbot involves placing both buy and sell limit orders on a single exchange (the maker side). If one side of the order is filled, you would typically not hedge this on another exchange, which is a key difference from the cross-exchange market making strategy. You can configure the strategy by setting parameters such as the order amount, the spread, and how often to refresh orders, among others, using the `pure_market_making_config_map.py` file. Thanks for asking!'"
      ]
     },
     "execution_count": 48,
     "metadata": {},
     "output_type": "execute_result"
    }
   ],
   "source": [
    "chain.invoke(\n",
    "    input={\n",
    "        \"question\": query,\n",
    "    }\n",
    ")"
   ]
  },
  {
   "cell_type": "code",
   "execution_count": 49,
   "metadata": {
    "ExecuteTime": {
     "end_time": "2023-11-28T17:18:49.324899Z",
     "start_time": "2023-11-28T17:18:49.322402Z"
    },
    "collapsed": false,
    "jupyter": {
     "outputs_hidden": false
    }
   },
   "outputs": [],
   "source": [
    "class Strategy(BaseModel):\n",
    "    \"\"\"Strategy created by the LLM for the user.\"\"\"\n",
    "    code: str = Field(description=\"Provide the python code for the strategy.\")\n",
    "    summary: str = Field(description=\"Provide a concise summary of what the strategy is doing.\")"
   ]
  },
  {
   "cell_type": "code",
   "execution_count": 50,
   "metadata": {
    "ExecuteTime": {
     "end_time": "2023-11-28T17:18:49.329376Z",
     "start_time": "2023-11-28T17:18:49.326815Z"
    },
    "collapsed": false,
    "jupyter": {
     "outputs_hidden": false
    }
   },
   "outputs": [],
   "source": [
    "\n",
    "strategy_extraction_function = [\n",
    "    convert_pydantic_to_openai_function(Strategy)\n",
    "]\n",
    "tagging_model = model.bind(\n",
    "    functions=strategy_extraction_function,\n",
    "    function_call={\"name\":\"Strategy\"}\n",
    ")"
   ]
  },
  {
   "cell_type": "code",
   "execution_count": 51,
   "metadata": {
    "ExecuteTime": {
     "end_time": "2023-11-28T17:18:49.358224Z",
     "start_time": "2023-11-28T17:18:49.332343Z"
    },
    "collapsed": false,
    "jupyter": {
     "outputs_hidden": false
    }
   },
   "outputs": [],
   "source": [
    "from langchain.output_parsers.openai_functions import JsonOutputFunctionsParser\n",
    "\n",
    "tagging_chain = RunnableMap({\n",
    "    \"context\": lambda x: retriever.get_relevant_documents(x[\"question\"]),\n",
    "    \"question\": lambda x: x[\"question\"]\n",
    "}) | prompt | model | StrOutputParser() | tagging_model | JsonOutputFunctionsParser()"
   ]
  },
  {
   "cell_type": "code",
   "execution_count": 52,
   "metadata": {
    "ExecuteTime": {
     "end_time": "2023-11-28T17:20:32.795746Z",
     "start_time": "2023-11-28T17:18:49.357219Z"
    },
    "collapsed": false,
    "jupyter": {
     "outputs_hidden": false
    }
   },
   "outputs": [],
   "source": [
    "result = tagging_chain.invoke(\n",
    "    input={\n",
    "        \"question\": query,\n",
    "    }\n",
    ")"
   ]
  },
  {
   "cell_type": "code",
   "execution_count": 53,
   "metadata": {
    "ExecuteTime": {
     "end_time": "2023-11-28T17:20:32.800495Z",
     "start_time": "2023-11-28T17:20:32.794334Z"
    },
    "collapsed": false,
    "jupyter": {
     "outputs_hidden": false
    }
   },
   "outputs": [
    {
     "name": "stdout",
     "output_type": "stream",
     "text": [
      "This Python code snippet demonstrates how to configure and initialize a Pure Market Making strategy using Hummingbot. It sets up the strategy parameters such as order amount, bid and ask spreads, minimum spread, and order refresh time. It then initializes the market trading pair tuple with the exchange and trading pair information. Finally, it creates an instance of the PureMarketMakingStrategy with the configured parameters and starts the strategy. The strategy is then run in a loop, simulating the continuous operation of a trading bot.\n"
     ]
    }
   ],
   "source": [
    "print(result[\"summary\"])"
   ]
  },
  {
   "cell_type": "code",
   "execution_count": 54,
   "metadata": {
    "ExecuteTime": {
     "end_time": "2023-11-28T17:20:32.802656Z",
     "start_time": "2023-11-28T17:20:32.798767Z"
    },
    "collapsed": false,
    "jupyter": {
     "outputs_hidden": false
    }
   },
   "outputs": [
    {
     "name": "stdout",
     "output_type": "stream",
     "text": [
      "import pandas as pd\n",
      "import numpy as np\n",
      "import time\n",
      "from hummingbot.strategy.market_trading_pair_tuple import MarketTradingPairTuple\n",
      "from hummingbot.strategy.pure_market_making import PureMarketMakingStrategy\n",
      "from hummingbot.strategy.pure_market_making.pure_market_making_config_map import pure_market_making_config_map\n",
      "\n",
      "# Example configuration\n",
      "pure_market_making_config_map['order_amount'].value = 1.0\n",
      "pure_market_making_config_map['bid_spread'].value = 0.01\n",
      "pure_market_making_config_map['ask_spread'].value = 0.01\n",
      "pure_market_making_config_map['minimum_spread'].value = 0.005\n",
      "pure_market_making_config_map['order_refresh_time'].value = 30.0\n",
      "\n",
      "# Initialize the market trading pair tuple\n",
      "market_info = MarketTradingPairTuple(exchange='binance',\n",
      "                                     base_asset='BTC',\n",
      "                                     quote_asset='USDT',\n",
      "                                     trading_pair='BTC-USDT')\n",
      "\n",
      "# Initialize the strategy\n",
      "strategy = PureMarketMakingStrategy(market_info=market_info,\n",
      "                                    bid_spread=pure_market_making_config_map['bid_spread'].value,\n",
      "                                    ask_spread=pure_market_making_config_map['ask_spread'].value,\n",
      "                                    order_amount=pure_market_making_config_map['order_amount'].value,\n",
      "                                    minimum_spread=pure_market_making_config_map['minimum_spread'].value,\n",
      "                                    order_refresh_time=pure_market_making_config_map['order_refresh_time'].value)\n",
      "\n",
      "# Start the strategy\n",
      "strategy.start()\n",
      "\n",
      "# In a real bot, this would run in an event loop\n",
      "while True:\n",
      "    strategy.tick()\n",
      "    time.sleep(1)\n"
     ]
    }
   ],
   "source": [
    "print(result[\"code\"])"
   ]
  }
 ],
 "metadata": {
  "kernelspec": {
   "display_name": "Python 3 (ipykernel)",
   "language": "python",
   "name": "python3"
  },
  "language_info": {
   "codemirror_mode": {
    "name": "ipython",
    "version": 3
   },
   "file_extension": ".py",
   "mimetype": "text/x-python",
   "name": "python",
   "nbconvert_exporter": "python",
   "pygments_lexer": "ipython3",
   "version": "3.11.6"
  }
 },
 "nbformat": 4,
 "nbformat_minor": 4
}
