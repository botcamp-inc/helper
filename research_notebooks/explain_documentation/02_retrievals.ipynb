{
 "cells": [
  {
   "cell_type": "code",
   "execution_count": 1,
   "metadata": {
    "collapsed": true,
    "ExecuteTime": {
     "end_time": "2023-11-29T19:56:58.974555Z",
     "start_time": "2023-11-29T19:56:58.550692Z"
    }
   },
   "outputs": [],
   "source": [
    "from pprint import pprint\n",
    "from langchain.vectorstores.chroma import Chroma\n",
    "from langchain.embeddings import OpenAIEmbeddings\n",
    "from dotenv import load_dotenv\n",
    "\n",
    "load_dotenv()\n",
    "\n",
    "def print_documents_metadata(documents):\n",
    "    for i, document in enumerate(documents):\n",
    "        print(f\"Document {i}\")\n",
    "        pprint(document.metadata)"
   ]
  },
  {
   "cell_type": "code",
   "execution_count": 2,
   "outputs": [],
   "source": [
    "persist_directory = \"/Users/dardonacci/Documents/work/ai-assistant/vector_stores\"\n",
    "embedding = OpenAIEmbeddings()\n",
    "\n",
    "vectordb = Chroma(\n",
    "    collection_name=\"hummingbot_documentation\",\n",
    "    persist_directory=persist_directory,\n",
    "    embedding_function=embedding\n",
    ")"
   ],
   "metadata": {
    "collapsed": false,
    "ExecuteTime": {
     "end_time": "2023-11-29T19:57:02.096154Z",
     "start_time": "2023-11-29T19:57:01.844733Z"
    }
   }
  },
  {
   "cell_type": "code",
   "execution_count": 4,
   "outputs": [
    {
     "data": {
      "text/plain": "9779"
     },
     "execution_count": 4,
     "metadata": {},
     "output_type": "execute_result"
    }
   ],
   "source": [
    "vectordb._collection.count()"
   ],
   "metadata": {
    "collapsed": false,
    "ExecuteTime": {
     "end_time": "2023-11-29T19:57:17.877750Z",
     "start_time": "2023-11-29T19:57:17.873662Z"
    }
   }
  },
  {
   "cell_type": "code",
   "execution_count": 5,
   "outputs": [],
   "source": [
    "# Comparing similarity search with max marginal relevance search\n",
    "query = \"\"\"Can you explain me how to configure a pure market making strategy?\"\"\""
   ],
   "metadata": {
    "collapsed": false,
    "ExecuteTime": {
     "end_time": "2023-11-29T19:57:34.479522Z",
     "start_time": "2023-11-29T19:57:34.471744Z"
    }
   }
  },
  {
   "cell_type": "markdown",
   "source": [
    "# Similarity Search"
   ],
   "metadata": {
    "collapsed": false
   }
  },
  {
   "cell_type": "code",
   "execution_count": 6,
   "outputs": [
    {
     "name": "stdout",
     "output_type": "stream",
     "text": [
      "Document 0\n",
      "{'titles': '#refreshing-orders\\n'\n",
      "           '#strategy-tier\\n'\n",
      "           '#pure_market_making\\n'\n",
      "           '#strategy-info\\n'\n",
      "           '#executing-order-proposals\\n'\n",
      "           '#description\\n'\n",
      "           '#architecture\\n'\n",
      "           '#summary\\n'\n",
      "           '#example-order-flow\\n'\n",
      "           '#supported-exchange-types\\n'\n",
      "           '#i-more-resources\\n'\n",
      "           '#strategy-configs',\n",
      " 'url': 'https://docs.hummingbot.org/strategies/pure-market-making/'}\n",
      "Document 1\n",
      "{'titles': '#refreshing-orders\\n'\n",
      "           '#strategy-tier\\n'\n",
      "           '#pure_market_making\\n'\n",
      "           '#strategy-info\\n'\n",
      "           '#executing-order-proposals\\n'\n",
      "           '#description\\n'\n",
      "           '#architecture\\n'\n",
      "           '#summary\\n'\n",
      "           '#example-order-flow\\n'\n",
      "           '#supported-exchange-types\\n'\n",
      "           '#i-more-resources\\n'\n",
      "           '#strategy-configs',\n",
      " 'url': 'https://docs.hummingbot.org/strategies/pure-market-making/'}\n",
      "Document 2\n",
      "{'titles': '#refreshing-orders\\n'\n",
      "           '#strategy-tier\\n'\n",
      "           '#pure_market_making\\n'\n",
      "           '#strategy-info\\n'\n",
      "           '#executing-order-proposals\\n'\n",
      "           '#description\\n'\n",
      "           '#architecture\\n'\n",
      "           '#summary\\n'\n",
      "           '#example-order-flow\\n'\n",
      "           '#supported-exchange-types\\n'\n",
      "           '#i-more-resources\\n'\n",
      "           '#strategy-configs',\n",
      " 'url': 'https://docs.hummingbot.org/strategies/pure-market-making/'}\n",
      "Document 3\n",
      "{'titles': '#executing-order-proposals\\n'\n",
      "           '#strategy-info\\n'\n",
      "           '#strategy-tier\\n'\n",
      "           '#architecture\\n'\n",
      "           '#i-more-resources\\n'\n",
      "           '#example-order-flow\\n'\n",
      "           '#strategy-configs\\n'\n",
      "           '#description\\n'\n",
      "           '#refreshing-orders\\n'\n",
      "           '#pure_market_making\\n'\n",
      "           '#supported-exchange-types\\n'\n",
      "           '#summary',\n",
      " 'url': 'https://docs.hummingbot.org/strategies/pure-market-making/'}\n",
      "Document 4\n",
      "{'titles': '#refreshing-orders\\n'\n",
      "           '#strategy-tier\\n'\n",
      "           '#pure_market_making\\n'\n",
      "           '#strategy-info\\n'\n",
      "           '#executing-order-proposals\\n'\n",
      "           '#description\\n'\n",
      "           '#architecture\\n'\n",
      "           '#summary\\n'\n",
      "           '#example-order-flow\\n'\n",
      "           '#supported-exchange-types\\n'\n",
      "           '#i-more-resources\\n'\n",
      "           '#strategy-configs',\n",
      " 'url': 'https://docs.hummingbot.org/strategies/pure-market-making/'}\n",
      "Document 5\n",
      "{'titles': '#refreshing-orders\\n'\n",
      "           '#strategy-tier\\n'\n",
      "           '#pure_market_making\\n'\n",
      "           '#strategy-info\\n'\n",
      "           '#executing-order-proposals\\n'\n",
      "           '#description\\n'\n",
      "           '#architecture\\n'\n",
      "           '#summary\\n'\n",
      "           '#example-order-flow\\n'\n",
      "           '#supported-exchange-types\\n'\n",
      "           '#i-more-resources\\n'\n",
      "           '#strategy-configs',\n",
      " 'url': 'https://docs.hummingbot.org/strategies/pure-market-making/'}\n",
      "Document 6\n",
      "{'titles': '#executing-order-proposals\\n'\n",
      "           '#strategy-info\\n'\n",
      "           '#strategy-tier\\n'\n",
      "           '#architecture\\n'\n",
      "           '#i-more-resources\\n'\n",
      "           '#example-order-flow\\n'\n",
      "           '#strategy-configs\\n'\n",
      "           '#description\\n'\n",
      "           '#refreshing-orders\\n'\n",
      "           '#pure_market_making\\n'\n",
      "           '#supported-exchange-types\\n'\n",
      "           '#summary',\n",
      " 'url': 'https://docs.hummingbot.org/strategies/pure-market-making/'}\n",
      "Document 7\n",
      "{'titles': '#strategy-tier\\n'\n",
      "           '#order-placement\\n'\n",
      "           '#strategy-info\\n'\n",
      "           '#perpetual_market_making\\n'\n",
      "           '#exchanges-supported\\n'\n",
      "           '#description\\n'\n",
      "           '#architecture\\n'\n",
      "           '#summary\\n'\n",
      "           '#position-management\\n'\n",
      "           '#i-more-resources\\n'\n",
      "           '#strategy-configs',\n",
      " 'url': 'https://docs.hummingbot.org/strategies/perpetual-market-making/'}\n",
      "Document 8\n",
      "{'titles': '#list-of-configs\\n#how-to-configure',\n",
      " 'url': 'https://docs.hummingbot.org/strategy-configs/'}\n",
      "Document 9\n",
      "{'titles': '#list-of-configs\\n#how-to-configure',\n",
      " 'url': 'https://docs.hummingbot.org/strategy-configs/'}\n"
     ]
    }
   ],
   "source": [
    "similar_documents = vectordb.similarity_search(query=query, k=10)\n",
    "print_documents_metadata(similar_documents)"
   ],
   "metadata": {
    "collapsed": false,
    "ExecuteTime": {
     "end_time": "2023-11-29T19:57:48.855236Z",
     "start_time": "2023-11-29T19:57:47.826459Z"
    }
   }
  },
  {
   "cell_type": "markdown",
   "source": [
    "# Max Marginal Relevance Search"
   ],
   "metadata": {
    "collapsed": false
   }
  },
  {
   "cell_type": "markdown",
   "source": [],
   "metadata": {
    "collapsed": false
   }
  },
  {
   "cell_type": "code",
   "execution_count": 55,
   "outputs": [
    {
     "name": "stdout",
     "output_type": "stream",
     "text": [
      "Document 0\n",
      "('Pure Market Making - Hummingbot/nSkip to content/nHummingbot/nPure Market '\n",
      " 'Making/nInitializing '\n",
      " 'search/nhummingbot/hummingbot/nHome/nDocs/nAcademy/nBotcamp/nReleases/nBounties/nGovernance/nAbout/nBlog/nHummingbot/nhummingbot/hummingbot/nHome/nDocs/nDocs/nGetting '\n",
      " 'Started/nInstallation/nClient/nGateway/nDashboard/nStrategies/nStrategies/nV2 '\n",
      " 'Strategies/nV1 Strategies/nV1 Strategies/nPure Market Making/nPure Market '\n",
      " 'Making/nTable of contents/n📁 Strategy Info/n🏆 Strategy Tier/n📝 Summary/n🏦 '\n",
      " 'Supported Exchange Types/n🛠️ Strategy configs/n📓 '\n",
      " 'Description/nArchitecture/nRefreshing Orders/nExecuting Order '\n",
      " 'Proposals/nExample Order Flow/nℹ️ More Resources/nCross-Exchange Market '\n",
      " 'Making/nAMM Arbitrage/nAvellaneda Market Making/nCross-Exchange '\n",
      " 'Mining/nHedge/nLiquidity Mining/nPerpetual Market Making/nSpot Perpetual '\n",
      " 'Arbitrage/nTWAP/nUniswap v3 LP/nPMM Strategy '\n",
      " 'Configs/nScripts/nConnectors/nGlossary/nTroubleshooting/nAcademy/nAcademy/nLatest/nAll '\n",
      " 'Articles/nArchive/nCategories/nBotcamp/nBotcamp/nBotcamp '\n",
      " 'FAQ/nReleases/nReleases/nRelease '\n",
      " 'Process/n1.22.0/n1.21.0/n1.20.0/n1.19.0/n1.18.0/n1.17.0/n1.16.0/n1.15.0/n1.14.0/n1.13.0/n1.12.0/n1.11.0/n1.10.0/n1.9.0/n1.8.0/n1.7.0/n1.6.0/n1.5.0/n1.4.0/n1.3.0/n1.2.0/n1.1.1/n1.1.0/n1.0.1/n1.0.0/nBounties/nBounties/nFor '\n",
      " 'Sponsors/nFor Contributors/nContribution Guidelines/nForking the '\n",
      " 'Repository/nBounties Board '\n",
      " '↗️/nGovernance/nGovernance/nPolls/nProposals/nEpochs/nWhitepaper/nAbout/nAbout/nFAQ/nBoard '\n",
      " 'of Directors/nReported Volumes/nHistory/n📆 Calendar '\n",
      " '↗️/nBlog/nBlog/nArchive/nCategories/nTable of contents/n📁 Strategy Info/n🏆 '\n",
      " 'Strategy Tier/n📝 Summary/n🏦 Supported Exchange Types/n🛠️ Strategy configs/n📓 '\n",
      " 'Description/nArchitecture/nRefreshing Orders/nExecuting Order '\n",
      " 'Proposals/nExample Order Flow/nℹ️ More Resources/nHome/nDocs/nStrategies/nV1 '\n",
      " 'Strategies/npure_market_making/n¶/n📁 Strategy '\n",
      " 'Info/n¶/nFolder:/n/hummingbot/strategy/pure_market_making/nConfigs:/npure_market_making_config_map.py/nMaintainer: '\n",
      " 'Hummingbot Foundation/n🏆 Strategy Tier/n¶/nCore strategies are maintained '\n",
      " 'and continually improved by Hummingbot Foundation. Foundation staff focuses '\n",
      " 'on testing these strategies and rewards users who answer questions related '\n",
      " 'to these strategies on Discord./n📝 Summary/n¶/nThis strategy allows '\n",
      " 'Hummingbot users to run a market making strategy on a single trading pair on '\n",
      " 'a/nspot/nexchanges./nIt places limit buy (bid) and limit sell (ask) orders '\n",
      " 'on the order book at prices relative to the mid-price with spreads equal '\n",
      " 'to/nbid_spread/nand/nask_spread/n. Every/norder_refresh_time/nseconds, the '\n",
      " 'strategy replaces existing orders with new orders with refreshed spreads and '\n",
      " 'order amounts./nIn addition, the strategy contains a number of parameters to '\n",
      " 'enable traders to control how orders are placed relative to their inventory '\n",
      " 'position, use prices from a different order book, etc./n🏦 Supported Exchange '\n",
      " 'Types/n¶/nSPOT CLOB CEX/n🛠️ Strategy '\n",
      " 'configs/n¶/nParameter/nType/nDefault/nPrompt/nexchange/nstring/nEnter your '\n",
      " 'maker spot connector/nmarket/nstring/nEnter the token trading pair you would '\n",
      " 'like to trade on [exchange]/nbid_spread/ndecimal/nHow far away from the mid '\n",
      " 'price do you want to place the first bid order?/nask_spread/ndecimal/nHow '\n",
      " 'far away from the mid price do you want to place the first ask '\n",
      " 'order?/nminimum_spread/ndecimal/n-100/nAt what minimum spread should the bot '\n",
      " 'automatically cancel orders?/norder_refresh_time/nfloat/nHow often do you '\n",
      " 'want to cancel and replace bids and asks (in '\n",
      " 'seconds)?/nmax_order_age/nfloat/n1800/nHow often do you want to cancel and '\n",
      " 'replace bids and asks with the same price (in '\n",
      " 'seconds)?/norder_refresh_tolerance_pct/ndecimal/n0/nEnter the percent change '\n",
      " 'in price needed to refresh orders at each cycle/norder_amount/ndecimal/nWhat '\n",
      " 'is the amount of [base_asset] per order?/nprice_ceiling/ndecimal/n-1/nEnter '\n",
      " 'the price point above which only sell orders will be '\n",
      " 'placed/nprice_floor/ndecimal/n-1/nEnter the price below which only buy '\n",
      " 'orders will be placed/nmoving_price_band_enabled/nbool/nFalse/nWould you '\n",
      " 'like to enable moving price floor and ceiling? '\n",
      " '(Yes/No)/nprice_ceiling_pct/ndecimal/n1/nEnter a percentage to the current '\n",
      " 'price that sets the price ceiling. Above this price, only sell orders will '\n",
      " 'be placed/nprice_band_refresh_time/nfloat/n86400/nAfter this amount of time '\n",
      " '(in seconds), the price bands are reset based on the current '\n",
      " 'price/nping_pong_enabled/nbool/nFalse/nWould you like to use the ping pong '\n",
      " 'feature and alternate between buy and sell orders after '\n",
      " 'fills?/norder_levels/nint/n1/nHow many orders do you want to place on both '\n",
      " 'sides?/norder_level_amount/ndecimal/n0/nHow much do you want to increase or '\n",
      " 'decrease the order size for each additional '\n",
      " 'order?/norder_level_spread/ndecimal/n0/nEnter the price increments (as '\n",
      " 'percentage) for subsequent '\n",
      " 'orders?/ninventory_skew_enabled/nbool/nFalse/nWould you like to enable '\n",
      " 'inventory skew?/ninventory_target_base_pct/ndecimal/n50/nWhat is your target '\n",
      " 'base asset percentage?/ninventory_range_multiplier/ndecimal/n50/nWhat is '\n",
      " 'your tolerable range of inventory')\n",
      "Document 1\n",
      "('Pure Market Making - Hummingbot/nSkip to content/nHummingbot/nPure Market '\n",
      " 'Making/nInitializing '\n",
      " 'search/nhummingbot/hummingbot/nHome/nDocs/nAcademy/nBotcamp/nReleases/nBounties/nGovernance/nAbout/nBlog/nHummingbot/nhummingbot/hummingbot/nHome/nDocs/nDocs/nGetting '\n",
      " 'Started/nInstallation/nClient/nGateway/nDashboard/nStrategies/nStrategies/nV2 '\n",
      " 'Strategies/nV1 Strategies/nV1 Strategies/nPure Market Making/nPure Market '\n",
      " 'Making/nTable of contents/n📁 Strategy Info/n🏆 Strategy Tier/n📝 Summary/n🏦 '\n",
      " 'Supported Exchange Types/n🛠️ Strategy configs/n📓 '\n",
      " 'Description/nArchitecture/nRefreshing Orders/nExecuting Order '\n",
      " 'Proposals/nExample Order Flow/nℹ️ More Resources/nCross-Exchange Market '\n",
      " 'Making/nAMM Arbitrage/nAvellaneda Market Making/nCross-Exchange '\n",
      " 'Mining/nHedge/nLiquidity Mining/nPerpetual Market Making/nSpot Perpetual '\n",
      " 'Arbitrage/nTWAP/nUniswap v3 LP/nPMM Strategy '\n",
      " 'Configs/nScripts/nConnectors/nGlossary/nTroubleshooting/nAcademy/nAcademy/nLatest/nAll '\n",
      " 'Articles/nArchive/nCategories/nBotcamp/nBotcamp/nBotcamp '\n",
      " 'FAQ/nReleases/nReleases/nRelease '\n",
      " 'Process/n1.22.0/n1.21.0/n1.20.0/n1.19.0/n1.18.0/n1.17.0/n1.16.0/n1.15.0/n1.14.0/n1.13.0/n1.12.0/n1.11.0/n1.10.0/n1.9.0/n1.8.0/n1.7.0/n1.6.0/n1.5.0/n1.4.0/n1.3.0/n1.2.0/n1.1.1/n1.1.0/n1.0.1/n1.0.0/nBounties/nBounties/nFor '\n",
      " 'Sponsors/nFor Contributors/nContribution Guidelines/nForking the '\n",
      " 'Repository/nBounties Board '\n",
      " '↗️/nGovernance/nGovernance/nPolls/nProposals/nEpochs/nWhitepaper/nAbout/nAbout/nFAQ/nBoard '\n",
      " 'of Directors/nReported Volumes/nHistory/n📆 Calendar '\n",
      " '↗️/nBlog/nBlog/nArchive/nCategories/nTable of contents/n📁 Strategy Info/n🏆 '\n",
      " 'Strategy Tier/n📝 Summary/n🏦 Supported Exchange Types/n🛠️ Strategy configs/n📓 '\n",
      " 'Description/nArchitecture/nRefreshing Orders/nExecuting Order '\n",
      " 'Proposals/nExample Order Flow/nℹ️ More Resources/nHome/nDocs/nStrategies/nV1 '\n",
      " 'Strategies/npure_market_making/n¶/n📁 Strategy '\n",
      " 'Info/n¶/nFolder:/n/hummingbot/strategy/pure_market_making/nConfigs:/npure_market_making_config_map.py/nMaintainer: '\n",
      " 'Hummingbot Foundation/n🏆 Strategy Tier/n¶/nCore strategies are')\n",
      "Document 2\n",
      "('how it works./nArchitecture/n¶/nThe built-in pure market making strategy in '\n",
      " 'Hummingbot periodically requests limit order proposals from configurable '\n",
      " 'order pricing and sizing plugins, and also periodically refreshes the orders '\n",
      " \"by cancelling existing limit orders./nHere's a high level view of the logic \"\n",
      " 'flow inside the built-in pure market making strategy./nThe pure market '\n",
      " 'making strategy operates in a tick-by-tick manner. Each tick is typically 1 '\n",
      " 'second, although it can be programmatically modified to longer or shorter '\n",
      " 'durations./nAt each tick, the pure market making strategy would first query '\n",
      " 'the order filter plugin whether to proceed or not. Assuming the answer is '\n",
      " \"yes, then it'll query the order pricing and sizing plugins and calculate \"\n",
      " 'whether and what market making orders it should emit. At the same time, '\n",
      " \"it'll also look at any existing limit orders it previously placed on the \"\n",
      " 'market and decide whether it should cancel those./nThe process repeats over '\n",
      " 'and over at each tick, causing limit orders to be periodically placed and '\n",
      " 'cancelled according to the proposals made by the order pricing and sizing '\n",
      " 'plugins./nRefreshing Orders/n¶/nFor each limit order that was emitted by the '\n",
      " 'pure market making strategy, an expiry timestamp would be generated for that '\n",
      " 'order and the order will be tracked by the strategy. The time until expiry '\n",
      " 'for new orders is configured via the/norder_refresh_time/nparameter./nAfter '\n",
      " \"an order's expiration time is reached, the pure market making strategy will \"\n",
      " 'create a cancel order proposal for that order./nExecuting Order '\n",
      " 'Proposals/n¶/nAfter collecting all the order pricing, sizing and cancel '\n",
      " 'order proposals from plugins and the internal refresh order logic - the pure '\n",
      " 'market making strategy logic will merge all of the proposals and execute '\n",
      " 'them./nExample Order Flow/n¶/nBelow is a hypothetical example of how the '\n",
      " 'pure market making strategy works for a few clock ticks./nAt clock '\n",
      " 'tick/nt/n, there may be existing limit orders on both the bid and ask sides,')\n",
      "Document 3\n",
      "('Perpetual Market Making - Hummingbot/nSkip to content/nHummingbot/nPerpetual '\n",
      " 'Market Making/nInitializing '\n",
      " 'search/nhummingbot/hummingbot/nHome/nDocs/nAcademy/nBotcamp/nReleases/nBounties/nGovernance/nAbout/nBlog/nHummingbot/nhummingbot/hummingbot/nHome/nDocs/nDocs/nGetting '\n",
      " 'Started/nInstallation/nClient/nGateway/nDashboard/nStrategies/nStrategies/nV2 '\n",
      " 'Strategies/nV1 Strategies/nV1 Strategies/nPure Market Making/nCross-Exchange '\n",
      " 'Market Making/nAMM Arbitrage/nAvellaneda Market Making/nCross-Exchange '\n",
      " 'Mining/nHedge/nLiquidity Mining/nPerpetual Market Making/nPerpetual Market '\n",
      " 'Making/nTable of contents/n📁 Strategy Info/n🏆 Strategy Tier/n📝 Summary/n🏦 '\n",
      " 'Exchanges supported/n🛠️ Strategy configs/n📓 Description/nArchitecture/nOrder '\n",
      " 'Placement/nPosition Management/nℹ️ More Resources/nSpot Perpetual '\n",
      " 'Arbitrage/nTWAP/nUniswap v3 LP/nPMM Strategy '\n",
      " 'Configs/nScripts/nConnectors/nGlossary/nTroubleshooting/nAcademy/nAcademy/nLatest/nAll '\n",
      " 'Articles/nArchive/nCategories/nBotcamp/nBotcamp/nBotcamp '\n",
      " 'FAQ/nReleases/nReleases/nRelease '\n",
      " 'Process/n1.22.0/n1.21.0/n1.20.0/n1.19.0/n1.18.0/n1.17.0/n1.16.0/n1.15.0/n1.14.0/n1.13.0/n1.12.0/n1.11.0/n1.10.0/n1.9.0/n1.8.0/n1.7.0/n1.6.0/n1.5.0/n1.4.0/n1.3.0/n1.2.0/n1.1.1/n1.1.0/n1.0.1/n1.0.0/nBounties/nBounties/nFor '\n",
      " 'Sponsors/nFor Contributors/nContribution Guidelines/nForking the '\n",
      " 'Repository/nBounties Board '\n",
      " '↗️/nGovernance/nGovernance/nPolls/nProposals/nEpochs/nWhitepaper/nAbout/nAbout/nFAQ/nBoard '\n",
      " 'of Directors/nReported Volumes/nHistory/n📆 Calendar '\n",
      " '↗️/nBlog/nBlog/nArchive/nCategories/nTable of contents/n📁 Strategy Info/n🏆 '\n",
      " 'Strategy Tier/n📝 Summary/n🏦 Exchanges supported/n🛠️ Strategy configs/n📓 '\n",
      " 'Description/nArchitecture/nOrder Placement/nPosition Management/nℹ️ More '\n",
      " 'Resources/nHome/nDocs/nStrategies/nV1 '\n",
      " 'Strategies/nperpetual_market_making/n¶/n📁 Strategy '\n",
      " 'Info/n¶/nFolder:/n/hummingbot/strategy/perpetual_market_making/nConfigs:/nperpetual_market_making_config_map.py/nMaintainer:/n🏆 '\n",
      " 'Strategy Tier/n¶/nCommunity strategies have passed the Minimum Voting Power '\n",
      " 'Threshold in the latest Poll and are included in each monthly release. They '\n",
      " 'are not maintained by Hummingbot Foundation but may be maintained by a '\n",
      " 'community member./n📝 Summary/n¶/nThis strategy allows Hummingbot users to '\n",
      " 'run a market making strategy on a single trading pair on a perpetuals swap '\n",
      " '(/nperp/n) order book exchange./nSimilar to '\n",
      " 'the/npure_market_making_strategy/n, the/nperpetual_market_making/nstrategy '\n",
      " 'keeps placing limit buy and sell orders on the order book and waits for '\n",
      " 'other participants (takers) to fill its orders. But unlike market making on '\n",
      " 'spot markets, where assets are being exchanged, market making on perpetual '\n",
      " 'markets creates and closes positions. Since outstanding perpetual swap '\n",
      " 'positions are created after fills, the strategy has a number of parameters '\n",
      " 'to determine when positions are closed to take profits and prevent '\n",
      " 'losses./n🏦 Exchanges supported/n¶/nPERP CLOB CEX/n🛠️ Strategy '\n",
      " 'configs/n¶/nParameter/nType/nDefault/nPrompt '\n",
      " 'New?/nPrompt/nderivative/nstring/nTrue/nEnter your maker derivative '\n",
      " 'connector/nmarket/nstring/nTrue/nEnter the trading pair you would like to '\n",
      " 'provide liquidity on [exchange]/nleverage/nint/nTrue/nHow much leverage do '\n",
      " 'you want to use?/nposition_mode/nstring/nOne-way/nTrue/nWhich position mode '\n",
      " 'do you want to use? (One-way/Hedge)/nbid_spread/ndecimal/nTrue/nHow far away '\n",
      " 'from the mid price do you want to place the first bid '\n",
      " 'order?/nask_spread/ndecimal/nTrue/nHow far away from the mid price do you '\n",
      " 'want to place the first ask order?/nminimum_spread/ndecimal/n-100/nFalse/nAt '\n",
      " 'what minimum spread should the bot automatically cancel '\n",
      " 'orders?/norder_refresh_time/nfloat/nTrue/nHow often do you want to cancel '\n",
      " 'and replace bids and asks (in '\n",
      " 'seconds)?/norder_refresh_tolerance_pct/ndecimal/n0/nFalse/nEnter the percent '\n",
      " 'change in price needed to refresh orders at each '\n",
      " 'cycle/norder_amount/ndecimal/nTrue/nWhat is the amount of [base_asset] per '\n",
      " 'order?/nlong_profit_taking_spread/ndecimal/n0/nTrue/nAt what spread from the '\n",
      " 'entry price do you want to place a short order to reduce '\n",
      " 'position?/nshort_profit_taking_spread/nstring/n0/nTrue/nAt what spread from '\n",
      " 'the position entry price do you want to place a long order to reduce '\n",
      " 'position?/nstop_loss_spread/nstring/n0/nTrue/nAt what spread from position '\n",
      " 'entry price do you want to place stop_loss '\n",
      " 'order?/ntime_between_stop_loss_orders/ndecimal/n60/nTrue/nHow much time '\n",
      " 'should pass before refreshing a stop loss order that has not been executed? '\n",
      " '(in seconds)/nstop_loss_slippage_buffer/ndecimal/n0.5/nTrue/nHow much buffer '\n",
      " \"should be added in stop loss orders' price to account for slippage (Enter 1 \"\n",
      " 'for 1%)?/nprice_ceiling/ndecimal/n-1/nFalse/nEnter the price point above '\n",
      " 'which only sell orders will be '\n",
      " 'placed/nprice_floor/ndecimal/n-1/nFalse/nEnter the price below which only '\n",
      " 'buy orders will be placed/norder_levels/nint/n1/nFalse/nHow many orders do '\n",
      " 'you want to place on both sides?/norder_level_amount/ndecimal/n0/nFalse/nHow '\n",
      " 'much do you want to increase or decrease the order size for each additional '\n",
      " 'order? (decrease < 0')\n",
      "Document 4\n",
      "('PMM Strategy Configs - Hummingbot/nSkip to content/nHummingbot/nPMM Strategy '\n",
      " 'Configs/nInitializing '\n",
      " 'search/nhummingbot/hummingbot/nHome/nDocs/nAcademy/nBotcamp/nReleases/nBounties/nGovernance/nAbout/nBlog/nHummingbot/nhummingbot/hummingbot/nHome/nDocs/nDocs/nGetting '\n",
      " 'Started/nInstallation/nClient/nGateway/nDashboard/nStrategies/nStrategies/nV2 '\n",
      " 'Strategies/nV1 Strategies/nV1 Strategies/nPure Market Making/nCross-Exchange '\n",
      " 'Market Making/nAMM Arbitrage/nAvellaneda Market Making/nCross-Exchange '\n",
      " 'Mining/nHedge/nLiquidity Mining/nPerpetual Market Making/nSpot Perpetual '\n",
      " 'Arbitrage/nTWAP/nUniswap v3 LP/nPMM Strategy Configs/nPMM Strategy '\n",
      " 'Configs/nAdd Transaction Costs/nOrder Levels/nFilled Order Delay/nHanging '\n",
      " 'Orders/nMinimum Spread/nOrder Refresh Tolerance/nOrder '\n",
      " 'Optimization/nInventory Skew/nMax Order Age/nOrder Override/nPrice '\n",
      " 'Band/nPrice Source/nPing '\n",
      " 'Pong/nScripts/nConnectors/nGlossary/nTroubleshooting/nAcademy/nAcademy/nLatest/nAll '\n",
      " 'Articles/nArchive/nCategories/nBotcamp/nBotcamp/nBotcamp '\n",
      " 'FAQ/nReleases/nReleases/nRelease '\n",
      " 'Process/n1.22.0/n1.21.0/n1.20.0/n1.19.0/n1.18.0/n1.17.0/n1.16.0/n1.15.0/n1.14.0/n1.13.0/n1.12.0/n1.11.0/n1.10.0/n1.9.0/n1.8.0/n1.7.0/n1.6.0/n1.5.0/n1.4.0/n1.3.0/n1.2.0/n1.1.1/n1.1.0/n1.0.1/n1.0.0/nBounties/nBounties/nFor '\n",
      " 'Sponsors/nFor Contributors/nContribution Guidelines/nForking the '\n",
      " 'Repository/nBounties Board '\n",
      " '↗️/nGovernance/nGovernance/nPolls/nProposals/nEpochs/nWhitepaper/nAbout/nAbout/nFAQ/nBoard '\n",
      " 'of Directors/nReported Volumes/nHistory/n📆 Calendar '\n",
      " '↗️/nBlog/nBlog/nArchive/nCategories/nTable of contents/nHow to '\n",
      " 'configure/nList of configs/nHome/nDocs/nStrategies/nV1 Strategies/nPMM '\n",
      " 'Strategy Configs/nPMM Strategy Configs/nBelow are configurable variables '\n",
      " 'that are available in the/nPure Market Making strategy/n. They give you more '\n",
      " 'control over how your market making bot behaves./nHow to configure/n¶/nThere '\n",
      " 'are two ways to configure these parameters:/nRun/nconfig/nto see the current '\n",
      " 'strategy settings. Run command/nconfig [parameter_name]/nto reconfigure the')\n"
     ]
    }
   ],
   "source": [
    "mmr_documents = vectordb.max_marginal_relevance_search(query=query, k=5, fetch_k=10)\n",
    "for i, document in enumerate(mmr_documents):\n",
    "    print(f\"Document {i}\")\n",
    "    pprint(document.page_content)"
   ],
   "metadata": {
    "collapsed": false,
    "ExecuteTime": {
     "end_time": "2023-11-29T20:47:31.826090Z",
     "start_time": "2023-11-29T20:47:31.471826Z"
    }
   }
  },
  {
   "cell_type": "markdown",
   "source": [
    "# SelfQueryRetriever\n",
    "\n",
    "Using Runnables to construct the query"
   ],
   "metadata": {
    "collapsed": false
   }
  },
  {
   "cell_type": "code",
   "execution_count": 47,
   "outputs": [],
   "source": [
    "from langchain.chains.query_constructor.base import AttributeInfo\n",
    "from langchain.llms.openai import OpenAI\n",
    "from langchain.retrievers.self_query.base import SelfQueryRetriever\n",
    "\n",
    "\n",
    "document_content_description = \"Documentation of Hummingbot\"\n",
    "metadata_field_info = [\n",
    "    AttributeInfo(\n",
    "        name=\"url\",\n",
    "        description=\"The url where the information is collected\",\n",
    "        type=\"string\",\n",
    "    ),\n",
    "    AttributeInfo(\n",
    "        name=\"titles\",\n",
    "        description=\"The titles that are present in the page, all of them start with the symbol #. This field is important to understand the major topics that the documentation page includes.\",\n",
    "        type=\"string\",\n",
    "    ),\n",
    "]"
   ],
   "metadata": {
    "collapsed": false,
    "ExecuteTime": {
     "end_time": "2023-11-29T20:43:30.533025Z",
     "start_time": "2023-11-29T20:43:30.527452Z"
    }
   }
  },
  {
   "cell_type": "code",
   "execution_count": 48,
   "outputs": [],
   "source": [
    "llm = OpenAI(temperature=0)\n",
    "retriever = SelfQueryRetriever.from_llm(\n",
    "    llm,\n",
    "    vectordb,\n",
    "    document_content_description,\n",
    "    metadata_field_info,\n",
    "    enable_limit=True\n",
    ")"
   ],
   "metadata": {
    "collapsed": false,
    "ExecuteTime": {
     "end_time": "2023-11-29T20:43:39.363941Z",
     "start_time": "2023-11-29T20:43:39.279022Z"
    }
   }
  },
  {
   "cell_type": "code",
   "execution_count": 49,
   "outputs": [
    {
     "name": "stdout",
     "output_type": "stream",
     "text": [
      "Document 0\n",
      "{'titles': '#refreshing-orders\\n'\n",
      "           '#strategy-tier\\n'\n",
      "           '#pure_market_making\\n'\n",
      "           '#strategy-info\\n'\n",
      "           '#executing-order-proposals\\n'\n",
      "           '#description\\n'\n",
      "           '#architecture\\n'\n",
      "           '#summary\\n'\n",
      "           '#example-order-flow\\n'\n",
      "           '#supported-exchange-types\\n'\n",
      "           '#i-more-resources\\n'\n",
      "           '#strategy-configs',\n",
      " 'url': 'https://docs.hummingbot.org/strategies/pure-market-making/'}\n",
      "Document 1\n",
      "{'titles': '#refreshing-orders\\n'\n",
      "           '#strategy-tier\\n'\n",
      "           '#pure_market_making\\n'\n",
      "           '#strategy-info\\n'\n",
      "           '#executing-order-proposals\\n'\n",
      "           '#description\\n'\n",
      "           '#architecture\\n'\n",
      "           '#summary\\n'\n",
      "           '#example-order-flow\\n'\n",
      "           '#supported-exchange-types\\n'\n",
      "           '#i-more-resources\\n'\n",
      "           '#strategy-configs',\n",
      " 'url': 'https://docs.hummingbot.org/strategies/pure-market-making/'}\n",
      "Document 2\n",
      "{'titles': '#refreshing-orders\\n'\n",
      "           '#strategy-tier\\n'\n",
      "           '#pure_market_making\\n'\n",
      "           '#strategy-info\\n'\n",
      "           '#executing-order-proposals\\n'\n",
      "           '#description\\n'\n",
      "           '#architecture\\n'\n",
      "           '#summary\\n'\n",
      "           '#example-order-flow\\n'\n",
      "           '#supported-exchange-types\\n'\n",
      "           '#i-more-resources\\n'\n",
      "           '#strategy-configs',\n",
      " 'url': 'https://docs.hummingbot.org/strategies/pure-market-making/'}\n",
      "Document 3\n",
      "{'titles': '#executing-order-proposals\\n'\n",
      "           '#strategy-info\\n'\n",
      "           '#strategy-tier\\n'\n",
      "           '#architecture\\n'\n",
      "           '#i-more-resources\\n'\n",
      "           '#example-order-flow\\n'\n",
      "           '#strategy-configs\\n'\n",
      "           '#description\\n'\n",
      "           '#refreshing-orders\\n'\n",
      "           '#pure_market_making\\n'\n",
      "           '#supported-exchange-types\\n'\n",
      "           '#summary',\n",
      " 'url': 'https://docs.hummingbot.org/strategies/pure-market-making/'}\n"
     ]
    }
   ],
   "source": [
    "print_documents_metadata(retriever.get_relevant_documents(query, k=6))"
   ],
   "metadata": {
    "collapsed": false,
    "ExecuteTime": {
     "end_time": "2023-11-29T20:43:50.229635Z",
     "start_time": "2023-11-29T20:43:48.484544Z"
    }
   }
  },
  {
   "cell_type": "code",
   "execution_count": 12,
   "outputs": [],
   "source": [
    "document_contents = \"Hummingbot scripts\"\n",
    "llm = OpenAI(temperature=0)\n",
    "retriever = SelfQueryRetriever.from_llm(\n",
    "    llm=llm,\n",
    "    vectorstore=vectordb,\n",
    "    document_contents=document_contents,\n",
    "    metadata_field_info=metadata_field_info,\n",
    "    verbose=True\n",
    ")"
   ],
   "metadata": {
    "collapsed": false,
    "ExecuteTime": {
     "end_time": "2023-11-28T17:15:18.010155Z",
     "start_time": "2023-11-28T17:15:17.987063Z"
    }
   }
  },
  {
   "cell_type": "code",
   "execution_count": 13,
   "outputs": [],
   "source": [
    "relevant_docs = retriever.get_relevant_documents(query=query, k=2)"
   ],
   "metadata": {
    "collapsed": false,
    "ExecuteTime": {
     "end_time": "2023-11-28T17:15:20.066908Z",
     "start_time": "2023-11-28T17:15:18.474277Z"
    }
   }
  },
  {
   "cell_type": "code",
   "execution_count": 14,
   "outputs": [
    {
     "name": "stdout",
     "output_type": "stream",
     "text": [
      "Document 0\n",
      "{'content_type': 'functions_classes',\n",
      " 'language': 'python',\n",
      " 'source': '/Users/dardonacci/Documents/work/hummingbot/scripts/v2_directional-trading_macd_bb_v1.py'}\n",
      "Document 1\n",
      "{'content_type': 'functions_classes',\n",
      " 'language': 'python',\n",
      " 'source': '/Users/dardonacci/Documents/work/hummingbot/scripts/v2_directional-trading_macd_bb_v1.py'}\n",
      "Document 2\n",
      "{'content_type': 'simplified_code',\n",
      " 'language': 'python',\n",
      " 'source': '/Users/dardonacci/Documents/work/hummingbot/scripts/archived_scripts/examples_using_smart_components/directional_strategy_macd_bb.py'}\n",
      "Document 3\n",
      "{'content_type': 'simplified_code',\n",
      " 'language': 'python',\n",
      " 'source': '/Users/dardonacci/Documents/work/hummingbot/scripts/archived_scripts/examples_using_smart_components/directional_strategy_macd_bb.py'}\n"
     ]
    }
   ],
   "source": [
    "print_documents_metadata(relevant_docs)"
   ],
   "metadata": {
    "collapsed": false,
    "ExecuteTime": {
     "end_time": "2023-11-28T17:15:20.070926Z",
     "start_time": "2023-11-28T17:15:20.068212Z"
    }
   }
  },
  {
   "cell_type": "markdown",
   "source": [
    "# Compressor"
   ],
   "metadata": {
    "collapsed": false
   }
  },
  {
   "cell_type": "code",
   "execution_count": 50,
   "outputs": [],
   "source": [
    "from langchain.retrievers import ContextualCompressionRetriever\n",
    "from langchain.retrievers.document_compressors import LLMChainExtractor\n",
    "from langchain.llms.openai import OpenAI"
   ],
   "metadata": {
    "collapsed": false,
    "ExecuteTime": {
     "end_time": "2023-11-29T20:45:10.023375Z",
     "start_time": "2023-11-29T20:45:10.019292Z"
    }
   }
  },
  {
   "cell_type": "code",
   "execution_count": 51,
   "outputs": [],
   "source": [
    "# Wrap our vectorstore\n",
    "llm = OpenAI(temperature=0)\n",
    "compressor = LLMChainExtractor.from_llm(llm)\n",
    "compression_retriever = ContextualCompressionRetriever(\n",
    "    base_compressor=compressor,\n",
    "    base_retriever=vectordb.as_retriever(search_type=\"mmr\"),\n",
    "    verbose=True\n",
    ")"
   ],
   "metadata": {
    "collapsed": false,
    "ExecuteTime": {
     "end_time": "2023-11-29T20:45:11.200311Z",
     "start_time": "2023-11-29T20:45:11.196725Z"
    }
   }
  },
  {
   "cell_type": "code",
   "execution_count": 52,
   "outputs": [
    {
     "name": "stderr",
     "output_type": "stream",
     "text": [
      "/Users/dardonacci/anaconda3/envs/ai-assistant/lib/python3.11/site-packages/langchain/chains/llm.py:321: UserWarning: The predict_and_parse method is deprecated, instead pass an output parser directly to LLMChain.\n",
      "  warnings.warn(\n",
      "/Users/dardonacci/anaconda3/envs/ai-assistant/lib/python3.11/site-packages/langchain/chains/llm.py:321: UserWarning: The predict_and_parse method is deprecated, instead pass an output parser directly to LLMChain.\n",
      "  warnings.warn(\n",
      "/Users/dardonacci/anaconda3/envs/ai-assistant/lib/python3.11/site-packages/langchain/chains/llm.py:321: UserWarning: The predict_and_parse method is deprecated, instead pass an output parser directly to LLMChain.\n",
      "  warnings.warn(\n",
      "/Users/dardonacci/anaconda3/envs/ai-assistant/lib/python3.11/site-packages/langchain/chains/llm.py:321: UserWarning: The predict_and_parse method is deprecated, instead pass an output parser directly to LLMChain.\n",
      "  warnings.warn(\n"
     ]
    }
   ],
   "source": [
    "compressed_docs = compression_retriever.get_relevant_documents(query=query, k=6, fetch_k=15)"
   ],
   "metadata": {
    "collapsed": false,
    "ExecuteTime": {
     "end_time": "2023-11-29T20:45:39.811821Z",
     "start_time": "2023-11-29T20:45:28.956426Z"
    }
   }
  },
  {
   "cell_type": "code",
   "execution_count": 53,
   "outputs": [
    {
     "data": {
      "text/plain": "'\"From the beginning, our mission has been to democratize high-frequency trading with open source software.\" \"As we wrote in the original Hummingbot whitepaper, market making is an important function critical to organic, efficient markets that should be decentralized to prevent the concentration risk that exists in traditional finance.\" \"Market making is the act of simultaneously creating buy and sell orders for an asset in a market.\" \"Market makers play an important role in providing liquidity to financial markets, especially in the highly fragmented cryptocurrency industry.\"'"
     },
     "execution_count": 53,
     "metadata": {},
     "output_type": "execute_result"
    }
   ],
   "source": [
    "compressed_docs[3].page_content"
   ],
   "metadata": {
    "collapsed": false,
    "ExecuteTime": {
     "end_time": "2023-11-29T20:45:53.741832Z",
     "start_time": "2023-11-29T20:45:53.738517Z"
    }
   }
  },
  {
   "cell_type": "code",
   "execution_count": 54,
   "outputs": [
    {
     "data": {
      "text/plain": "4"
     },
     "execution_count": 54,
     "metadata": {},
     "output_type": "execute_result"
    }
   ],
   "source": [
    "len(compressed_docs)"
   ],
   "metadata": {
    "collapsed": false,
    "ExecuteTime": {
     "end_time": "2023-11-29T20:46:18.951619Z",
     "start_time": "2023-11-29T20:46:18.948712Z"
    }
   }
  }
 ],
 "metadata": {
  "kernelspec": {
   "display_name": "Python 3",
   "language": "python",
   "name": "python3"
  },
  "language_info": {
   "codemirror_mode": {
    "name": "ipython",
    "version": 2
   },
   "file_extension": ".py",
   "mimetype": "text/x-python",
   "name": "python",
   "nbconvert_exporter": "python",
   "pygments_lexer": "ipython2",
   "version": "2.7.6"
  }
 },
 "nbformat": 4,
 "nbformat_minor": 0
}
