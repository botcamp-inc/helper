{
 "cells": [
  {
   "cell_type": "code",
   "execution_count": 35,
   "metadata": {
    "ExecuteTime": {
     "end_time": "2023-11-29T19:56:58.974555Z",
     "start_time": "2023-11-29T19:56:58.550692Z"
    }
   },
   "outputs": [],
   "source": [
    "from pprint import pprint\n",
    "from langchain.vectorstores.chroma import Chroma\n",
    "from langchain.embeddings import OpenAIEmbeddings\n",
    "from dotenv import load_dotenv\n",
    "\n",
    "load_dotenv()\n",
    "\n",
    "def print_documents_metadata(documents):\n",
    "    for i, document in enumerate(documents):\n",
    "        print(f\"Document {i}\")\n",
    "        pprint(document.metadata)"
   ]
  },
  {
   "cell_type": "code",
   "execution_count": 36,
   "metadata": {
    "ExecuteTime": {
     "end_time": "2023-11-29T19:57:02.096154Z",
     "start_time": "2023-11-29T19:57:01.844733Z"
    },
    "collapsed": false,
    "jupyter": {
     "outputs_hidden": false
    }
   },
   "outputs": [],
   "source": [
    "# Replace with persist_directory location from 01_load_hummingbot_docs.ipnynb\n",
    "persist_directory = \"/Users/feng/Code/ai-assistant/vector_stores\"\n",
    "\n",
    "embedding = OpenAIEmbeddings()\n",
    "\n",
    "vectordb = Chroma(\n",
    "    collection_name=\"hummingbot_documentation\",\n",
    "    persist_directory=persist_directory,\n",
    "    embedding_function=embedding\n",
    ")"
   ]
  },
  {
   "cell_type": "code",
   "execution_count": 37,
   "metadata": {
    "ExecuteTime": {
     "end_time": "2023-11-29T19:57:17.877750Z",
     "start_time": "2023-11-29T19:57:17.873662Z"
    },
    "collapsed": false,
    "jupyter": {
     "outputs_hidden": false
    }
   },
   "outputs": [
    {
     "data": {
      "text/plain": [
       "11758"
      ]
     },
     "execution_count": 37,
     "metadata": {},
     "output_type": "execute_result"
    }
   ],
   "source": [
    "vectordb._collection.count()"
   ]
  },
  {
   "cell_type": "code",
   "execution_count": 38,
   "metadata": {
    "ExecuteTime": {
     "end_time": "2023-11-29T19:57:34.479522Z",
     "start_time": "2023-11-29T19:57:34.471744Z"
    },
    "collapsed": false,
    "jupyter": {
     "outputs_hidden": false
    }
   },
   "outputs": [],
   "source": [
    "# Comparing similarity search with max marginal relevance search\n",
    "query = \"\"\"Can you explain me how to configure a pure market making strategy?\"\"\""
   ]
  },
  {
   "cell_type": "markdown",
   "metadata": {
    "collapsed": false,
    "jupyter": {
     "outputs_hidden": false
    }
   },
   "source": [
    "# Similarity Search"
   ]
  },
  {
   "cell_type": "code",
   "execution_count": 39,
   "metadata": {
    "ExecuteTime": {
     "end_time": "2023-11-29T19:57:48.855236Z",
     "start_time": "2023-11-29T19:57:47.826459Z"
    },
    "collapsed": false,
    "jupyter": {
     "outputs_hidden": false
    }
   },
   "outputs": [
    {
     "name": "stdout",
     "output_type": "stream",
     "text": [
      "Document 0\n",
      "{'titles': '#strategy-info\\n'\n",
      "           '#architecture\\n'\n",
      "           '#i-more-resources\\n'\n",
      "           '#refreshing-orders\\n'\n",
      "           '#strategy-tier\\n'\n",
      "           '#example-order-flow\\n'\n",
      "           '#executing-order-proposals\\n'\n",
      "           '#supported-exchange-types\\n'\n",
      "           '#pure_market_making\\n'\n",
      "           '#strategy-configs\\n'\n",
      "           '#summary\\n'\n",
      "           '#description',\n",
      " 'url': 'https://hummingbot.org/strategies/pure-market-making/'}\n",
      "Document 1\n",
      "{'titles': '#strategy-info\\n'\n",
      "           '#architecture\\n'\n",
      "           '#i-more-resources\\n'\n",
      "           '#refreshing-orders\\n'\n",
      "           '#strategy-tier\\n'\n",
      "           '#example-order-flow\\n'\n",
      "           '#executing-order-proposals\\n'\n",
      "           '#supported-exchange-types\\n'\n",
      "           '#pure_market_making\\n'\n",
      "           '#strategy-configs\\n'\n",
      "           '#summary\\n'\n",
      "           '#description',\n",
      " 'url': 'https://hummingbot.org/strategies/pure-market-making/'}\n",
      "Document 2\n",
      "{'titles': '#how-to-configure\\n#list-of-configs',\n",
      " 'url': 'https://hummingbot.org/strategy-configs/'}\n",
      "Document 3\n",
      "{'titles': '#strategy-info\\n'\n",
      "           '#architecture\\n'\n",
      "           '#i-more-resources\\n'\n",
      "           '#refreshing-orders\\n'\n",
      "           '#strategy-tier\\n'\n",
      "           '#example-order-flow\\n'\n",
      "           '#executing-order-proposals\\n'\n",
      "           '#supported-exchange-types\\n'\n",
      "           '#pure_market_making\\n'\n",
      "           '#strategy-configs\\n'\n",
      "           '#summary\\n'\n",
      "           '#description',\n",
      " 'url': 'https://hummingbot.org/strategies/pure-market-making/'}\n",
      "Document 4\n",
      "{'titles': '#strategy-info\\n'\n",
      "           '#architecture\\n'\n",
      "           '#perpetual_market_making\\n'\n",
      "           '#position-management\\n'\n",
      "           '#i-more-resources\\n'\n",
      "           '#strategy-tier\\n'\n",
      "           '#order-placement\\n'\n",
      "           '#exchanges-supported\\n'\n",
      "           '#strategy-configs\\n'\n",
      "           '#summary\\n'\n",
      "           '#description',\n",
      " 'url': 'https://hummingbot.org/strategies/perpetual-market-making/'}\n",
      "Document 5\n",
      "{'titles': '#strategy-info\\n'\n",
      "           '#cross_exchange_market_making\\n'\n",
      "           '#i-more-resources\\n'\n",
      "           '#strategy-configs\\n'\n",
      "           '#summary\\n'\n",
      "           '#live-configuration\\n'\n",
      "           '#strategy-tier\\n'\n",
      "           '#is-hedging-profitable\\n'\n",
      "           '#hedging-order-fills\\n'\n",
      "           '#create-order-flow\\n'\n",
      "           '#cancel-order-flow\\n'\n",
      "           '#architecture\\n'\n",
      "           '#order-creation-and-adjustment\\n'\n",
      "           '#is-there-sufficient-account-balance\\n'\n",
      "           '#is-the-price-correct\\n'\n",
      "           '#description\\n'\n",
      "           '#decentralized-exchanges-gateway\\n'\n",
      "           '#supported-exchange-types\\n'\n",
      "           '#active-order-cancellation-setting',\n",
      " 'url': 'https://hummingbot.org/strategies/cross-exchange-market-making/'}\n",
      "Document 6\n",
      "{'titles': '#strategy-info\\n'\n",
      "           '#cross_exchange_market_making\\n'\n",
      "           '#i-more-resources\\n'\n",
      "           '#strategy-configs\\n'\n",
      "           '#summary\\n'\n",
      "           '#live-configuration\\n'\n",
      "           '#strategy-tier\\n'\n",
      "           '#is-hedging-profitable\\n'\n",
      "           '#hedging-order-fills\\n'\n",
      "           '#create-order-flow\\n'\n",
      "           '#cancel-order-flow\\n'\n",
      "           '#architecture\\n'\n",
      "           '#order-creation-and-adjustment\\n'\n",
      "           '#is-there-sufficient-account-balance\\n'\n",
      "           '#is-the-price-correct\\n'\n",
      "           '#description\\n'\n",
      "           '#decentralized-exchanges-gateway\\n'\n",
      "           '#supported-exchange-types\\n'\n",
      "           '#active-order-cancellation-setting',\n",
      " 'url': 'https://hummingbot.org/strategies/cross-exchange-market-making/'}\n",
      "Document 7\n",
      "{'titles': '#who-runs-the-hummingbot-foundation\\n'\n",
      "           '#why-is-hummingbot-open-source\\n'\n",
      "           '#what-is-gateway\\n'\n",
      "           '#hummingbot-foundation\\n'\n",
      "           '#what-does-the-hummingbot-foundation-do\\n'\n",
      "           '#does-the-foundation-plan-to-list-hbot-on-any-crypto-exchange\\n'\n",
      "           '#what-can-i-do-with-the-hbot-token\\n'\n",
      "           '#hummingbot-client\\n'\n",
      "           '#will-voting-with-hbot-cost-gas-or-incur-other-transaction-fees\\n'\n",
      "           '#how-do-i-use-gateway-with-hummingbot\\n'\n",
      "           '#can-gateway-help-me-build-mev-bots\\n'\n",
      "           '#how-do-people-use-hummingbot\\n'\n",
      "           '#what-background-information-should-i-learn-before-building-dex-bots-with-gateway\\n'\n",
      "           '#how-do-i-use-hummingbot-on-a-amm-dex-like-uniswap\\n'\n",
      "           '#gateway-middleware\\n'\n",
      "           '#how-do-i-know-that-im-using-the-correct-hbot-token\\n'\n",
      "           '#how-does-the-foundation-plan-to-distribute-remaining-hbot-tokens\\n'\n",
      "           '#how-does-hummingbot-store-my-private-keys-and-api-keys\\n'\n",
      "           '#what-if-i-accidentally-used-an-exchange-address-to-claim-hbot-tokens\\n'\n",
      "           '#what-is-the-hbot-token\\n'\n",
      "           '#what-is-market-making\\n'\n",
      "           '#what-kinds-of-dex-bots-can-you-building-with-gateway\\n'\n",
      "           '#why-is-the-hummingbot-foundation-domiciled-in-the-cayman-islands\\n'\n",
      "           '#what-does-it-cost-for-me-to-run-hummingbot\\n'\n",
      "           '#is-hummingbot-a-protocol-or-an-exchange\\n'\n",
      "           '#hbot-token\\n'\n",
      "           '#how-is-the-hummingbot-foundation-sustainable\\n'\n",
      "           '#how-do-node-providers-and-mempool-services-work\\n'\n",
      "           '#i-was-an-early-user-of-hummingbot-am-i-eligible-to-claim-hbot-tokens\\n'\n",
      "           '#how-do-i-apply-for-a-job-with-the-hummingbot-foundation\\n'\n",
      "           '#why-did-you-make-hummingbot-available-to-the-general-public\\n'\n",
      "           '#what-type-of-software-is-hummingbot',\n",
      " 'url': 'https://hummingbot.org/faq/'}\n",
      "Document 8\n",
      "{'titles': '#strategy-info\\n'\n",
      "           '#strategy-tier\\n'\n",
      "           '#exchanges-supported\\n'\n",
      "           '#strategy-configs\\n'\n",
      "           '#summary\\n'\n",
      "           '#description\\n'\n",
      "           '#cross-exchange-mining',\n",
      " 'url': 'https://hummingbot.org/strategies/cross-exchange-mining/'}\n",
      "Document 9\n",
      "{'titles': '#creating-a-new-strategy-file\\n'\n",
      "           '#strategy-specific-files\\n'\n",
      "           '#create-or-import-config-files\\n'\n",
      "           '#create-command-shortcuts\\n'\n",
      "           '#import-an-existing-strategy-file\\n'\n",
      "           '#setup-walkthrough\\n'\n",
      "           '#config-file-templates',\n",
      " 'url': 'https://hummingbot.org/client/config-files/'}\n"
     ]
    }
   ],
   "source": [
    "similar_documents = vectordb.similarity_search(query=query, k=10)\n",
    "print_documents_metadata(similar_documents)"
   ]
  },
  {
   "cell_type": "markdown",
   "metadata": {
    "collapsed": false,
    "jupyter": {
     "outputs_hidden": false
    }
   },
   "source": [
    "# Max Marginal Relevance Search"
   ]
  },
  {
   "cell_type": "markdown",
   "metadata": {
    "collapsed": false,
    "jupyter": {
     "outputs_hidden": false
    }
   },
   "source": []
  },
  {
   "cell_type": "code",
   "execution_count": 40,
   "metadata": {
    "ExecuteTime": {
     "end_time": "2023-11-29T20:47:31.826090Z",
     "start_time": "2023-11-29T20:47:31.471826Z"
    },
    "collapsed": false,
    "jupyter": {
     "outputs_hidden": false
    }
   },
   "outputs": [
    {
     "name": "stdout",
     "output_type": "stream",
     "text": [
      "Document 0\n",
      "('Pure Market Making - Hummingbot/nSkip to content/nHummingbot/nPure Market '\n",
      " 'Making/nInitializing '\n",
      " 'search/nhummingbot/hummingbot/nHome/nDocs/nAcademy/nBotcamp/nReleases/nBounties/nGovernance/nAbout/nBlog/nHummingbot/nhummingbot/hummingbot/nHome/nDocs/nDocs/nGetting '\n",
      " 'Started/nInstallation/nClient/nGateway/nDashboard/nStrategies/nStrategies/nV2 '\n",
      " 'Strategies/nV1 Strategies/nV1 Strategies/nPure Market Making/nPure Market '\n",
      " 'Making/nTable of contents/n📁 Strategy Info/n🏆 Strategy Tier/n📝 Summary/n🏦 '\n",
      " 'Supported Exchange Types/n🛠️ Strategy configs/n📓 '\n",
      " 'Description/nArchitecture/nRefreshing Orders/nExecuting Order '\n",
      " 'Proposals/nExample Order Flow/nℹ️ More Resources/nCross-Exchange Market '\n",
      " 'Making/nAMM Arbitrage/nAvellaneda Market Making/nCross-Exchange '\n",
      " 'Mining/nHedge/nLiquidity Mining/nPerpetual Market Making/nSpot Perpetual '\n",
      " 'Arbitrage/nTWAP/nUniswap v3 LP/nPMM Strategy '\n",
      " 'Configs/nScripts/nConnectors/nGlossary/nTroubleshooting/nAcademy/nAcademy/nLatest/nAll '\n",
      " 'Articles/nArchive/nCategories/nBotcamp/nBotcamp/nBotcamp '\n",
      " 'FAQ/nReleases/nReleases/nRelease '\n",
      " 'Process/n1.22.0/n1.21.0/n1.20.0/n1.19.0/n1.18.0/n1.17.0/n1.16.0/n1.15.0/n1.14.0/n1.13.0/n1.12.0/n1.11.0/n1.10.0/n1.9.0/n1.8.0/n1.7.0/n1.6.0/n1.5.0/n1.4.0/n1.3.0/n1.2.0/n1.1.1/n1.1.0/n1.0.1/n1.0.0/nBounties/nBounties/nBounty '\n",
      " 'Sponsors/nBounty Contributors/nContribution Guidelines/nForking the '\n",
      " 'Repository/nBounties Board '\n",
      " '↗️/nGovernance/nGovernance/nPolls/nProposals/nEpochs/nWhitepaper/nAbout/nAbout/nFAQ/nFoundation/nSponsors '\n",
      " '& Backers/nReported Volumes/nHistory/n📆 Calendar '\n",
      " '↗️/nBlog/nBlog/nArchive/nCategories/nTable of contents/n📁 Strategy Info/n🏆 '\n",
      " 'Strategy Tier/n📝 Summary/n🏦 Supported Exchange Types/n🛠️ Strategy configs/n📓 '\n",
      " 'Description/nArchitecture/nRefreshing Orders/nExecuting Order '\n",
      " 'Proposals/nExample Order Flow/nℹ️ More Resources/nHome/nDocs/nStrategies/nV1 '\n",
      " 'Strategies/npure_market_making/n¶/n📁 Strategy '\n",
      " 'Info/n¶/nFolder:/n/hummingbot/strategy/pure_market_making/nConfigs:/npure_market_making_config_map.py/nMaintainer: '\n",
      " 'Hummingbot Foundation/n🏆 Strategy')\n",
      "Document 1\n",
      "('inspect the strategy code in/nTrading Logic/nabove to understand exactly how '\n",
      " 'it works./nArchitecture/n¶/nThe built-in pure market making strategy in '\n",
      " 'Hummingbot periodically requests limit order proposals from configurable '\n",
      " 'order pricing and sizing plugins, and also periodically refreshes the orders '\n",
      " \"by cancelling existing limit orders./nHere's a high level view of the logic \"\n",
      " 'flow inside the built-in pure market making strategy./nThe pure market '\n",
      " 'making strategy operates in a tick-by-tick manner. Each tick is typically 1 '\n",
      " 'second, although it can be programmatically modified to longer or shorter '\n",
      " 'durations./nAt each tick, the pure market making strategy would first query '\n",
      " 'the order filter plugin whether to proceed or not. Assuming the answer is '\n",
      " \"yes, then it'll query the order pricing and sizing plugins and calculate \"\n",
      " 'whether and what market making orders it should emit. At the same time, '\n",
      " \"it'll also look at any existing limit orders it previously placed on the \"\n",
      " 'market and decide whether it should cancel those./nThe process repeats over '\n",
      " 'and over at each tick, causing limit orders to be periodically placed and '\n",
      " 'cancelled according to the proposals made by the order pricing and sizing '\n",
      " 'plugins./nRefreshing Orders/n¶/nFor each limit order that was emitted by the '\n",
      " 'pure market making strategy, an expiry timestamp would be generated for that '\n",
      " 'order and the order will be tracked by the strategy. The time until expiry '\n",
      " 'for new orders is configured via the/norder_refresh_time/nparameter./nAfter '\n",
      " \"an order's expiration time is reached, the pure market making strategy will \"\n",
      " 'create a cancel order proposal for that order./nExecuting Order '\n",
      " 'Proposals/n¶/nAfter collecting all the order pricing, sizing and cancel '\n",
      " 'order proposals from plugins and the internal refresh order logic - the pure '\n",
      " 'market making strategy logic will merge all of the proposals and execute '\n",
      " 'them./nExample Order Flow/n¶/nBelow is a hypothetical example of how the '\n",
      " 'pure market making strategy works for a few clock ticks./nAt clock')\n",
      "Document 2\n",
      "('tick/nt/n, there may be existing limit orders on both the bid and ask sides, '\n",
      " 'and both have not yet expired. The proposed sizes for new orders will be 0, '\n",
      " 'and there will be no cancel order proposals. So the strategy will do nothing '\n",
      " 'for this clock tick./nAt clock tick/nt+1/n, the limit bid order has expired. '\n",
      " 'The strategy will then generate a cancel order proposal for the expired bid '\n",
      " 'order. The cancellation will then be send to the exchange and executed./nAt '\n",
      " 'clock tick/nt+2/n, the strategy loops through its trading logic and notices '\n",
      " \"there's no longer an order at the bid side. So it'll propose a non-zero \"\n",
      " \"order size for a new bid order. Let's assume the existing ask order hasn't \"\n",
      " 'expired yet, so no cancellation proposals will be generated at this clock '\n",
      " 'tick. At the execution phase, the strategy will simply create a bid order '\n",
      " 'calculated from the current market mid-price. Thus the bid order is '\n",
      " 'refreshed./nThis cycle of order creation and order cancellation will repeat '\n",
      " 'again and again for as long as the strategy is running. If a limit order is '\n",
      " 'completely filled by a market order, the strategy will simply refresh it at '\n",
      " 'the next clock tick./nℹ️ More Resources/n¶/nWhat is market making?/n: A blog '\n",
      " 'post that explains the basics of market making./nHow to set up a simple pure '\n",
      " 'market making bot on Binance/n: Learn how to create pure market making bot '\n",
      " 'on Binance exchange./nTrader Sharing: Pure Market Making with cgambit/n: '\n",
      " 'Eagle Club member and top Hummingbot Miner earner/ncgambit/nshares his tips '\n",
      " 'and insights on pure market making./nPure Market Making (PMM) Strategy/n: '\n",
      " 'Use Pure Market Making Strategy but set dynamic bid/ask orders based on '\n",
      " 'TradingView indicators which trigger alerts to Telegram and change the '\n",
      " 'bid/ask orders using inventory skew or spreads-adjusted./nCheck '\n",
      " 'out/nHummingbot Academy/nfor more resources related to this strategy and '\n",
      " 'others!/nWas this page helpful?/nThanks for your feedback!/nThanks for your '\n",
      " 'feedback! Help us improve this page by/nfiling an issue/n./nBack')\n",
      "Document 3\n",
      "('centralized and decentralized exchanges, along with pre-built strategy '\n",
      " 'templates that enable users to run many different types of trading '\n",
      " 'strategies. In order to scale the number of connectors and strategies, '\n",
      " 'Hummingbot relies upon its open source community./nDemocratizing HFT/n: From '\n",
      " 'the beginning, our mission has been to democratize high-frequency trading '\n",
      " 'with open source software./nWhy did you make Hummingbot available to the '\n",
      " 'general public?/n¶/nAs we wrote in the original/nHummingbot whitepaper/n, '\n",
      " 'market making is an important function critical to organic, efficient '\n",
      " 'markets that should be decentralized to prevent the concentration risk that '\n",
      " 'exists in traditional finance./nLater, we pioneered the concept '\n",
      " 'of/ndecentralized market making/nby writing the/nLiquidity Mining '\n",
      " 'whitepaper/nand built the first such platform:/nHummingbot Miner/n. Miner '\n",
      " 'has turned into a successful, standalone business that provides liquidity to '\n",
      " 'hundreds of tokens across multiple exchanges, powered by thousands of '\n",
      " 'individual market makers running Hummingbot./nThis has allowed CoinAlpha to '\n",
      " 'spin off Hummingbot into a not-for-profit foundation, which is dedicated to '\n",
      " 'keeping Hummingbot open source./nWhat is market making?/n¶/nMarket making is '\n",
      " 'the act of simultaneously creating buy and sell orders for an asset in a '\n",
      " 'market. By doing so, a market maker acts as a liquidity provider, '\n",
      " 'facilitating other market participants to trade by giving them the ability '\n",
      " \"to fill the market maker's orders. Traditionally, market-making industry has \"\n",
      " 'been dominated by highly technical quantitative hedge funds and trading '\n",
      " 'firms that have the infrastructure and intelligence to deploy sophisticated '\n",
      " 'algorithms at scale./nMarket makers play an important role in providing '\n",
      " 'liquidity to financial markets, especially in the highly fragmented '\n",
      " 'cryptocurrency industry. While large professional market makers fight over '\n",
      " 'the most actively traded pairs on the highest volume exchanges, there exists '\n",
      " 'a massive/nlong tail of smaller')\n",
      "Document 4\n",
      "('both taker and maker centralised exchanges. The strategy utilises market '\n",
      " 'trades to fill on taker side./nWas this page helpful?/nThanks for your '\n",
      " 'feedback!/nThanks for your feedback! Help us improve this page by/nfiling an '\n",
      " 'issue/n./nBack to top/nCopyright © 2023 Hummingbot Foundation/nMade '\n",
      " 'with/nMaterial for MkDocs Insiders')\n"
     ]
    }
   ],
   "source": [
    "mmr_documents = vectordb.max_marginal_relevance_search(query=query, k=5, fetch_k=10)\n",
    "for i, document in enumerate(mmr_documents):\n",
    "    print(f\"Document {i}\")\n",
    "    pprint(document.page_content)"
   ]
  },
  {
   "cell_type": "markdown",
   "metadata": {
    "collapsed": false,
    "jupyter": {
     "outputs_hidden": false
    }
   },
   "source": [
    "# SelfQueryRetriever\n",
    "\n",
    "Using Runnables to construct the query"
   ]
  },
  {
   "cell_type": "code",
   "execution_count": 41,
   "metadata": {
    "ExecuteTime": {
     "end_time": "2023-11-29T20:43:30.533025Z",
     "start_time": "2023-11-29T20:43:30.527452Z"
    },
    "collapsed": false,
    "jupyter": {
     "outputs_hidden": false
    }
   },
   "outputs": [],
   "source": [
    "from langchain.chains.query_constructor.base import AttributeInfo\n",
    "from langchain.llms.openai import OpenAI\n",
    "from langchain.retrievers.self_query.base import SelfQueryRetriever\n",
    "\n",
    "\n",
    "document_content_description = \"Documentation of Hummingbot\"\n",
    "metadata_field_info = [\n",
    "    AttributeInfo(\n",
    "        name=\"url\",\n",
    "        description=\"The url where the information is collected\",\n",
    "        type=\"string\",\n",
    "    ),\n",
    "    AttributeInfo(\n",
    "        name=\"titles\",\n",
    "        description=\"The titles that are present in the page, all of them start with the symbol #. This field is important to understand the major topics that the documentation page includes.\",\n",
    "        type=\"string\",\n",
    "    ),\n",
    "]"
   ]
  },
  {
   "cell_type": "code",
   "execution_count": 42,
   "metadata": {
    "ExecuteTime": {
     "end_time": "2023-11-29T20:43:39.363941Z",
     "start_time": "2023-11-29T20:43:39.279022Z"
    },
    "collapsed": false,
    "jupyter": {
     "outputs_hidden": false
    }
   },
   "outputs": [],
   "source": [
    "llm = OpenAI(temperature=0)\n",
    "retriever = SelfQueryRetriever.from_llm(\n",
    "    llm,\n",
    "    vectordb,\n",
    "    document_content_description,\n",
    "    metadata_field_info,\n",
    "    enable_limit=True\n",
    ")"
   ]
  },
  {
   "cell_type": "code",
   "execution_count": 43,
   "metadata": {
    "ExecuteTime": {
     "end_time": "2023-11-29T20:43:50.229635Z",
     "start_time": "2023-11-29T20:43:48.484544Z"
    },
    "collapsed": false,
    "jupyter": {
     "outputs_hidden": false
    }
   },
   "outputs": [
    {
     "name": "stdout",
     "output_type": "stream",
     "text": [
      "Document 0\n",
      "{'titles': '#strategy-info\\n'\n",
      "           '#architecture\\n'\n",
      "           '#i-more-resources\\n'\n",
      "           '#refreshing-orders\\n'\n",
      "           '#strategy-tier\\n'\n",
      "           '#example-order-flow\\n'\n",
      "           '#executing-order-proposals\\n'\n",
      "           '#supported-exchange-types\\n'\n",
      "           '#pure_market_making\\n'\n",
      "           '#strategy-configs\\n'\n",
      "           '#summary\\n'\n",
      "           '#description',\n",
      " 'url': 'https://hummingbot.org/strategies/pure-market-making/'}\n",
      "Document 1\n",
      "{'titles': '#strategy-info\\n'\n",
      "           '#strategy-tier\\n'\n",
      "           '#exchanges-supported\\n'\n",
      "           '#strategy-configs\\n'\n",
      "           '#summary\\n'\n",
      "           '#description\\n'\n",
      "           '#cross-exchange-mining',\n",
      " 'url': 'https://hummingbot.org/strategies/cross-exchange-mining/'}\n",
      "Document 2\n",
      "{'titles': '#who-runs-the-hummingbot-foundation\\n'\n",
      "           '#why-is-hummingbot-open-source\\n'\n",
      "           '#what-is-gateway\\n'\n",
      "           '#hummingbot-foundation\\n'\n",
      "           '#what-does-the-hummingbot-foundation-do\\n'\n",
      "           '#does-the-foundation-plan-to-list-hbot-on-any-crypto-exchange\\n'\n",
      "           '#what-can-i-do-with-the-hbot-token\\n'\n",
      "           '#hummingbot-client\\n'\n",
      "           '#will-voting-with-hbot-cost-gas-or-incur-other-transaction-fees\\n'\n",
      "           '#how-do-i-use-gateway-with-hummingbot\\n'\n",
      "           '#can-gateway-help-me-build-mev-bots\\n'\n",
      "           '#how-do-people-use-hummingbot\\n'\n",
      "           '#what-background-information-should-i-learn-before-building-dex-bots-with-gateway\\n'\n",
      "           '#how-do-i-use-hummingbot-on-a-amm-dex-like-uniswap\\n'\n",
      "           '#gateway-middleware\\n'\n",
      "           '#how-do-i-know-that-im-using-the-correct-hbot-token\\n'\n",
      "           '#how-does-the-foundation-plan-to-distribute-remaining-hbot-tokens\\n'\n",
      "           '#how-does-hummingbot-store-my-private-keys-and-api-keys\\n'\n",
      "           '#what-if-i-accidentally-used-an-exchange-address-to-claim-hbot-tokens\\n'\n",
      "           '#what-is-the-hbot-token\\n'\n",
      "           '#what-is-market-making\\n'\n",
      "           '#what-kinds-of-dex-bots-can-you-building-with-gateway\\n'\n",
      "           '#why-is-the-hummingbot-foundation-domiciled-in-the-cayman-islands\\n'\n",
      "           '#what-does-it-cost-for-me-to-run-hummingbot\\n'\n",
      "           '#is-hummingbot-a-protocol-or-an-exchange\\n'\n",
      "           '#hbot-token\\n'\n",
      "           '#how-is-the-hummingbot-foundation-sustainable\\n'\n",
      "           '#how-do-node-providers-and-mempool-services-work\\n'\n",
      "           '#i-was-an-early-user-of-hummingbot-am-i-eligible-to-claim-hbot-tokens\\n'\n",
      "           '#how-do-i-apply-for-a-job-with-the-hummingbot-foundation\\n'\n",
      "           '#why-did-you-make-hummingbot-available-to-the-general-public\\n'\n",
      "           '#what-type-of-software-is-hummingbot',\n",
      " 'url': 'https://hummingbot.org/faq/'}\n",
      "Document 3\n",
      "{'titles': '#strategy-info\\n'\n",
      "           '#architecture\\n'\n",
      "           '#perpetual_market_making\\n'\n",
      "           '#position-management\\n'\n",
      "           '#i-more-resources\\n'\n",
      "           '#strategy-tier\\n'\n",
      "           '#order-placement\\n'\n",
      "           '#exchanges-supported\\n'\n",
      "           '#strategy-configs\\n'\n",
      "           '#summary\\n'\n",
      "           '#description',\n",
      " 'url': 'https://hummingbot.org/strategies/perpetual-market-making/'}\n"
     ]
    }
   ],
   "source": [
    "print_documents_metadata(retriever.get_relevant_documents(query, k=6))"
   ]
  },
  {
   "cell_type": "code",
   "execution_count": 44,
   "metadata": {
    "ExecuteTime": {
     "end_time": "2023-11-28T17:15:18.010155Z",
     "start_time": "2023-11-28T17:15:17.987063Z"
    },
    "collapsed": false,
    "jupyter": {
     "outputs_hidden": false
    }
   },
   "outputs": [],
   "source": [
    "document_contents = \"Hummingbot scripts\"\n",
    "llm = OpenAI(temperature=0)\n",
    "retriever = SelfQueryRetriever.from_llm(\n",
    "    llm=llm,\n",
    "    vectorstore=vectordb,\n",
    "    document_contents=document_contents,\n",
    "    metadata_field_info=metadata_field_info,\n",
    "    verbose=True\n",
    ")"
   ]
  },
  {
   "cell_type": "code",
   "execution_count": 45,
   "metadata": {
    "ExecuteTime": {
     "end_time": "2023-11-28T17:15:20.066908Z",
     "start_time": "2023-11-28T17:15:18.474277Z"
    },
    "collapsed": false,
    "jupyter": {
     "outputs_hidden": false
    }
   },
   "outputs": [],
   "source": [
    "relevant_docs = retriever.get_relevant_documents(query=query, k=2)"
   ]
  },
  {
   "cell_type": "code",
   "execution_count": 46,
   "metadata": {
    "ExecuteTime": {
     "end_time": "2023-11-28T17:15:20.070926Z",
     "start_time": "2023-11-28T17:15:20.068212Z"
    },
    "collapsed": false,
    "jupyter": {
     "outputs_hidden": false
    }
   },
   "outputs": [
    {
     "name": "stdout",
     "output_type": "stream",
     "text": [
      "Document 0\n",
      "{'titles': '#strategy-info\\n'\n",
      "           '#architecture\\n'\n",
      "           '#i-more-resources\\n'\n",
      "           '#refreshing-orders\\n'\n",
      "           '#strategy-tier\\n'\n",
      "           '#example-order-flow\\n'\n",
      "           '#executing-order-proposals\\n'\n",
      "           '#supported-exchange-types\\n'\n",
      "           '#pure_market_making\\n'\n",
      "           '#strategy-configs\\n'\n",
      "           '#summary\\n'\n",
      "           '#description',\n",
      " 'url': 'https://hummingbot.org/strategies/pure-market-making/'}\n",
      "Document 1\n",
      "{'titles': '#strategy-info\\n'\n",
      "           '#strategy-tier\\n'\n",
      "           '#exchanges-supported\\n'\n",
      "           '#strategy-configs\\n'\n",
      "           '#summary\\n'\n",
      "           '#description\\n'\n",
      "           '#cross-exchange-mining',\n",
      " 'url': 'https://hummingbot.org/strategies/cross-exchange-mining/'}\n",
      "Document 2\n",
      "{'titles': '#who-runs-the-hummingbot-foundation\\n'\n",
      "           '#why-is-hummingbot-open-source\\n'\n",
      "           '#what-is-gateway\\n'\n",
      "           '#hummingbot-foundation\\n'\n",
      "           '#what-does-the-hummingbot-foundation-do\\n'\n",
      "           '#does-the-foundation-plan-to-list-hbot-on-any-crypto-exchange\\n'\n",
      "           '#what-can-i-do-with-the-hbot-token\\n'\n",
      "           '#hummingbot-client\\n'\n",
      "           '#will-voting-with-hbot-cost-gas-or-incur-other-transaction-fees\\n'\n",
      "           '#how-do-i-use-gateway-with-hummingbot\\n'\n",
      "           '#can-gateway-help-me-build-mev-bots\\n'\n",
      "           '#how-do-people-use-hummingbot\\n'\n",
      "           '#what-background-information-should-i-learn-before-building-dex-bots-with-gateway\\n'\n",
      "           '#how-do-i-use-hummingbot-on-a-amm-dex-like-uniswap\\n'\n",
      "           '#gateway-middleware\\n'\n",
      "           '#how-do-i-know-that-im-using-the-correct-hbot-token\\n'\n",
      "           '#how-does-the-foundation-plan-to-distribute-remaining-hbot-tokens\\n'\n",
      "           '#how-does-hummingbot-store-my-private-keys-and-api-keys\\n'\n",
      "           '#what-if-i-accidentally-used-an-exchange-address-to-claim-hbot-tokens\\n'\n",
      "           '#what-is-the-hbot-token\\n'\n",
      "           '#what-is-market-making\\n'\n",
      "           '#what-kinds-of-dex-bots-can-you-building-with-gateway\\n'\n",
      "           '#why-is-the-hummingbot-foundation-domiciled-in-the-cayman-islands\\n'\n",
      "           '#what-does-it-cost-for-me-to-run-hummingbot\\n'\n",
      "           '#is-hummingbot-a-protocol-or-an-exchange\\n'\n",
      "           '#hbot-token\\n'\n",
      "           '#how-is-the-hummingbot-foundation-sustainable\\n'\n",
      "           '#how-do-node-providers-and-mempool-services-work\\n'\n",
      "           '#i-was-an-early-user-of-hummingbot-am-i-eligible-to-claim-hbot-tokens\\n'\n",
      "           '#how-do-i-apply-for-a-job-with-the-hummingbot-foundation\\n'\n",
      "           '#why-did-you-make-hummingbot-available-to-the-general-public\\n'\n",
      "           '#what-type-of-software-is-hummingbot',\n",
      " 'url': 'https://hummingbot.org/faq/'}\n",
      "Document 3\n",
      "{'titles': '#strategy-info\\n'\n",
      "           '#architecture\\n'\n",
      "           '#perpetual_market_making\\n'\n",
      "           '#position-management\\n'\n",
      "           '#i-more-resources\\n'\n",
      "           '#strategy-tier\\n'\n",
      "           '#order-placement\\n'\n",
      "           '#exchanges-supported\\n'\n",
      "           '#strategy-configs\\n'\n",
      "           '#summary\\n'\n",
      "           '#description',\n",
      " 'url': 'https://hummingbot.org/strategies/perpetual-market-making/'}\n"
     ]
    }
   ],
   "source": [
    "print_documents_metadata(relevant_docs)"
   ]
  },
  {
   "cell_type": "markdown",
   "metadata": {
    "collapsed": false,
    "jupyter": {
     "outputs_hidden": false
    }
   },
   "source": [
    "# Compressor"
   ]
  },
  {
   "cell_type": "code",
   "execution_count": 47,
   "metadata": {
    "ExecuteTime": {
     "end_time": "2023-11-29T20:45:10.023375Z",
     "start_time": "2023-11-29T20:45:10.019292Z"
    },
    "collapsed": false,
    "jupyter": {
     "outputs_hidden": false
    }
   },
   "outputs": [],
   "source": [
    "from langchain.retrievers import ContextualCompressionRetriever\n",
    "from langchain.retrievers.document_compressors import LLMChainExtractor\n",
    "from langchain.llms.openai import OpenAI"
   ]
  },
  {
   "cell_type": "code",
   "execution_count": 48,
   "metadata": {
    "ExecuteTime": {
     "end_time": "2023-11-29T20:45:11.200311Z",
     "start_time": "2023-11-29T20:45:11.196725Z"
    },
    "collapsed": false,
    "jupyter": {
     "outputs_hidden": false
    }
   },
   "outputs": [],
   "source": [
    "# Wrap our vectorstore\n",
    "llm = OpenAI(temperature=0)\n",
    "compressor = LLMChainExtractor.from_llm(llm)\n",
    "compression_retriever = ContextualCompressionRetriever(\n",
    "    base_compressor=compressor,\n",
    "    base_retriever=vectordb.as_retriever(search_type=\"mmr\"),\n",
    "    verbose=True\n",
    ")"
   ]
  },
  {
   "cell_type": "code",
   "execution_count": 49,
   "metadata": {
    "ExecuteTime": {
     "end_time": "2023-11-29T20:45:39.811821Z",
     "start_time": "2023-11-29T20:45:28.956426Z"
    },
    "collapsed": false,
    "jupyter": {
     "outputs_hidden": false
    }
   },
   "outputs": [
    {
     "name": "stderr",
     "output_type": "stream",
     "text": [
      "/Users/feng/anaconda3/envs/ai-assistant/lib/python3.11/site-packages/langchain/chains/llm.py:321: UserWarning: The predict_and_parse method is deprecated, instead pass an output parser directly to LLMChain.\n",
      "  warnings.warn(\n",
      "/Users/feng/anaconda3/envs/ai-assistant/lib/python3.11/site-packages/langchain/chains/llm.py:321: UserWarning: The predict_and_parse method is deprecated, instead pass an output parser directly to LLMChain.\n",
      "  warnings.warn(\n",
      "/Users/feng/anaconda3/envs/ai-assistant/lib/python3.11/site-packages/langchain/chains/llm.py:321: UserWarning: The predict_and_parse method is deprecated, instead pass an output parser directly to LLMChain.\n",
      "  warnings.warn(\n",
      "/Users/feng/anaconda3/envs/ai-assistant/lib/python3.11/site-packages/langchain/chains/llm.py:321: UserWarning: The predict_and_parse method is deprecated, instead pass an output parser directly to LLMChain.\n",
      "  warnings.warn(\n"
     ]
    }
   ],
   "source": [
    "compressed_docs = compression_retriever.get_relevant_documents(query=query, k=6, fetch_k=15)"
   ]
  },
  {
   "cell_type": "code",
   "execution_count": 50,
   "metadata": {
    "ExecuteTime": {
     "end_time": "2023-11-29T20:45:53.741832Z",
     "start_time": "2023-11-29T20:45:53.738517Z"
    },
    "collapsed": false,
    "jupyter": {
     "outputs_hidden": false
    }
   },
   "outputs": [
    {
     "data": {
      "text/plain": [
       "'\"For starters, in general interaction with them is less reliable. Unlike in case of centralized exchanges, for example obtaining an asset price from a DEX may occasionally fail. For this reason many operations on a DEX may have to be repeated until they\\'re executed successfully./nAnother difference is dependence of transaction fees on currrent gas fees. Therefore taker transaction fees may vary and therefore also position profitability checks performed in the method/ncheck_if_still_profitable()/nmay return different results at different times for the same maker positions.\"'"
      ]
     },
     "execution_count": 50,
     "metadata": {},
     "output_type": "execute_result"
    }
   ],
   "source": [
    "compressed_docs[3].page_content"
   ]
  },
  {
   "cell_type": "code",
   "execution_count": 51,
   "metadata": {
    "ExecuteTime": {
     "end_time": "2023-11-29T20:46:18.951619Z",
     "start_time": "2023-11-29T20:46:18.948712Z"
    },
    "collapsed": false,
    "jupyter": {
     "outputs_hidden": false
    }
   },
   "outputs": [
    {
     "data": {
      "text/plain": [
       "4"
      ]
     },
     "execution_count": 51,
     "metadata": {},
     "output_type": "execute_result"
    }
   ],
   "source": [
    "len(compressed_docs)"
   ]
  },
  {
   "cell_type": "code",
   "execution_count": null,
   "metadata": {},
   "outputs": [],
   "source": []
  }
 ],
 "metadata": {
  "kernelspec": {
   "display_name": "Python 3 (ipykernel)",
   "language": "python",
   "name": "python3"
  },
  "language_info": {
   "codemirror_mode": {
    "name": "ipython",
    "version": 3
   },
   "file_extension": ".py",
   "mimetype": "text/x-python",
   "name": "python",
   "nbconvert_exporter": "python",
   "pygments_lexer": "ipython3",
   "version": "3.11.6"
  }
 },
 "nbformat": 4,
 "nbformat_minor": 4
}
