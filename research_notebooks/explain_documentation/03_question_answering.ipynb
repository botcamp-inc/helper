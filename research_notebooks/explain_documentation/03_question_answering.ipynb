{
 "cells": [
  {
   "cell_type": "code",
   "execution_count": null,
   "metadata": {
    "collapsed": true
   },
   "outputs": [],
   "source": [
    "from pprint import pprint\n",
    "from langchain.vectorstores.chroma import Chroma\n",
    "from langchain.embeddings import OpenAIEmbeddings\n",
    "from langchain.chat_models import ChatOpenAI\n",
    "from langchain.chains import RetrievalQA\n",
    "from langchain.prompts import PromptTemplate\n",
    "\n",
    "import os\n",
    "from dotenv import load_dotenv\n",
    "\n",
    "load_dotenv()\n",
    "\n",
    "llm_name = \"gpt-4\"\n",
    "os.environ[\"OPENAI_API_KEY\"]  # you should see the api key if the .env file is loaded correctly"
   ]
  },
  {
   "cell_type": "code",
   "execution_count": 8,
   "outputs": [],
   "source": [
    "persist_directory = \"/Users/dardonacci/Documents/work/ai-assistant/vector_stores\"\n",
    "embedding = OpenAIEmbeddings()\n",
    "\n",
    "vectordb = Chroma(\n",
    "    collection_name=\"hummingbot_documentation\",\n",
    "    persist_directory=persist_directory,\n",
    "    embedding_function=embedding\n",
    ")"
   ],
   "metadata": {
    "collapsed": false,
    "ExecuteTime": {
     "end_time": "2023-11-29T20:55:07.196053Z",
     "start_time": "2023-11-29T20:55:07.188947Z"
    }
   }
  },
  {
   "cell_type": "markdown",
   "source": [
    "# Prompts"
   ],
   "metadata": {
    "collapsed": false
   }
  },
  {
   "cell_type": "code",
   "execution_count": 9,
   "outputs": [],
   "source": [
    "# Build prompt\n",
    "template = \"\"\"Use the following pieces of context to answer the question at the end. If you don't know the answer, just say that you don't know, don't try to make up an answer. Use three sentences maximum. Keep the answer as concise as possible. Always say \"thanks for asking!\" at the end of the answer.\n",
    "{context}\n",
    "Question: {question}\n",
    "Helpful Answer:\"\"\"\n",
    "prompt = PromptTemplate.from_template(template)"
   ],
   "metadata": {
    "collapsed": false,
    "ExecuteTime": {
     "end_time": "2023-11-29T20:55:08.411171Z",
     "start_time": "2023-11-29T20:55:08.407214Z"
    }
   }
  },
  {
   "cell_type": "code",
   "execution_count": 10,
   "outputs": [],
   "source": [
    "llm = ChatOpenAI(model_name=llm_name, temperature=0)\n",
    "qa_chain = RetrievalQA.from_chain_type(\n",
    "    llm=llm,\n",
    "    retriever=vectordb.as_retriever(search_type=\"mmr\", k=5, fetch_k=10),\n",
    "    chain_type=\"stuff\",\n",
    "    return_source_documents=True,\n",
    "    chain_type_kwargs={\"prompt\": prompt}\n",
    ")"
   ],
   "metadata": {
    "collapsed": false,
    "ExecuteTime": {
     "end_time": "2023-11-29T20:55:11.313307Z",
     "start_time": "2023-11-29T20:55:11.309758Z"
    }
   }
  },
  {
   "cell_type": "code",
   "execution_count": 11,
   "outputs": [],
   "source": [
    "query = \"\"\"Can you explain me how to use the pure market making strategy?\n",
    "\"\"\""
   ],
   "metadata": {
    "collapsed": false,
    "ExecuteTime": {
     "end_time": "2023-11-29T20:55:12.389847Z",
     "start_time": "2023-11-29T20:55:12.384814Z"
    }
   }
  },
  {
   "cell_type": "code",
   "execution_count": 12,
   "outputs": [],
   "source": [
    "result = qa_chain({\"question\": query})"
   ],
   "metadata": {
    "collapsed": false,
    "ExecuteTime": {
     "end_time": "2023-11-29T20:55:36.133561Z",
     "start_time": "2023-11-29T20:55:13.696507Z"
    }
   }
  },
  {
   "cell_type": "code",
   "execution_count": 23,
   "outputs": [
    {
     "data": {
      "text/plain": "\"Sure, here's a step-by-step guide on how to use the pure market making strategy with Hummingbot:\\n\\n1. First, you need to initialize Hummingbot. You can do this by installing the Hummingbot software and running it on your machine.\\n\\n2. Once Hummingbot is running, you will be prompted to enter your exchange information. This includes the name of the exchange you are using and the trading pair you wish to trade.\\n\\n3. Next, you will be asked to configure the parameters for the pure market making strategy. These parameters include:\\n\\n   - `bid_spread`: This is how far away from the mid price you want to place the first bid order.\\n   - `ask_spread`: This is how far away from the mid price you want to place the first ask order.\\n   - `minimum_spread`: This is the minimum spread at which the bot will automatically cancel orders.\\n   - `order_refresh_time`: This is how often you want to cancel and replace bids and asks (in seconds).\\n   - `max_order_age`: This is how often you want to cancel and replace bids and asks with the same price (in seconds).\\n   - `order_refresh_tolerance_pct`: This is the percent change in price needed to refresh orders at each cycle.\\n   - `order_amount`: This is the amount of the base asset per order.\\n   - `price_ceiling`: This is the price point above which only sell orders will be placed.\\n   - `price_floor`: This is the price below which only buy orders will be placed.\\n\\n4. After configuring these parameters, the pure market making strategy will start running. It will place limit buy and sell orders on the order book at prices relative to the mid-price with spreads equal to the bid spread and ask spread. Every `order_refresh_time` seconds, the strategy replaces existing orders with new orders with refreshed spreads and order amounts.\\n\\n5. The strategy will continue to run until you stop it. You can monitor its performance and adjust the parameters as needed to optimize your market making strategy.\\n\\nRemember, market making involves a certain level of risk, so it's important to monitor your bot's performance and adjust your strategy as needed.\""
     },
     "execution_count": 23,
     "metadata": {},
     "output_type": "execute_result"
    }
   ],
   "source": [
    "result[\"result\"]"
   ],
   "metadata": {
    "collapsed": false,
    "ExecuteTime": {
     "end_time": "2023-11-29T21:20:02.282059Z",
     "start_time": "2023-11-29T21:20:02.279373Z"
    }
   }
  },
  {
   "cell_type": "code",
   "execution_count": 15,
   "outputs": [
    {
     "data": {
      "text/plain": "4"
     },
     "execution_count": 15,
     "metadata": {},
     "output_type": "execute_result"
    }
   ],
   "source": [
    "len(result[\"source_documents\"])"
   ],
   "metadata": {
    "collapsed": false,
    "ExecuteTime": {
     "end_time": "2023-11-29T21:12:38.102111Z",
     "start_time": "2023-11-29T21:12:38.098558Z"
    }
   }
  },
  {
   "cell_type": "markdown",
   "source": [
    "# Testing ConverstionalQARetrieval"
   ],
   "metadata": {
    "collapsed": false
   }
  },
  {
   "cell_type": "code",
   "execution_count": 17,
   "outputs": [],
   "source": [
    "from langchain.chains import ConversationalRetrievalChain\n",
    "from langchain.memory import ConversationBufferMemory\n",
    "memory = ConversationBufferMemory(\n",
    "    memory_key=\"chat_history\",\n",
    "    return_messages=True\n",
    ")\n",
    "qa = ConversationalRetrievalChain.from_llm(\n",
    "    llm,\n",
    "    retriever=vectordb.as_retriever(search_type=\"mmr\", k=5, fetch_k=10),\n",
    "    memory=memory\n",
    ")"
   ],
   "metadata": {
    "collapsed": false,
    "ExecuteTime": {
     "end_time": "2023-11-29T21:14:20.190313Z",
     "start_time": "2023-11-29T21:14:20.188177Z"
    }
   }
  },
  {
   "cell_type": "code",
   "execution_count": 19,
   "outputs": [],
   "source": [
    "result_conv = qa({\"question\": query})"
   ],
   "metadata": {
    "collapsed": false,
    "ExecuteTime": {
     "end_time": "2023-11-29T21:15:07.352564Z",
     "start_time": "2023-11-29T21:14:38.938564Z"
    }
   }
  },
  {
   "cell_type": "code",
   "execution_count": 24,
   "outputs": [
    {
     "data": {
      "text/plain": "\"The Pure Market Making strategy in Hummingbot allows users to run a market making strategy on a single trading pair on spot exchanges. Here's a step-by-step guide on how to use it:\\n\\n1. Choose your exchange: The first parameter you need to set is the exchange where you want to run your market making strategy. Enter the name of your maker spot connector.\\n\\n2. Select the trading pair: Enter the token trading pair you would like to trade on the chosen exchange.\\n\\n3. Set the bid and ask spread: Decide how far away from the mid price you want to place the first bid and ask orders. This is represented as a percentage.\\n\\n4. Set the minimum spread: This is the minimum spread at which the bot will automatically cancel orders.\\n\\n5. Set the order refresh time: This is the frequency at which you want to cancel and replace bids and asks. It is measured in seconds.\\n\\n6. Set the max order age: This is the frequency at which you want to cancel and replace bids and asks with the same price. It is also measured in seconds.\\n\\n7. Set the order refresh tolerance percentage: This is the percent change in price needed to refresh orders at each cycle.\\n\\n8. Set the order amount: This is the amount of base asset per order.\\n\\n9. Set the price ceiling and floor: These are the price points above and below which only sell and buy orders will be placed respectively.\\n\\n10. Enable or disable moving price floor and ceiling: If enabled, you will need to set a percentage to the current price that sets the price ceiling and floor. Above and below these prices, only sell and buy orders will be placed respectively.\\n\\n11. Set the price band refresh time: This is the amount of time after which the price bands are reset based on the current price.\\n\\n12. Enable or disable the ping pong feature: If enabled, the bot will alternate between buy and sell orders after fills.\\n\\n13. Set the number of orders: This is the number of orders you want to place on both sides.\\n\\n14. Set the order level amount and spread: These are the amounts you want to increase or decrease the order size and price increments for each additional order.\\n\\n15. Enable or disable inventory skew: If enabled, you will need to set your target base asset percentage and tolerable range of inventory.\\n\\nOnce you've set these parameters, the bot will start placing limit buy and sell orders on the order book at prices relative to the mid-price with spreads equal to the bid and ask spread you've set. Every order refresh time seconds, the strategy replaces existing orders with new orders with refreshed spreads and order amounts.\""
     },
     "execution_count": 24,
     "metadata": {},
     "output_type": "execute_result"
    }
   ],
   "source": [
    "result_conv[\"answer\"]"
   ],
   "metadata": {
    "collapsed": false,
    "ExecuteTime": {
     "end_time": "2023-11-29T21:20:11.293157Z",
     "start_time": "2023-11-29T21:20:11.287654Z"
    }
   }
  },
  {
   "cell_type": "code",
   "execution_count": 25,
   "outputs": [],
   "source": [
    "result_conv_2 = qa.invoke({\"question\": \"How the order refresh time is going to affect my strategy?\"})"
   ],
   "metadata": {
    "collapsed": false,
    "ExecuteTime": {
     "end_time": "2023-11-29T21:20:59.902994Z",
     "start_time": "2023-11-29T21:20:49.012596Z"
    }
   }
  },
  {
   "cell_type": "code",
   "execution_count": 26,
   "outputs": [
    {
     "data": {
      "text/plain": "\"The order refresh time is a parameter in the pure market making strategy that determines how often your limit orders are refreshed. For each limit order that was emitted by the pure market making strategy, an expiry timestamp would be generated for that order and the order will be tracked by the strategy. The time until expiry for new orders is configured via the order_refresh_time parameter. After an order's expiration time is reached, the pure market making strategy will create a cancel order proposal for that order. This means that your orders are periodically placed and cancelled according to the proposals made by the order pricing and sizing plugins. This process repeats over and over at each tick, causing limit orders to be periodically placed and cancelled.\""
     },
     "execution_count": 26,
     "metadata": {},
     "output_type": "execute_result"
    }
   ],
   "source": [
    "result_conv_2[\"answer\"]"
   ],
   "metadata": {
    "collapsed": false,
    "ExecuteTime": {
     "end_time": "2023-11-29T21:21:09.054395Z",
     "start_time": "2023-11-29T21:21:09.051101Z"
    }
   }
  },
  {
   "cell_type": "code",
   "execution_count": 27,
   "outputs": [],
   "source": [
    "result_conv_2 = qa.invoke({\"question\": \"My name is Federico Cardoso\"})"
   ],
   "metadata": {
    "collapsed": false,
    "ExecuteTime": {
     "end_time": "2023-11-29T22:21:03.372579Z",
     "start_time": "2023-11-29T22:21:00.075745Z"
    }
   }
  },
  {
   "cell_type": "code",
   "execution_count": 28,
   "outputs": [
    {
     "data": {
      "text/plain": "\"The text doesn't provide the name of a person.\""
     },
     "execution_count": 28,
     "metadata": {},
     "output_type": "execute_result"
    }
   ],
   "source": [
    "result_conv_2[\"answer\"]"
   ],
   "metadata": {
    "collapsed": false,
    "ExecuteTime": {
     "end_time": "2023-11-29T22:21:03.378378Z",
     "start_time": "2023-11-29T22:21:03.375482Z"
    }
   }
  },
  {
   "cell_type": "code",
   "execution_count": 29,
   "outputs": [],
   "source": [
    "result_conv_2 = qa.invoke({\"question\": \"what's my name?\"})"
   ],
   "metadata": {
    "collapsed": false,
    "ExecuteTime": {
     "end_time": "2023-11-29T22:21:22.762431Z",
     "start_time": "2023-11-29T22:21:18.394137Z"
    }
   }
  },
  {
   "cell_type": "code",
   "execution_count": 30,
   "outputs": [
    {
     "data": {
      "text/plain": "'The text provided does not give any information about the name of an individual in the conversation.'"
     },
     "execution_count": 30,
     "metadata": {},
     "output_type": "execute_result"
    }
   ],
   "source": [
    "result_conv_2[\"answer\"]"
   ],
   "metadata": {
    "collapsed": false,
    "ExecuteTime": {
     "end_time": "2023-11-29T22:21:23.539613Z",
     "start_time": "2023-11-29T22:21:23.535958Z"
    }
   }
  },
  {
   "cell_type": "code",
   "execution_count": null,
   "outputs": [],
   "source": [],
   "metadata": {
    "collapsed": false
   }
  }
 ],
 "metadata": {
  "kernelspec": {
   "display_name": "Python 3",
   "language": "python",
   "name": "python3"
  },
  "language_info": {
   "codemirror_mode": {
    "name": "ipython",
    "version": 2
   },
   "file_extension": ".py",
   "mimetype": "text/x-python",
   "name": "python",
   "nbconvert_exporter": "python",
   "pygments_lexer": "ipython2",
   "version": "2.7.6"
  }
 },
 "nbformat": 4,
 "nbformat_minor": 0
}
