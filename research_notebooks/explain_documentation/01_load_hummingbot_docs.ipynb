{
 "cells": [
  {
   "cell_type": "markdown",
   "metadata": {
    "collapsed": false,
    "jupyter": {
     "outputs_hidden": false
    }
   },
   "source": [
    "## Loading Hummingbot\n",
    "\n",
    "We are going to use a Generic Loader and get the files from the scripts folder of the Hummingbot repository.\n",
    "Also, we are using a LanguageParser to parse the files as Python code."
   ]
  },
  {
   "cell_type": "code",
   "execution_count": null,
   "metadata": {},
   "outputs": [],
   "source": [
    "import os\n",
    "import time\n",
    "import sys\n",
    "\n",
    "from dotenv import load_dotenv\n",
    "\n",
    "# Assuming the root directory is one level up from 'research_notebooks'\n",
    "root_path = os.path.abspath(os.path.join(os.getcwd(), '../..'))\n",
    "\n",
    "# Path to 'custom_loaders'\n",
    "loaders_path = os.path.join(root_path)\n",
    "\n",
    "# Add 'custom_loaders' to the Python path\n",
    "sys.path.append(loaders_path)\n",
    "load_dotenv()\n",
    "\n",
    "os.environ[\"OPENAI_API_KEY\"]\n",
    "# you should see the api key below if the .env file is loaded correctly"
   ]
  },
  {
   "cell_type": "code",
   "execution_count": 45,
   "metadata": {
    "ExecuteTime": {
     "end_time": "2023-11-29T19:41:18.508692Z",
     "start_time": "2023-11-29T19:41:18.053821Z"
    },
    "collapsed": false,
    "jupyter": {
     "outputs_hidden": false
    }
   },
   "outputs": [],
   "source": [
    "from custom_loaders.mkdocs_site_loader import MkDocsSiteLoader\n",
    "url = \"https://hummingbot.org/\"\n",
    "sections_filter = [\"blog\", \"release-notes\", \"botcamp\", \"academy\", \"academy-content\", \"exchanges\", \"chain\"]\n",
    "metadata_filter = [\"related_paths\", \"related_urls\"]\n",
    "\n",
    "loader = MkDocsSiteLoader(site_url=url, sections_filter=sections_filter, metadata_filter=metadata_filter)"
   ]
  },
  {
   "cell_type": "code",
   "execution_count": 46,
   "metadata": {
    "ExecuteTime": {
     "end_time": "2023-11-29T19:41:40.758460Z",
     "start_time": "2023-11-29T19:41:21.085920Z"
    },
    "collapsed": false,
    "jupyter": {
     "outputs_hidden": false
    }
   },
   "outputs": [
    {
     "name": "stdout",
     "output_type": "stream",
     "text": [
      "Error processing https://hummingbot.org/bounties: Redirect response '308 Permanent Redirect' for url 'https://hummingbot.org/bounties'\n",
      "Redirect location: '/bounties/'\n",
      "For more information check: https://developer.mozilla.org/en-US/docs/Web/HTTP/Status/308\n",
      "Error processing https://hummingbot.org/governance/polls: Redirect response '308 Permanent Redirect' for url 'https://hummingbot.org/governance/polls'\n",
      "Redirect location: '/governance/polls/'\n",
      "For more information check: https://developer.mozilla.org/en-US/docs/Web/HTTP/Status/308\n",
      "Error processing https://hummingbot.org/governance/proposals: Redirect response '308 Permanent Redirect' for url 'https://hummingbot.org/governance/proposals'\n",
      "Redirect location: '/governance/proposals/'\n",
      "For more information check: https://developer.mozilla.org/en-US/docs/Web/HTTP/Status/308\n",
      "Error processing https://hummingbot.org/governance/bounties: Client error '404 Not Found' for url 'https://hummingbot.org/governance/bounties'\n",
      "For more information check: https://developer.mozilla.org/en-US/docs/Web/HTTP/Status/404\n",
      "Error processing https://hummingbot.org/strategies/amm-arbitrage: Redirect response '308 Permanent Redirect' for url 'https://hummingbot.org/strategies/amm-arbitrage'\n",
      "Redirect location: '/strategies/amm-arbitrage/'\n",
      "For more information check: https://developer.mozilla.org/en-US/docs/Web/HTTP/Status/308\n",
      "Error processing https://hummingbot.org/strategies/uniswap-v3-lp: Redirect response '308 Permanent Redirect' for url 'https://hummingbot.org/strategies/uniswap-v3-lp'\n",
      "Redirect location: '/strategies/uniswap-v3-lp/'\n",
      "For more information check: https://developer.mozilla.org/en-US/docs/Web/HTTP/Status/308\n",
      "Error processing https://hummingbot.org/governance/epochs: Redirect response '308 Permanent Redirect' for url 'https://hummingbot.org/governance/epochs'\n",
      "Redirect location: '/governance/epochs/'\n",
      "For more information check: https://developer.mozilla.org/en-US/docs/Web/HTTP/Status/308\n",
      "Error processing https://hummingbot.org/developers/connectors/build: Redirect response '308 Permanent Redirect' for url 'https://hummingbot.org/developers/connectors/build'\n",
      "Redirect location: '/developers/connectors/build/'\n",
      "For more information check: https://developer.mozilla.org/en-US/docs/Web/HTTP/Status/308\n",
      "Error processing https://hummingbot.org/developers/connectors/test: Redirect response '308 Permanent Redirect' for url 'https://hummingbot.org/developers/connectors/test'\n",
      "Redirect location: '/developers/connectors/test/'\n",
      "For more information check: https://developer.mozilla.org/en-US/docs/Web/HTTP/Status/308\n",
      "Error processing https://hummingbot.org/gateway: Redirect response '308 Permanent Redirect' for url 'https://hummingbot.org/gateway'\n",
      "Redirect location: '/gateway/'\n",
      "For more information check: https://developer.mozilla.org/en-US/docs/Web/HTTP/Status/308\n",
      "Error processing https://hummingbot.org/developers/contributions: Redirect response '308 Permanent Redirect' for url 'https://hummingbot.org/developers/contributions'\n",
      "Redirect location: '/developers/contributions/'\n",
      "For more information check: https://developer.mozilla.org/en-US/docs/Web/HTTP/Status/308\n",
      "Error processing https://hummingbot.org/strategies/perpetual-market-making: Redirect response '308 Permanent Redirect' for url 'https://hummingbot.org/strategies/perpetual-market-making'\n",
      "Redirect location: '/strategies/perpetual-market-making/'\n",
      "For more information check: https://developer.mozilla.org/en-US/docs/Web/HTTP/Status/308\n",
      "Error processing https://hummingbot.org/developers/strategies/tutorial: Redirect response '308 Permanent Redirect' for url 'https://hummingbot.org/developers/strategies/tutorial'\n",
      "Redirect location: '/developers/strategies/tutorial/'\n",
      "For more information check: https://developer.mozilla.org/en-US/docs/Web/HTTP/Status/308\n",
      "Error processing https://hummingbot.org/scripts/index: Redirect response '308 Permanent Redirect' for url 'https://hummingbot.org/scripts/index'\n",
      "Redirect location: '/scripts/'\n",
      "For more information check: https://developer.mozilla.org/en-US/docs/Web/HTTP/Status/308\n",
      "Error processing https://hummingbot.org/client/password: Redirect response '308 Permanent Redirect' for url 'https://hummingbot.org/client/password'\n",
      "Redirect location: '/client/password/'\n",
      "For more information check: https://developer.mozilla.org/en-US/docs/Web/HTTP/Status/308\n",
      "Error processing https://hummingbot.org/installation: Redirect response '308 Permanent Redirect' for url 'https://hummingbot.org/installation'\n",
      "Redirect location: '/installation/'\n",
      "For more information check: https://developer.mozilla.org/en-US/docs/Web/HTTP/Status/308\n",
      "Error processing https://hummingbot.org/scripts/getting-started/custom-script/custom-pmm-3.md: Client error '404 Not Found' for url 'https://hummingbot.org/scripts/getting-started/custom-script/custom-pmm-3.md'\n",
      "For more information check: https://developer.mozilla.org/en-US/docs/Web/HTTP/Status/404\n",
      "Error processing https://hummingbot.org/strategies/pure-market-making: Redirect response '308 Permanent Redirect' for url 'https://hummingbot.org/strategies/pure-market-making'\n",
      "Redirect location: '/strategies/pure-market-making/'\n",
      "For more information check: https://developer.mozilla.org/en-US/docs/Web/HTTP/Status/308\n",
      "Error processing https://hummingbot.org/strategy-configs/filled-order-delay: Redirect response '308 Permanent Redirect' for url 'https://hummingbot.org/strategy-configs/filled-order-delay'\n",
      "Redirect location: '/strategy-configs/filled-order-delay/'\n",
      "For more information check: https://developer.mozilla.org/en-US/docs/Web/HTTP/Status/308\n",
      "Error processing https://hummingbot.org/strategy-configs/hanging-orders: Redirect response '308 Permanent Redirect' for url 'https://hummingbot.org/strategy-configs/hanging-orders'\n",
      "Redirect location: '/strategy-configs/hanging-orders/'\n",
      "For more information check: https://developer.mozilla.org/en-US/docs/Web/HTTP/Status/308\n",
      "Error processing https://hummingbot.org/strategy-configs/minimum-spread: Redirect response '308 Permanent Redirect' for url 'https://hummingbot.org/strategy-configs/minimum-spread'\n",
      "Redirect location: '/strategy-configs/minimum-spread/'\n",
      "For more information check: https://developer.mozilla.org/en-US/docs/Web/HTTP/Status/308\n",
      "Error processing https://hummingbot.org/strategy-configs/order-refresh-tolerance: Redirect response '308 Permanent Redirect' for url 'https://hummingbot.org/strategy-configs/order-refresh-tolerance'\n",
      "Redirect location: '/strategy-configs/order-refresh-tolerance/'\n",
      "For more information check: https://developer.mozilla.org/en-US/docs/Web/HTTP/Status/308\n",
      "Error processing https://hummingbot.org/strategy-configs/ping-pong: Redirect response '308 Permanent Redirect' for url 'https://hummingbot.org/strategy-configs/ping-pong'\n",
      "Redirect location: '/strategy-configs/ping-pong/'\n",
      "For more information check: https://developer.mozilla.org/en-US/docs/Web/HTTP/Status/308\n",
      "Error processing https://hummingbot.org/strategy-configs/order-optimization: Redirect response '308 Permanent Redirect' for url 'https://hummingbot.org/strategy-configs/order-optimization'\n",
      "Redirect location: '/strategy-configs/order-optimization/'\n",
      "For more information check: https://developer.mozilla.org/en-US/docs/Web/HTTP/Status/308\n",
      "Error processing https://hummingbot.org/strategy-configs/add-transaction-costs: Redirect response '308 Permanent Redirect' for url 'https://hummingbot.org/strategy-configs/add-transaction-costs'\n",
      "Redirect location: '/strategy-configs/add-transaction-costs/'\n",
      "For more information check: https://developer.mozilla.org/en-US/docs/Web/HTTP/Status/308\n",
      "Error processing https://hummingbot.org/quickstart/index.md: Client error '404 Not Found' for url 'https://hummingbot.org/quickstart/index.md'\n",
      "For more information check: https://developer.mozilla.org/en-US/docs/Web/HTTP/Status/404\n",
      "Error processing https://hummingbot.org/developers/strategies: Redirect response '308 Permanent Redirect' for url 'https://hummingbot.org/developers/strategies'\n",
      "Redirect location: '/developers/strategies/'\n",
      "For more information check: https://developer.mozilla.org/en-US/docs/Web/HTTP/Status/308\n",
      "Error processing https://hummingbot.org/strategies/cross-exchange-market-making: Redirect response '308 Permanent Redirect' for url 'https://hummingbot.org/strategies/cross-exchange-market-making'\n",
      "Redirect location: '/strategies/cross-exchange-market-making/'\n",
      "For more information check: https://developer.mozilla.org/en-US/docs/Web/HTTP/Status/308\n",
      "Error processing https://hummingbot.org/strategies/avellaneda-market-making: Redirect response '308 Permanent Redirect' for url 'https://hummingbot.org/strategies/avellaneda-market-making'\n",
      "Redirect location: '/strategies/avellaneda-market-making/'\n",
      "For more information check: https://developer.mozilla.org/en-US/docs/Web/HTTP/Status/308\n",
      "Error processing https://hummingbot.org/strategies/cross-exchange-mining: Redirect response '308 Permanent Redirect' for url 'https://hummingbot.org/strategies/cross-exchange-mining'\n",
      "Redirect location: '/strategies/cross-exchange-mining/'\n",
      "For more information check: https://developer.mozilla.org/en-US/docs/Web/HTTP/Status/308\n",
      "Error processing https://hummingbot.org/strategies/hedge: Redirect response '308 Permanent Redirect' for url 'https://hummingbot.org/strategies/hedge'\n",
      "Redirect location: '/strategies/hedge/'\n",
      "For more information check: https://developer.mozilla.org/en-US/docs/Web/HTTP/Status/308\n",
      "Error processing https://hummingbot.org/strategies/liquidity-mining: Redirect response '308 Permanent Redirect' for url 'https://hummingbot.org/strategies/liquidity-mining'\n",
      "Redirect location: '/strategies/liquidity-mining/'\n",
      "For more information check: https://developer.mozilla.org/en-US/docs/Web/HTTP/Status/308\n",
      "Error processing https://hummingbot.org/strategies/spot-perpetual-arbitrage: Redirect response '308 Permanent Redirect' for url 'https://hummingbot.org/strategies/spot-perpetual-arbitrage'\n",
      "Redirect location: '/strategies/spot-perpetual-arbitrage/'\n",
      "For more information check: https://developer.mozilla.org/en-US/docs/Web/HTTP/Status/308\n",
      "Error processing https://hummingbot.org/strategies/twap: Redirect response '308 Permanent Redirect' for url 'https://hummingbot.org/strategies/twap'\n",
      "Redirect location: '/strategies/twap/'\n",
      "For more information check: https://developer.mozilla.org/en-US/docs/Web/HTTP/Status/308\n",
      "Error processing https://hummingbot.org/developers/strategies/key-concepts: Redirect response '308 Permanent Redirect' for url 'https://hummingbot.org/developers/strategies/key-concepts'\n",
      "Redirect location: '/developers/strategies/key-concepts/'\n",
      "For more information check: https://developer.mozilla.org/en-US/docs/Web/HTTP/Status/308\n",
      "Error processing https://hummingbot.org/developers/strategies/config: Redirect response '308 Permanent Redirect' for url 'https://hummingbot.org/developers/strategies/config'\n",
      "Redirect location: '/developers/strategies/config/'\n",
      "For more information check: https://developer.mozilla.org/en-US/docs/Web/HTTP/Status/308\n",
      "Error processing https://hummingbot.org/developers/strategies/hanging-orders: Client error '404 Not Found' for url 'https://hummingbot.org/developers/strategies/hanging-orders'\n",
      "For more information check: https://developer.mozilla.org/en-US/docs/Web/HTTP/Status/404\n",
      "Error processing https://hummingbot.org/v2-strategies/executors: Redirect response '308 Permanent Redirect' for url 'https://hummingbot.org/v2-strategies/executors'\n",
      "Redirect location: '/v2-strategies/executors/'\n",
      "For more information check: https://developer.mozilla.org/en-US/docs/Web/HTTP/Status/308\n",
      "Error processing https://hummingbot.org/v2-strategies/candles: Redirect response '308 Permanent Redirect' for url 'https://hummingbot.org/v2-strategies/candles'\n",
      "Redirect location: '/v2-strategies/candles/'\n",
      "For more information check: https://developer.mozilla.org/en-US/docs/Web/HTTP/Status/308\n",
      "Error processing https://hummingbot.org/v2-strategies/controllers: Redirect response '308 Permanent Redirect' for url 'https://hummingbot.org/v2-strategies/controllers'\n",
      "Redirect location: '/v2-strategies/controllers/'\n",
      "For more information check: https://developer.mozilla.org/en-US/docs/Web/HTTP/Status/308\n",
      "Error processing https://hummingbot.org/v2-strategies/executor-handlers: Redirect response '308 Permanent Redirect' for url 'https://hummingbot.org/v2-strategies/executor-handlers'\n",
      "Redirect location: '/v2-strategies/executor-handlers/'\n",
      "For more information check: https://developer.mozilla.org/en-US/docs/Web/HTTP/Status/308\n",
      "Error processing https://hummingbot.org/client/config-files: Redirect response '308 Permanent Redirect' for url 'https://hummingbot.org/client/config-files'\n",
      "Redirect location: '/client/config-files/'\n",
      "For more information check: https://developer.mozilla.org/en-US/docs/Web/HTTP/Status/308\n",
      "Error processing https://hummingbot.org/client/quickstart/index.md: Client error '404 Not Found' for url 'https://hummingbot.org/client/quickstart/index.md'\n",
      "For more information check: https://developer.mozilla.org/en-US/docs/Web/HTTP/Status/404\n",
      "Error processing https://hummingbot.org/client/user-interface: Redirect response '308 Permanent Redirect' for url 'https://hummingbot.org/client/user-interface'\n",
      "Redirect location: '/client/user-interface/'\n",
      "For more information check: https://developer.mozilla.org/en-US/docs/Web/HTTP/Status/308\n",
      "Error processing https://hummingbot.org/client/commands-shortcuts: Redirect response '308 Permanent Redirect' for url 'https://hummingbot.org/client/commands-shortcuts'\n",
      "Redirect location: '/client/commands-shortcuts/'\n",
      "For more information check: https://developer.mozilla.org/en-US/docs/Web/HTTP/Status/308\n",
      "Error processing https://hummingbot.org/client/launch-exit: Redirect response '308 Permanent Redirect' for url 'https://hummingbot.org/client/launch-exit'\n",
      "Redirect location: '/client/launch-exit/'\n",
      "For more information check: https://developer.mozilla.org/en-US/docs/Web/HTTP/Status/308\n",
      "Error processing https://hummingbot.org/client/log-files: Redirect response '308 Permanent Redirect' for url 'https://hummingbot.org/client/log-files'\n",
      "Redirect location: '/client/log-files/'\n",
      "For more information check: https://developer.mozilla.org/en-US/docs/Web/HTTP/Status/308\n",
      "Error processing https://hummingbot.org/client/start-stop: Redirect response '308 Permanent Redirect' for url 'https://hummingbot.org/client/start-stop'\n",
      "Redirect location: '/client/start-stop/'\n",
      "For more information check: https://developer.mozilla.org/en-US/docs/Web/HTTP/Status/308\n",
      "Error processing https://hummingbot.org/global-configs/paper-trade: Redirect response '308 Permanent Redirect' for url 'https://hummingbot.org/global-configs/paper-trade'\n",
      "Redirect location: '/global-configs/paper-trade/'\n",
      "For more information check: https://developer.mozilla.org/en-US/docs/Web/HTTP/Status/308\n",
      "Error processing https://hummingbot.org/global-configs/strategy-autostart: Redirect response '308 Permanent Redirect' for url 'https://hummingbot.org/global-configs/strategy-autostart'\n",
      "Redirect location: '/global-configs/strategy-autostart/'\n",
      "For more information check: https://developer.mozilla.org/en-US/docs/Web/HTTP/Status/308\n",
      "Error processing https://hummingbot.org/global-configs/balance-limit: Redirect response '308 Permanent Redirect' for url 'https://hummingbot.org/global-configs/balance-limit'\n",
      "Redirect location: '/global-configs/balance-limit/'\n",
      "For more information check: https://developer.mozilla.org/en-US/docs/Web/HTTP/Status/308\n",
      "Error processing https://hummingbot.org/global-configs/clock-tick.md: Client error '404 Not Found' for url 'https://hummingbot.org/global-configs/clock-tick.md'\n",
      "For more information check: https://developer.mozilla.org/en-US/docs/Web/HTTP/Status/404\n",
      "Error processing https://hummingbot.org/global-configs/color-settings: Redirect response '308 Permanent Redirect' for url 'https://hummingbot.org/global-configs/color-settings'\n",
      "Redirect location: '/global-configs/color-settings/'\n",
      "For more information check: https://developer.mozilla.org/en-US/docs/Web/HTTP/Status/308\n",
      "Error processing https://hummingbot.org/global-configs/external-db: Redirect response '308 Permanent Redirect' for url 'https://hummingbot.org/global-configs/external-db'\n",
      "Redirect location: '/global-configs/external-db/'\n",
      "For more information check: https://developer.mozilla.org/en-US/docs/Web/HTTP/Status/308\n",
      "Error processing https://hummingbot.org/global-configs/kill-switch: Redirect response '308 Permanent Redirect' for url 'https://hummingbot.org/global-configs/kill-switch'\n",
      "Redirect location: '/global-configs/kill-switch/'\n",
      "For more information check: https://developer.mozilla.org/en-US/docs/Web/HTTP/Status/308\n",
      "Error processing https://hummingbot.org/global-configs/override-fees: Redirect response '308 Permanent Redirect' for url 'https://hummingbot.org/global-configs/override-fees'\n",
      "Redirect location: '/global-configs/override-fees/'\n",
      "For more information check: https://developer.mozilla.org/en-US/docs/Web/HTTP/Status/308\n",
      "Error processing https://hummingbot.org/global-configs/rate-limits-share-pct: Redirect response '308 Permanent Redirect' for url 'https://hummingbot.org/global-configs/rate-limits-share-pct'\n",
      "Redirect location: '/global-configs/rate-limits-share-pct/'\n",
      "For more information check: https://developer.mozilla.org/en-US/docs/Web/HTTP/Status/308\n",
      "Error processing https://hummingbot.org/global-configs/telegram: Redirect response '308 Permanent Redirect' for url 'https://hummingbot.org/global-configs/telegram'\n",
      "Redirect location: '/global-configs/telegram/'\n",
      "For more information check: https://developer.mozilla.org/en-US/docs/Web/HTTP/Status/308\n",
      "Error processing https://hummingbot.org/dashboard: Redirect response '308 Permanent Redirect' for url 'https://hummingbot.org/dashboard'\n",
      "Redirect location: '/dashboard/'\n",
      "For more information check: https://developer.mozilla.org/en-US/docs/Web/HTTP/Status/308\n",
      "Error processing https://hummingbot.org/about: Redirect response '308 Permanent Redirect' for url 'https://hummingbot.org/about'\n",
      "Redirect location: '/about/'\n",
      "For more information check: https://developer.mozilla.org/en-US/docs/Web/HTTP/Status/308\n",
      "Error processing https://hummingbot.org/governance: Redirect response '308 Permanent Redirect' for url 'https://hummingbot.org/governance'\n",
      "Redirect location: '/governance/'\n",
      "For more information check: https://developer.mozilla.org/en-US/docs/Web/HTTP/Status/308\n",
      "Error processing https://hummingbot.org/faq: Redirect response '308 Permanent Redirect' for url 'https://hummingbot.org/faq'\n",
      "Redirect location: '/faq/'\n",
      "For more information check: https://developer.mozilla.org/en-US/docs/Web/HTTP/Status/308\n",
      "Error processing https://hummingbot.org/governance/releases: Redirect response '308 Permanent Redirect' for url 'https://hummingbot.org/governance/releases'\n",
      "Redirect location: '/governance/releases/'\n",
      "For more information check: https://developer.mozilla.org/en-US/docs/Web/HTTP/Status/308\n",
      "Error processing https://hummingbot.org/quickstart/: Client error '404 Not Found' for url 'https://hummingbot.org/quickstart/'\n",
      "For more information check: https://developer.mozilla.org/en-US/docs/Web/HTTP/Status/404\n",
      "Error processing https://hummingbot.org/installation/getting-started/custom-script/index.md: Client error '404 Not Found' for url 'https://hummingbot.org/installation/getting-started/custom-script/index.md'\n",
      "For more information check: https://developer.mozilla.org/en-US/docs/Web/HTTP/Status/404\n",
      "Error processing https://hummingbot.org/getting-started/dashboard/: Client error '404 Not Found' for url 'https://hummingbot.org/getting-started/dashboard/'\n",
      "For more information check: https://developer.mozilla.org/en-US/docs/Web/HTTP/Status/404\n",
      "Error processing https://hummingbot.org/getting-started/custom-script/index.md: Client error '404 Not Found' for url 'https://hummingbot.org/getting-started/custom-script/index.md'\n",
      "For more information check: https://developer.mozilla.org/en-US/docs/Web/HTTP/Status/404\n",
      "Error processing https://hummingbot.org/getting-started/liquidity-mining/index.md: Client error '404 Not Found' for url 'https://hummingbot.org/getting-started/liquidity-mining/index.md'\n",
      "For more information check: https://developer.mozilla.org/en-US/docs/Web/HTTP/Status/404\n",
      "Error processing https://hummingbot.org/developers/contributions.m: Client error '404 Not Found' for url 'https://hummingbot.org/developers/contributions.m'\n",
      "For more information check: https://developer.mozilla.org/en-US/docs/Web/HTTP/Status/404\n",
      "Error processing https://hummingbot.org/client: Redirect response '308 Permanent Redirect' for url 'https://hummingbot.org/client'\n",
      "Redirect location: '/client/'\n",
      "For more information check: https://developer.mozilla.org/en-US/docs/Web/HTTP/Status/308\n",
      "Error processing https://hummingbot.org/strategies: Redirect response '308 Permanent Redirect' for url 'https://hummingbot.org/strategies'\n",
      "Redirect location: '/strategies/'\n",
      "For more information check: https://developer.mozilla.org/en-US/docs/Web/HTTP/Status/308\n",
      "Error processing https://hummingbot.org/v2-strategies: Redirect response '308 Permanent Redirect' for url 'https://hummingbot.org/v2-strategies'\n",
      "Redirect location: '/v2-strategies/'\n",
      "For more information check: https://developer.mozilla.org/en-US/docs/Web/HTTP/Status/308\n",
      "Error processing https://hummingbot.org/scripts: Redirect response '308 Permanent Redirect' for url 'https://hummingbot.org/scripts'\n",
      "Redirect location: '/scripts/'\n",
      "For more information check: https://developer.mozilla.org/en-US/docs/Web/HTTP/Status/308\n",
      "Error processing https://hummingbot.org/v1-strategies: Redirect response '308 Permanent Redirect' for url 'https://hummingbot.org/v1-strategies'\n",
      "Redirect location: '/v1-strategies/'\n",
      "For more information check: https://developer.mozilla.org/en-US/docs/Web/HTTP/Status/308\n",
      "Error processing https://hummingbot.org/cex-connectors: Redirect response '308 Permanent Redirect' for url 'https://hummingbot.org/cex-connectors'\n",
      "Redirect location: '/cex-connectors/'\n",
      "For more information check: https://developer.mozilla.org/en-US/docs/Web/HTTP/Status/308\n",
      "Error processing https://hummingbot.org/dex-connectors: Redirect response '308 Permanent Redirect' for url 'https://hummingbot.org/dex-connectors'\n",
      "Redirect location: '/dex-connectors/'\n",
      "For more information check: https://developer.mozilla.org/en-US/docs/Web/HTTP/Status/308\n"
     ]
    }
   ],
   "source": [
    "documents = loader.load()"
   ]
  },
  {
   "cell_type": "code",
   "execution_count": 47,
   "metadata": {
    "ExecuteTime": {
     "end_time": "2023-11-29T19:41:54.506483Z",
     "start_time": "2023-11-29T19:41:54.502624Z"
    },
    "collapsed": false,
    "jupyter": {
     "outputs_hidden": false
    }
   },
   "outputs": [
    {
     "data": {
      "text/plain": [
       "[{'url': 'https://hummingbot.org/',\n",
       "  'titles': '#stay-ahead-with-the-hummingbot-newsletter\\n#directional-trading-with-macd-and-bollinger-bands\\n#for-many-crypto-market-making-firms-hummingbot-is-the-trusted-starting-point-for-creating-secure-scalable-algo-trading-solutions\\n#protocols-token-projects\\n#published-when-each-monthly-release-drops-our-official-newsletter-has-all-the-hummingbot-news-upcoming-events-and-contributions-from-the-global-hummingbot-community\\n#learn-how-to-design-and-code-strategies-like-these-in-botcamp-the-official-training-and-membership-program-for-the-hummingbot-community\\n#we-are-grateful-to-the-exchanges-protocols-and-companies-who-support-our-quest-to-democratize-high-frequency-trading\\n#market-makers\\n#what-strategies-can-you-build-with-hummingbot\\n#introducing-v2-strategies\\n#a-global-nexus-for-algo-traders\\n#what-can-you-do-with-hummingbot\\n#algorithmic-traders-and-boutique-firms-leverage-hummingbot-for-capturing-cross-chain-cross-exchange-arbitrage-opportunities-with-the-amm-arbitrage-strategy-and-earning-liquidity-mining-rewards-on-hummingbot-miner\\n#algo-traders-boutique-firms\\n#sponsors-backers\\n#the-hummingbot-foundation-a-not-for-profit-beacon-ensures-the-codebases-decentralized-evolution-guided-by-the-hummingbot-community-and-governance-token-hbot\\n#who-uses-hummingbot\\n#technical-deep-dive-into-the-avellaneda-stoikov-strategy\\n#blockchain-protocols-harness-hummingbot-to-foster-liquidity-catalyzing-their-ecosystems-without-the-overhead-of-external-market-makers'},\n",
       " {'url': 'https://hummingbot.org/docs/',\n",
       "  'titles': '#core-repos\\n#strategies\\n#connectors'},\n",
       " {'url': 'https://hummingbot.org/bounties/',\n",
       "  'titles': '#bounty-types\\n#bounties-board\\n#governance-for-new-connectors\\n#bounty-lifecycle'},\n",
       " {'url': 'https://hummingbot.org/governance/',\n",
       "  'titles': '#hbot-token\\n#governance-forums\\n#voting-your-tokens\\n#token-data-and-markets\\n#hbot-tracker'},\n",
       " {'url': 'https://hummingbot.org/about/',\n",
       "  'titles': '#community-calls\\n#dockerhub\\n#community-channels\\n#history\\n#code-repositories\\n#github\\n#public-resources'},\n",
       " {'url': 'https://hummingbot.org/getting-started/',\n",
       "  'titles': '#getting-help\\n#for-developers\\n#install-hummingbot-client\\n#quickstart-guides\\n#hummingbot-academy'},\n",
       " {'url': 'https://hummingbot.org/installation/',\n",
       "  'titles': '#mqtt-brokers-repo\\n#hummingbot-in-the-cloud\\n#system-requirements\\n#installation-methods\\n#post-installation\\n#source\\n#docker'},\n",
       " {'url': 'https://hummingbot.org/installation/docker/',\n",
       "  'titles': '#detach-from-the-container-and-return-to-command-line\\n#attach-to-the-container\\n#multiple-hummingbot-instances-gateway\\n#useful-docker-commands\\n#single-hummingbot-instance\\n#docker-buildx\\n#hummingbot-gateway-emqx-broker\\n#deploy-examples\\n#list-all-containers\\n#stop-the-compose-project\\n#create-the-compose-project\\n#deployment-types\\n#update-the-container-to-the-latest-image\\n#bash-scripts\\n#autostart-hummingbot-instance\\n#hummingbot-gateway-instances\\n#give-all-users-readwrite-permissions-to-local-files\\n#docker\\n#building-docker-images\\n#remove-a-container\\n#docker-compose\\n#docker-build\\n#update-the-compose-project-for-the-latest-images\\n#prequisites\\n#stop-a-container'},\n",
       " {'url': 'https://hummingbot.org/installation/source/',\n",
       "  'titles': '#start-hummingbot\\n#run-the-install-script\\n#remove-hummingbot-conda-environment\\n#useful-commands\\n#removed-compiled-files\\n#clone-the-hummingbot-repo\\n#compile-hummmingbot'},\n",
       " {'url': 'https://hummingbot.org/installation/linux/',\n",
       "  'titles': '#active-environment\\n#install-environment\\n#compile-source-code\\n#start-hummingbot\\n#clone-repo\\n#other-useful-commands\\n#launch-hummingbot\\n#run-the-install-script\\n#update-hummingbot-to-development-branch\\n#remove-hummingbot-conda-environment\\n#miniconda-anaconda\\n#install-hummingbot\\n#compile-hummmingbot\\n#removed-compiled-files\\n#update-hummingbot-to-latest-master-release\\n#build-essentials\\n#clone-the-hummingbot-repo\\n#prerequisites'},\n",
       " {'url': 'https://hummingbot.org/installation/mac/',\n",
       "  'titles': '#install-environment\\n#conda-command-and-zsh\\n#prerequisites\\n#conda-and-apple-m1m2-chips\\n#start-hummingbot\\n#launch-hummingbot\\n#miniconda-anaconda\\n#active-environment\\n#compile-source-code\\n#run-the-install-script\\n#install-hummingbot\\n#xcode-command-line-tools\\n#update-hummingbot-to-development-branch\\n#clone-repo\\n#other-useful-commands\\n#remove-hummingbot-conda-environment\\n#removed-compiled-files\\n#update-hummingbot-to-latest-master-release\\n#clone-the-hummingbot-repo\\n#compile-hummmingbot'},\n",
       " {'url': 'https://hummingbot.org/installation/windows/',\n",
       "  'titles': '#windows-subsystem-for-linux-2-wsl-2\\n#install-hummingbot\\n#prerequisites'},\n",
       " {'url': 'https://hummingbot.org/installation/raspberry-pi/',\n",
       "  'titles': '#install-from-source\\n#load-the-image-file-to-your-raspberry-pis-sd-card\\n#download-64-bit-os\\n#prerequisites'},\n",
       " {'url': 'https://hummingbot.org/installation/post-installation/',\n",
       "  'titles': '#launching-hummingbot\\n#keeping-bots-running-in-background\\n#docker_2\\n#folder-structure\\n#source\\n#source_1\\n#exiting-hummingbot\\n#updating-hummingbot\\n#docker\\n#source_2\\n#docker_1'},\n",
       " {'url': 'https://hummingbot.org/installation/broker/',\n",
       "  'titles': '#future-phases\\n#phase-ii\\n#phase-i'},\n",
       " {'url': 'https://hummingbot.org/client/',\n",
       "  'titles': '#basic-operations\\n#advanced-features'},\n",
       " {'url': 'https://hummingbot.org/client/user-interface/',\n",
       "  'titles': '#user-interface-guide\\n#closing-a-tab\\n#macos\\n#windows\\n#opening-a-tab\\n#linux\\n#tabs\\n#keyboard-shortcuts\\n#opening-and-closing\\n#show-and-hide-log-pane'},\n",
       " {'url': 'https://hummingbot.org/client/commands-shortcuts/',\n",
       "  'titles': '#docker-commands\\n#linux-commands\\n#gateway-commands\\n#search\\n#adding-new-commands\\n#commands-and-shortcuts\\n#keyboard-shortcuts\\n#copy-and-paste\\n#hummingbot-commands'},\n",
       " {'url': 'https://hummingbot.org/client/launch-exit/',\n",
       "  'titles': '#launch-and-exit-hummingbot\\n#launch-from-source\\n#exit-hummingbot\\n#launch-via-docker'},\n",
       " {'url': 'https://hummingbot.org/client/password/',\n",
       "  'titles': '#creating-a-password\\n#create-and-delete-password\\n#deleting-a-password'},\n",
       " {'url': 'https://hummingbot.org/client/connect/',\n",
       "  'titles': '#checking-connection-status\\n#connecting-to-exchanges'},\n",
       " {'url': 'https://hummingbot.org/client/config-files/',\n",
       "  'titles': '#creating-a-new-strategy-file\\n#strategy-specific-files\\n#create-or-import-config-files\\n#create-command-shortcuts\\n#import-an-existing-strategy-file\\n#setup-walkthrough\\n#config-file-templates'},\n",
       " {'url': 'https://hummingbot.org/client/balance/',\n",
       "  'titles': '#displaying-token-symbols-in-balance\\n#how-to-get-balances\\n#balance-limits\\n#adding-paper-trade-balance\\n#exchange-and-wallet-balance\\n#how-it-works\\n#example-scenario\\n#paper-trade-balance'},\n",
       " {'url': 'https://hummingbot.org/client/start-stop/',\n",
       "  'titles': '#starting-a-strategy\\n#start-and-stop-strategy\\n#stop-a-running-strategy'},\n",
       " {'url': 'https://hummingbot.org/client/status/',\n",
       "  'titles': '#check-bot-and-market-status\\n#check-bot-status\\n#get-live-bot-status\\n#status\\n#view-market-order-book\\n#view-market-ticker-prices'},\n",
       " {'url': 'https://hummingbot.org/client/history/',\n",
       "  'titles': '#sample-output\\n#hold-portfolio-value\\n#history-command\\n#current-portfolio-value\\n#return-percentage\\n#how-it-works\\n#total-pl\\n#performance-history\\n#trade-pl\\n#average-price'},\n",
       " {'url': 'https://hummingbot.org/client/log-files/',\n",
       "  'titles': '#log-file-management\\n#log-files\\n#viewing-log-configurations\\n#viewing-individual-log-files'},\n",
       " {'url': 'https://hummingbot.org/client/export/',\n",
       "  'titles': '#export-trades\\n#export-keys'},\n",
       " {'url': 'https://hummingbot.org/developers/commands/',\n",
       "  'titles': '#adding-new-commands'},\n",
       " {'url': 'https://hummingbot.org/global-configs/balance-limit/',\n",
       "  'titles': '#example-scenario\\n#how-it-works'},\n",
       " {'url': 'https://hummingbot.org/global-configs/clock-tick/',\n",
       "  'titles': '#how-to-configure-tick-size\\n#how-it-works\\n#clock-tick-size\\n#more-resources'},\n",
       " {'url': 'https://hummingbot.org/global-configs/strategy-autostart/',\n",
       "  'titles': '#source-autostart\\n#how-to-autostart\\n#locating-config-files\\n#optional-commands\\n#strategy-autostart\\n#docker-autostart\\n#how-to-autostart_1\\n#prerequisites_1\\n#prerequisites\\n#locating-config-files_1'},\n",
       " {'url': 'https://hummingbot.org/global-configs/color-settings/',\n",
       "  'titles': '#changing-the-panel-colors\\n#color-settings\\n#reset-colors-to-default'},\n",
       " {'url': 'https://hummingbot.org/global-configs/external-db/',\n",
       "  'titles': '#sqlalchemy-dialects\\n#configuration-parameters\\n#additional-resources'},\n",
       " {'url': 'https://hummingbot.org/developers/debug/',\n",
       "  'titles': '#entering-the-debug-console\\n#activating-the-debug-console\\n#accessing-python-modules-and-exposed-objects\\n#sample-ways-to-use-the-console'},\n",
       " {'url': 'https://hummingbot.org/global-configs/kill-switch/', 'titles': ''},\n",
       " {'url': 'https://hummingbot.org/global-configs/data-collector/',\n",
       "  'titles': ''},\n",
       " {'url': 'https://hummingbot.org/global-configs/override-fees/',\n",
       "  'titles': '#override-fees'},\n",
       " {'url': 'https://hummingbot.org/global-configs/paper-trade/',\n",
       "  'titles': '#enabling-and-disabling\\n#adding-paper-trade-balance\\n#adding-exchanges'},\n",
       " {'url': 'https://hummingbot.org/strategy-configs/rate-oracle/',\n",
       "  'titles': '#parameters\\n#rate_oracle_source\\n#global_tokenglobal_token_name\\n#how-it-works\\n#global_tokenglobal_tokenglobal_token_symbol'},\n",
       " {'url': 'https://hummingbot.org/global-configs/rate-limits-share-pct/',\n",
       "  'titles': '#how-to-use-the-parameter\\n#rate-limits-share-pct'},\n",
       " {'url': 'https://hummingbot.org/global-configs/telegram/',\n",
       "  'titles': '#using-the-telegram-bot\\n#creating-a-telegram-bot\\n#getting-your-telegram-id\\n#setting-up-in-hummingbot'},\n",
       " {'url': 'https://hummingbot.org/gateway/',\n",
       "  'titles': '#history\\n#what-is-gateway\\n#supported-dexs\\n#how-to-use-gateway\\n#supported-chains\\n#hummingbot-gateway'},\n",
       " {'url': 'https://hummingbot.org/gateway/installation/',\n",
       "  'titles': '#install-with-docker\\n#install-from-source\\n#generate-certs\\n#run-setup-script\\n#installation\\n#start-gateway\\n#prerequisites'},\n",
       " {'url': 'https://hummingbot.org/gateway/testing/',\n",
       "  'titles': '#testing-with-postman\\n#setup\\n#get\\n#unit-tests\\n#testing-with-curl-scripts\\n#adding-certificates\\n#running-tests\\n#importing-collectionenvironment\\n#running-tests_1\\n#get-connectors'},\n",
       " {'url': 'https://hummingbot.org/gateway/setup/',\n",
       "  'titles': '#configuring-node-providers\\n#connecting-to-a-dex\\n#fetching-wallet-balances\\n#working-with-tokens\\n#listing-gateway-commands\\n#updating-config-parameters\\n#checking-gateway-status\\n#getting-help\\n#listing-dex-connectors\\n#adding-new-symbols-to-balance'},\n",
       " {'url': 'https://hummingbot.org/gateway/tokens/',\n",
       "  'titles': '#where-are-lists-stored\\n#testnet-faucets\\n#use-evmapprove-in-postman\\n#wrapped-tokens\\n#approve-token-command\\n#what-are-token-lists\\n#adding-tokens\\n#approving-tokens\\n#displaying-tokens-in-balance'},\n",
       " {'url': 'https://hummingbot.org/gateway/running-dex-bots/',\n",
       "  'titles': '#run-strategy\\n#setup\\n#create-strategy\\n#amm-arbitrage-strategy\\n#triggering-arbitrage-with-debug_price_shim\\n#sample-gateway-scripts'},\n",
       " {'url': 'https://hummingbot.org/gateway/api-reference/',\n",
       "  'titles': '#network\\n#perp-amm\\n#spot-amm\\n#evm\\n#spot-amm-range'},\n",
       " {'url': 'https://hummingbot.org/dashboard/',\n",
       "  'titles': '#featured-pages\\n#getting-started\\n#overview'},\n",
       " {'url': 'https://hummingbot.org/strategies/',\n",
       "  'titles': '#other-strategy-creation-methods\\n#understanding-strategies-in-algorithmic-trading\\n#v1-strategies\\n#elevate-your-trading-with-hummingbots-v2-strategies\\n#scripts'},\n",
       " {'url': 'https://hummingbot.org/v2-strategies/',\n",
       "  'titles': '#botcamp\\n#architecture\\n#introduction'},\n",
       " {'url': 'https://hummingbot.org/v2-strategies/v2-scripts/',\n",
       "  'titles': '#advanced-configurations\\n#triple-barrier-configuration\\n#initialization\\n#configuration-parameters\\n#on_tick\\n#orders-configuration\\n#format_status\\n#candles-exchange\\n#script-inheritance\\n#orders-execution'},\n",
       " {'url': 'https://hummingbot.org/v2-strategies/controllers/',\n",
       "  'titles': '#sample-controllers\\n#conditional-methods\\n#side_filter-feature\\n#configuration\\n#controller-in-detail\\n#get_processed_data-method\\n#smart_activation-feature'},\n",
       " {'url': 'https://hummingbot.org/v2-strategies/candles/',\n",
       "  'titles': '#start-and-stop-methods\\n#usage-examples\\n#candles_df-property\\n#is_ready-property\\n#spot-exchanges\\n#logging-candles-on-tick\\n#key-methods-and-properties\\n#relevant-scripts\\n#perpetual-exchanges\\n#initializing-candles\\n#get_candle-method\\n#candles-factory\\n#multiple-candles-initialization\\n#available-exchanges\\n#overview'},\n",
       " {'url': 'https://hummingbot.org/v2-strategies/executors/',\n",
       "  'titles': '#spot-vs-perpetual-behavior\\n#take-profit\\n#sample-script\\n#conclusion\\n#time-limit\\n#workflow\\n#trailing-stop\\n#configuration\\n#arbitrageexecutor\\n#positionexecutor\\n#introduction-to-executors\\n#execution-flow\\n#stop-loss\\n#overview'},\n",
       " {'url': 'https://hummingbot.org/v2-strategies/executor-handlers/',\n",
       "  'titles': '#executor-handlers-in-hummingbot\\n#market-making-executor-handler\\n#directional-trading-executor-handler'},\n",
       " {'url': 'https://hummingbot.org/v2-strategies/order-levels/',\n",
       "  'titles': '#arithmetic-distribution\\n#manual-order-levels\\n#logarithmic-distribution\\n#linear-distribution\\n#order-level-builder\\n#geometric-distribution'},\n",
       " {'url': 'https://hummingbot.org/v1-strategies/',\n",
       "  'titles': '#contributing-strategies\\n#core-vs-community-strategies\\n#list-of-v1-strategies'},\n",
       " {'url': 'https://hummingbot.org/strategies/pure-market-making/',\n",
       "  'titles': '#strategy-info\\n#architecture\\n#i-more-resources\\n#refreshing-orders\\n#strategy-tier\\n#example-order-flow\\n#executing-order-proposals\\n#supported-exchange-types\\n#pure_market_making\\n#strategy-configs\\n#summary\\n#description'},\n",
       " {'url': 'https://hummingbot.org/strategies/cross-exchange-market-making/',\n",
       "  'titles': '#strategy-info\\n#cross_exchange_market_making\\n#i-more-resources\\n#strategy-configs\\n#summary\\n#live-configuration\\n#strategy-tier\\n#is-hedging-profitable\\n#hedging-order-fills\\n#create-order-flow\\n#cancel-order-flow\\n#architecture\\n#order-creation-and-adjustment\\n#is-there-sufficient-account-balance\\n#is-the-price-correct\\n#description\\n#decentralized-exchanges-gateway\\n#supported-exchange-types\\n#active-order-cancellation-setting'},\n",
       " {'url': 'https://hummingbot.org/strategies/amm-arbitrage/',\n",
       "  'titles': '#strategy-info\\n#amm_arb\\n#i-more-resources\\n#strategy-tier\\n#supported-exchange-types\\n#strategy-configs\\n#summary\\n#description'},\n",
       " {'url': 'https://hummingbot.org/strategies/avellaneda-market-making/',\n",
       "  'titles': '#strategy-info\\n#risk-factor\\n#avellaneda_market_making\\n#i-more-resources\\n#exchanges-supported\\n#strategy-configs\\n#reservation-price\\n#summary\\n#trading-logic-flow\\n#optimal-spreads\\n#strategy-tier\\n#asset-characteristics-estimation\\n#eta-order-size-adjustment\\n#order-levels\\n#minimum-spread\\n#description\\n#timeframes\\n#overview\\n#references'},\n",
       " {'url': 'https://hummingbot.org/strategies/cross-exchange-mining/',\n",
       "  'titles': '#strategy-info\\n#strategy-tier\\n#exchanges-supported\\n#strategy-configs\\n#summary\\n#description\\n#cross-exchange-mining'},\n",
       " {'url': 'https://hummingbot.org/strategies/hedge/',\n",
       "  'titles': '#strategy-info\\n#hedge\\n#i-more-resources\\n#strategy-tier\\n#exchanges-supported\\n#strategy-configs\\n#summary\\n#description'},\n",
       " {'url': 'https://hummingbot.org/strategies/liquidity-mining/',\n",
       "  'titles': '#strategy-info\\n#i-more-resources\\n#strategy-tier\\n#exchanges-supported\\n#strategy-configs\\n#liquidity_mining\\n#summary\\n#description'},\n",
       " {'url': 'https://hummingbot.org/strategies/perpetual-market-making/',\n",
       "  'titles': '#strategy-info\\n#architecture\\n#perpetual_market_making\\n#position-management\\n#i-more-resources\\n#strategy-tier\\n#order-placement\\n#exchanges-supported\\n#strategy-configs\\n#summary\\n#description'},\n",
       " {'url': 'https://hummingbot.org/strategies/spot-perpetual-arbitrage/',\n",
       "  'titles': '#strategy-info\\n#spot_perpetual_arbitrage\\n#i-more-resources\\n#strategy-tier\\n#exchanges-supported\\n#strategy-configs\\n#summary\\n#description'},\n",
       " {'url': 'https://hummingbot.org/strategies/twap/',\n",
       "  'titles': '#strategy-info\\n#i-more-resources\\n#strategy-tier\\n#exchanges-supported\\n#strategy-configs\\n#strategy\\n#twap\\n#demo\\n#summary\\n#config\\n#description\\n#overview'},\n",
       " {'url': 'https://hummingbot.org/strategies/uniswap-v3-lp/',\n",
       "  'titles': '#strategy-info\\n#uniswap_v3_lp\\n#i-more-resources\\n#strategy-tier\\n#exchanges-supported\\n#strategy-configs\\n#important-notes\\n#running\\n#summary\\n#starting\\n#description'},\n",
       " {'url': 'https://hummingbot.org/strategy-configs/',\n",
       "  'titles': '#how-to-configure\\n#list-of-configs'},\n",
       " {'url': 'https://hummingbot.org/strategy-configs/add-transaction-costs/',\n",
       "  'titles': '#calculating-the-bid-order-price\\n#example-when-transaction-cost-is-important\\n#calculating-the-ask-order-price\\n#how-it-works\\n#order-price-calculation-with-transaction-cost\\n#add_transaction_costs\\n#adding-transaction-costs'},\n",
       " {'url': 'https://hummingbot.org/strategy-configs/order-levels/',\n",
       "  'titles': '#sample-configuration\\n#order_level_spread\\n#order-levels\\n#how-it-works\\n#order_level_amount\\n#order_levels'},\n",
       " {'url': 'https://hummingbot.org/strategy-configs/filled-order-delay/',\n",
       "  'titles': '#filled-order-delay-with-shorter-order-refresh-time\\n#filled-order-delay-with-longer-order-refresh-time\\n#filled_order_delay\\n#filled-order-delay\\n#how-it-works'},\n",
       " {'url': 'https://hummingbot.org/strategy-configs/hanging-orders/',\n",
       "  'titles': '#market-without-hanging-orders\\n#example-1-basic\\n#market-with-hanging-orders\\n#the-management-process\\n#illustrative-examples-when-hanging-orders-are-important\\n#sample-configurations\\n#configuration-variables\\n#hanging-orders-with-multiple-order-levels\\n#registering-the-tracker\\n#how-it-works\\n#hanging-orders-creation-flow\\n#hangingorderstracker\\n#hanging_orders_enabled\\n#fundamental-concepts\\n#example-2-advanced\\n#hanging-orders\\n#hanging_orders_cancel_pct'},\n",
       " {'url': 'https://hummingbot.org/strategy-configs/minimum-spread/',\n",
       "  'titles': '#how-it-works\\n#sample-configuration\\n#minimum_spread\\n#minimum-spread'},\n",
       " {'url': 'https://hummingbot.org/strategy-configs/order-refresh-tolerance/',\n",
       "  'titles': '#sample-status-outputlog\\n#how-is-this-parameter-helpful\\n#order_refresh_tolerance_pct\\n#order-refresh-tolerance\\n#how-it-works\\n#sample-market\\n#configuration\\n#example'},\n",
       " {'url': 'https://hummingbot.org/strategy-configs/order-optimization/',\n",
       "  'titles': '#order-optimization\\n#sample-configuration\\n#bid_order_optimization_depth\\n#order-optimization-depth\\n#order-optimization-with-multiple-order-levels\\n#ask_order_optimization_depth\\n#order_optimization_enabled\\n#how-it-works'},\n",
       " {'url': 'https://hummingbot.org/strategy-configs/inventory-skew/',\n",
       "  'titles': '#inventory_range_multiplier\\n#inventory_skew_enabled\\n#sample-configurations\\n#no-inventory-skew\\n#inventory-skew\\n#how-it-works\\n#inventory-skew-multiplier-1\\n#inventory-skew-with-balance-limit\\n#order-size-calculation-math\\n#inventory-skew-multiplier-05\\n#inventory_target_base_pct'},\n",
       " {'url': 'https://hummingbot.org/strategy-configs/max-order-age/',\n",
       "  'titles': '#sample-configuration\\n#max-order-age\\n#max-order-age-with-order-refresh-tolerance\\n#how-it-works\\n#max-order-age-with-hanging-orders\\n#why-max-order-age-is-important-in-liquidity-mining'},\n",
       " {'url': 'https://hummingbot.org/strategy-configs/order-override/',\n",
       "  'titles': '#order_override\\n#how-it-works\\n#sample-configuration\\n#order-override'},\n",
       " {'url': 'https://hummingbot.org/strategy-configs/price-band/',\n",
       "  'titles': '#price-band\\n#how-it-works\\n#price_ceiling\\n#price-band-with-order-refresh-tolerance\\n#price-band-with-external-pricing-source\\n#price_floor\\n#sample-configurations'},\n",
       " {'url': 'https://hummingbot.org/strategy-configs/external-price-source/',\n",
       "  'titles': '#external-pricing-source-configuration\\n#take_if_crossed\\n#price_source_market\\n#price_source_exchange\\n#price-source-current-market\\n#price_source\\n#when-to-use-an-external-price-source\\n#taking-crossed-orders\\n#relevant-parameters\\n#price_type\\n#price_source_custom_api\\n#how-it-works\\n#price-source-external-market\\n#price-source-custom-api'},\n",
       " {'url': 'https://hummingbot.org/strategy-configs/ping-pong/',\n",
       "  'titles': '#ping-pong\\n#ping-pong-with-single-order-level\\n#ping-pong-with-multiple-order-levels\\n#how-it-works\\n#ping_pong_enabled'},\n",
       " {'url': 'https://hummingbot.org/scripts/',\n",
       "  'titles': '#script-examples\\n#pmm-scripts-deprecated\\n#mastering-v2-scripts-with-botcamp'},\n",
       " {'url': 'https://hummingbot.org/scripts/examples/',\n",
       "  'titles': '#amm-trade\\n#buy-only-three-times\\n#simple-xemm\\n#1-n-portfolio\\n#log-price\\n#v2-strategies\\n#amm-price\\n#download-candles\\n#buy-dip\\n#simple-pmm\\n#buy-low-sell-high\\n#pmm-with-shifted-mid-dynamic-spreads\\n#simple-arbitrage\\n#format-status\\n#simple-rsi\\n#dca-example\\n#triangular-arbitrage\\n#fixed-grid\\n#dman-v2\\n#adjusted-mid-price\\n#dman-composed\\n#simple-vwap\\n#download-data\\n#download-order-book-and-trades\\n#advanced-directional\\n#candles-example\\n#directional-macd-bb\\n#simple-directional\\n#microprice-calculator\\n#simple-strategies\\n#dman-v1\\n#archived-scripts\\n#spot-perp-arbitrage\\n#dman-v3'},\n",
       " {'url': 'https://hummingbot.org/scripts/cheatsheet/',\n",
       "  'titles': '#accounting\\n#accessing-the-connectors\\n#connectors-methods\\n#configuration\\n#account-data\\n#scripts-basics\\n#market-operations\\n#balance\\n#querying-the-order-book\\n#notifiers\\n#status\\n#create-and-cancel-orders\\n#budget-checker\\n#open-orders\\n#order-candidate\\n#execution\\n#other\\n#rate-oracle\\n#getting-started\\n#connectors\\n#markets\\n#events'},\n",
       " {'url': 'https://hummingbot.org/glossary/',\n",
       "  'titles': '#glossary\\n#maker\\n#taker\\n#centralized-exchange-cex\\n#maker-order\\n#mid-price\\n#taker-order\\n#hedging-price\\n#decentralized-exchange-dex\\n#quote-asset\\n#base-asset\\n#order-book'},\n",
       " {'url': 'https://hummingbot.org/troubleshooting/',\n",
       "  'titles': '#mac-mismatch-error\\n#gateway\\n#docker-how-to-stop-active-container\\n#source-syntaxerror-invalid-syntaxerror\\n#too-much-request-weight-used-ip-banned\\n#docker-permission-denied-after-docker-installation\\n#orders-are-not-refreshing-according-to-order-refresh-time\\n#source-conda-command-not-found\\n#why-is-my-bot-not-creating-orders-on-perpetual-market-making\\n#why-is-my-bot-not-placing-orders\\n#operation\\n#change-the-time-or-timezone-of-hummingbot\\n#installation\\n#typeerror-password-was-given-but-private-key-is-not-encrypted\\n#amm-arbitrage-strategy-is-not-working\\n#timestamp-for-this-request-is-outside-of-the-recvwindow\\n#source-modulenotfounderror\\n#docker-package-dockerio-has-no-installation-candidate\\n#error-after-running-generate_certs-command\\n#kraken-0-balance-error\\n#async_utils-unhandled-error-in-background-task-chain_type\\n#i-have-my-own-strategy-can-i-make-the-bot-execute-it'},\n",
       " {'url': 'https://hummingbot.org/governance/releases/',\n",
       "  'titles': '#development\\n#master-or-main\\n#staging\\n#pull-request-status-board\\n#review-process\\n#branches'},\n",
       " {'url': 'https://hummingbot.org/bounties/sponsors/',\n",
       "  'titles': '#handling-fee\\n#foundation-bounty-wallets\\n#getting-started\\n#types-of-bounties'},\n",
       " {'url': 'https://hummingbot.org/bounties/contributors/',\n",
       "  'titles': '#step-3-express-interest-in-a-bounty\\n#step-8-get-paid\\n#step-7-make-necessary-changes-after-qa\\n#step-1-fill-out-the-aml-form\\n#step-2-check-the-bounties-board\\n#step-4-get-assigned\\n#step-6-submit-the-pr'},\n",
       " {'url': 'https://hummingbot.org/developers/contributions/',\n",
       "  'titles': '#5-rebase-upstream-changes\\n#8-code-review\\n#2-add-remote\\n#3-creating-your-branch\\n#checklist\\n#unit-test-coverage\\n#7-create-a-pull-request-proposal-in-snapshot\\n#workflow\\n#additional-information\\n#4-commit-changes-to-a-branch\\n#contribution-guidelines\\n#9-merge\\n#6-create-a-pull-request\\n#1-fork-the-repository'},\n",
       " {'url': 'https://hummingbot.org/developers/forking/',\n",
       "  'titles': '#about-forks\\n#opening-a-pull-request\\n#forking-the-hummingbot-repository-on-github\\n#prerequisites\\n#making-changes-to-the-local-branch\\n#cloning-your-forked-repository\\n#forking-the-hummingbot-repository'},\n",
       " {'url': 'https://hummingbot.org/governance/polls/',\n",
       "  'titles': '#bounties-budget\\n#what-polls-decide\\n#poll-types\\n#inclusion-threshold\\n#reference-connector\\n#polls-process'},\n",
       " {'url': 'https://hummingbot.org/governance/proposals/',\n",
       "  'titles': '#hummingbot-governance-proposals\\n#pull-request-proposals\\n#hummingbot-improvement-proposals\\n#types-of-proposals\\n#new-connector-proposals'},\n",
       " {'url': 'https://hummingbot.org/governance/epochs/',\n",
       "  'titles': '#cex-connectors_1\\n#epoch-6\\n#epoch-5\\n#core-strategies\\n#dex-connectors_2\\n#dex-connectors_3\\n#cex-connectors_2\\n#epoch-2\\n#epoch-1\\n#dex-connectors_1\\n#epoch-3\\n#chain-connectors\\n#core-strategies_1\\n#epoch-4\\n#cex-connectors\\n#core-strategies_2\\n#cex-connectors_3\\n#dex-connectors'},\n",
       " {'url': 'https://hummingbot.org/governance/whitepaper/',\n",
       "  'titles': '#roles\\n#principles\\n#board-of-directors\\n#foundation\\n#governance-proposal-gp\\n#improvement-proposal-ip\\n#hummingbot-foundation-governance\\n#administration-of-bounties-grants-and-hackathons\\n#ecosystem\\n#bounties-hackathons-and-grants\\n#pull-request-proposal-prp\\n#bounties-and-hackathons\\n#governance\\n#process\\n#staff\\n#overview\\n#governance_1\\n#grants\\n#conclusion\\n#proposal-types\\n#sources-of-funds\\n#exchange-fee-share-agreements'},\n",
       " {'url': 'https://hummingbot.org/faq/',\n",
       "  'titles': '#who-runs-the-hummingbot-foundation\\n#why-is-hummingbot-open-source\\n#what-is-gateway\\n#hummingbot-foundation\\n#what-does-the-hummingbot-foundation-do\\n#does-the-foundation-plan-to-list-hbot-on-any-crypto-exchange\\n#what-can-i-do-with-the-hbot-token\\n#hummingbot-client\\n#will-voting-with-hbot-cost-gas-or-incur-other-transaction-fees\\n#how-do-i-use-gateway-with-hummingbot\\n#can-gateway-help-me-build-mev-bots\\n#how-do-people-use-hummingbot\\n#what-background-information-should-i-learn-before-building-dex-bots-with-gateway\\n#how-do-i-use-hummingbot-on-a-amm-dex-like-uniswap\\n#gateway-middleware\\n#how-do-i-know-that-im-using-the-correct-hbot-token\\n#how-does-the-foundation-plan-to-distribute-remaining-hbot-tokens\\n#how-does-hummingbot-store-my-private-keys-and-api-keys\\n#what-if-i-accidentally-used-an-exchange-address-to-claim-hbot-tokens\\n#what-is-the-hbot-token\\n#what-is-market-making\\n#what-kinds-of-dex-bots-can-you-building-with-gateway\\n#why-is-the-hummingbot-foundation-domiciled-in-the-cayman-islands\\n#what-does-it-cost-for-me-to-run-hummingbot\\n#is-hummingbot-a-protocol-or-an-exchange\\n#hbot-token\\n#how-is-the-hummingbot-foundation-sustainable\\n#how-do-node-providers-and-mempool-services-work\\n#i-was-an-early-user-of-hummingbot-am-i-eligible-to-claim-hbot-tokens\\n#how-do-i-apply-for-a-job-with-the-hummingbot-foundation\\n#why-did-you-make-hummingbot-available-to-the-general-public\\n#what-type-of-software-is-hummingbot'},\n",
       " {'url': 'https://hummingbot.org/about/foundation/',\n",
       "  'titles': '#current-members\\n#election-process\\n#role-responsibilities\\n#bylaws\\n#board-of-directors\\n#requirements\\n#staff'},\n",
       " {'url': 'https://hummingbot.org/about/sponsors/',\n",
       "  'titles': '#ideal-sponsorship-candidates\\n#support-hummingbot-foundation\\n#exchange-partners\\n#democratize-trading-through-open-source\\n#engage-with-the-worlds-largest-market-makers-community\\n#sponsors\\n#benefits-of-sponsorship\\n#backers'},\n",
       " {'url': 'https://hummingbot.org/reporting/',\n",
       "  'titles': '#how-does-this-dashboard-help-hummingbot-users\\n#how-does-data-reporting-work\\n#how-can-i-be-sure-that-this-is-the-only-data-hummingbot-collects\\n#faq\\n#how-do-i-configure-or-turn-off-this-feature'},\n",
       " {'url': 'https://hummingbot.org/about/history/',\n",
       "  'titles': '#engineering-posts\\n#whitepapers\\n#articles-and-videos'},\n",
       " {'url': 'https://hummingbot.org/hummingbot.pdf', 'titles': ''},\n",
       " {'url': 'https://hummingbot.org/liquidity-mining.pdf', 'titles': ''},\n",
       " {'url': 'https://hummingbot.org/toggles.png', 'titles': ''},\n",
       " {'url': 'https://hummingbot.org/assets/hummingbot_partners_deck.pdf',\n",
       "  'titles': ''},\n",
       " {'url': 'https://hummingbot.org/bounties', 'titles': ''},\n",
       " {'url': 'https://hummingbot.org/governance/polls', 'titles': ''},\n",
       " {'url': 'https://hummingbot.org/governance/proposals', 'titles': ''},\n",
       " {'url': 'https://hummingbot.org/governance/proposals/#pull-request-proposals',\n",
       "  'titles': '#hummingbot-governance-proposals\\n#pull-request-proposals\\n#hummingbot-improvement-proposals\\n#types-of-proposals\\n#new-connector-proposals'},\n",
       " {'url': 'https://hummingbot.org/governance/bounties', 'titles': ''},\n",
       " {'url': 'https://hummingbot.org/about/#board-of-directors',\n",
       "  'titles': '#community-calls\\n#dockerhub\\n#community-channels\\n#history\\n#code-repositories\\n#github\\n#public-resources'},\n",
       " {'url': 'https://hummingbot.org/strategies/amm-arbitrage', 'titles': ''},\n",
       " {'url': 'https://hummingbot.org/strategies/uniswap-v3-lp', 'titles': ''},\n",
       " {'url': 'https://hummingbot.org/governance/epochs', 'titles': ''},\n",
       " {'url': 'https://hummingbot.org/governance/proposals/#hip',\n",
       "  'titles': '#hummingbot-governance-proposals\\n#pull-request-proposals\\n#hummingbot-improvement-proposals\\n#types-of-proposals\\n#new-connector-proposals'},\n",
       " {'url': 'https://hummingbot.org/governance/proposals/#prp',\n",
       "  'titles': '#hummingbot-governance-proposals\\n#pull-request-proposals\\n#hummingbot-improvement-proposals\\n#types-of-proposals\\n#new-connector-proposals'},\n",
       " {'url': 'https://hummingbot.org/cex-connectors/', 'titles': ''},\n",
       " {'url': 'https://hummingbot.org/dex-connectors/', 'titles': ''},\n",
       " {'url': 'https://hummingbot.org/developers/connectors/',\n",
       "  'titles': '#cex-connector-development-checklist\\n#what-are-exchange-connectors\\n#process-overview\\n#exchange-connector-requirements\\n#templates\\n#additional-resources'},\n",
       " {'url': 'https://hummingbot.org/developers/connectors/architecture/',\n",
       "  'titles': '#clientordertracker\\n#tradefeeschema\\n#connector-architecture\\n#connectorauthpy\\n#tradefee\\n#userstreamtrackerdatasource\\n#protocol-connector-components-overview-tbd\\n#orderbooktracker\\n#userstreamtracker\\n#example-tradefeeschema\\n#deductedfromreturnstradefee\\n#addedtocosttradefee\\n#orderbooktrackerdatasource\\n#fee-accounting\\n#connector-component-overview\\n#example-tradefee\\n#exchangederivativepy\\n#inflightorder\\n#tradefeebase'},\n",
       " {'url': 'https://hummingbot.org/developers/connectors/architecture/order_lifecycle/',\n",
       "  'titles': '#order-lifecycle-and-market-events\\n#creating-an-order\\n#order-failure\\n#order-lifecycle-flowchart\\n#order-cancellation-or-expiry\\n#order-completion\\n#order-being-filled\\n#order-tracking\\n#submitting-an-order'},\n",
       " {'url': 'https://hummingbot.org/developers/connectors/architecture/api_throttler/',\n",
       "  'titles': '#configuring-rate-limits_2\\n#types-of-rate-limits\\n#api-throttler\\n#configuring-rate-limits_1\\n#integrating-rate-limits-into-the-connector\\n#1-rate-limit-per-endpoint\\n#3-weighted-request-rate-limits\\n#consuming-the-throttler\\n#2-rate-limit-pools\\n#configuring-rate-limits\\n#ratelimit-linkedlimitweightpair-data-classes'},\n",
       " {'url': 'https://hummingbot.org/developers/connectors/build/',\n",
       "  'titles': '#connector\\n#utils\\n#special-considerations\\n#order-book-data-source\\n#exchange-api-requirements\\n#components\\n#connector-configuration-when-no-websocket-balance-events-are-available\\n#authorization\\n#perp-connector-additional-requirements\\n#perp-connector-additional-requirements_1\\n#unit-testing\\n#order-book\\n#user-stream-data-source'},\n",
       " {'url': 'https://hummingbot.org/developers/connectors/test/',\n",
       "  'titles': '#long-refresh-rate\\n#multiple-bots\\n#connecting-an-api-key_1\\n#connecting-an-api-key\\n#price-updates-and-balance-updates\\n#data-integrity\\n#advanced-validations\\n#hanging-orders\\n#history-command\\n#heartbeat\\n#basic-validations\\n#market-availability-during-strategy-creation\\n#fast-refresh-rate\\n#trade-fees\\n#compatibility-with-available-strategies\\n#order-submission-and-cancellation\\n#filled-event\\n#multiple-orders'},\n",
       " {'url': 'https://hummingbot.org/developers/connectors/debug/',\n",
       "  'titles': '#debugging-testing\\n#calling-a-class-method\\n#option-1-unit-test-cases\\n#option-3-custom-scripts\\n#pycharm\\n#option-4-using-debugger-tools\\n#api-request-post-order\\n#option-2-aiopython-console\\n#vs-code\\n#issue-a-api-request'},\n",
       " {'url': 'https://hummingbot.org/gateway/adding-dex-connectors/',\n",
       "  'titles': '#4-add-connector-routes\\n#6-add-connector-to-spender-list\\n#8-add-connector-tests\\n#9-perform-manual-testing\\n#2-create-configuration-schema\\n#5-add-sdk-classes-to-uniswapish-interface\\n#pangolin\\n#7-add-connector-to-gateway-list\\n#11-add-documentation-page-to-index\\n#10-create-connector-documentation-page\\n#1-create-configuration-template\\n#uniswap\\n#3-create-connector\\n#requirements'},\n",
       " {'url': 'https://hummingbot.org/assets/img/connector-order-lifecycle.svg',\n",
       "  'titles': ''},\n",
       " {'url': 'https://hummingbot.org/assets/img/connector-architecture-diagram.svg',\n",
       "  'titles': ''},\n",
       " {'url': 'https://hummingbot.org/assets/img/high-level-connector-architecture-diagram.svg',\n",
       "  'titles': ''},\n",
       " {'url': 'https://hummingbot.org/developers/connectors/build', 'titles': ''},\n",
       " {'url': 'https://hummingbot.org/developers/connectors/test', 'titles': ''},\n",
       " {'url': 'https://hummingbot.org/gateway', 'titles': ''},\n",
       " {'url': 'https://hummingbot.org/developers/contributions', 'titles': ''},\n",
       " {'url': 'https://hummingbot.org/assets/img/pull request proposal workflow.png',\n",
       "  'titles': ''},\n",
       " {'url': 'https://hummingbot.org/strategies/perpetual-market-making',\n",
       "  'titles': ''},\n",
       " {'url': 'https://hummingbot.org/developers/strategies/tutorial',\n",
       "  'titles': ''},\n",
       " {'url': 'https://hummingbot.org/scripts/index', 'titles': ''},\n",
       " {'url': 'https://hummingbot.org/client/password', 'titles': ''},\n",
       " {'url': 'https://hummingbot.org/scripts/cheatsheet.pdf', 'titles': ''},\n",
       " {'url': 'https://hummingbot.org/installation', 'titles': ''},\n",
       " {'url': 'https://hummingbot.org/scripts/getting-started/custom-script/custom-pmm-3.md',\n",
       "  'titles': ''},\n",
       " {'url': 'https://hummingbot.org/scripts/pmm-scripts/',\n",
       "  'titles': '#spreads_adjusted_on_volatility_scriptpy\\n#dynamic_price_band_scriptpy\\n#on_buy_order_completed\\n#log\\n#median_price_volatility\\n#on_sell_order_completed\\n#pmm_parameters\\n#hello_world_scriptpy\\n#take_samples\\n#avg_mid_price\\n#pmmscriptbase-class\\n#on_tick\\n#functions\\n#price_band_scriptpy\\n#create-your-own-pmmscript\\n#examples\\n#round_by_step\\n#how-it-works\\n#avg_price_volatility\\n#ping_pong_scriptpy\\n#what-are-pmm-scripts\\n#script_templatepy\\n#locate_central_price_volatility\\n#notify\\n#on_status\\n#events'},\n",
       " {'url': 'https://hummingbot.org/strategies/pure-market-making', 'titles': ''},\n",
       " {'url': 'https://hummingbot.org/strategy-configs/hanging-orders/#hanging_orders_cancel_pct',\n",
       "  'titles': '#market-without-hanging-orders\\n#example-1-basic\\n#market-with-hanging-orders\\n#the-management-process\\n#illustrative-examples-when-hanging-orders-are-important\\n#sample-configurations\\n#configuration-variables\\n#hanging-orders-with-multiple-order-levels\\n#registering-the-tracker\\n#how-it-works\\n#hanging-orders-creation-flow\\n#hangingorderstracker\\n#hanging_orders_enabled\\n#fundamental-concepts\\n#example-2-advanced\\n#hanging-orders\\n#hanging_orders_cancel_pct'},\n",
       " {'url': 'https://hummingbot.org/strategy-configs/order-levels/#orderlevelamount',\n",
       "  'titles': '#sample-configuration\\n#order_level_spread\\n#order-levels\\n#how-it-works\\n#order_level_amount\\n#order_levels'},\n",
       " {'url': 'https://hummingbot.org/strategy-configs/order-levels/#orderlevelspread',\n",
       "  'titles': '#sample-configuration\\n#order_level_spread\\n#order-levels\\n#how-it-works\\n#order_level_amount\\n#order_levels'},\n",
       " {'url': 'https://hummingbot.org/strategy-configs/inventory-skew/#inventorytargetbasepct',\n",
       "  'titles': '#inventory_range_multiplier\\n#inventory_skew_enabled\\n#sample-configurations\\n#no-inventory-skew\\n#inventory-skew\\n#how-it-works\\n#inventory-skew-multiplier-1\\n#inventory-skew-with-balance-limit\\n#order-size-calculation-math\\n#inventory-skew-multiplier-05\\n#inventory_target_base_pct'},\n",
       " {'url': 'https://hummingbot.org/strategy-configs/inventory-skew/#inventoryrangemultiplier',\n",
       "  'titles': '#inventory_range_multiplier\\n#inventory_skew_enabled\\n#sample-configurations\\n#no-inventory-skew\\n#inventory-skew\\n#how-it-works\\n#inventory-skew-multiplier-1\\n#inventory-skew-with-balance-limit\\n#order-size-calculation-math\\n#inventory-skew-multiplier-05\\n#inventory_target_base_pct'},\n",
       " {'url': 'https://hummingbot.org/strategy-configs/filled-order-delay',\n",
       "  'titles': ''},\n",
       " {'url': 'https://hummingbot.org/strategy-configs/hanging-orders',\n",
       "  'titles': ''},\n",
       " {'url': 'https://hummingbot.org/strategy-configs/hanging-orders/#hangingorderscancelpct',\n",
       "  'titles': '#market-without-hanging-orders\\n#example-1-basic\\n#market-with-hanging-orders\\n#the-management-process\\n#illustrative-examples-when-hanging-orders-are-important\\n#sample-configurations\\n#configuration-variables\\n#hanging-orders-with-multiple-order-levels\\n#registering-the-tracker\\n#how-it-works\\n#hanging-orders-creation-flow\\n#hangingorderstracker\\n#hanging_orders_enabled\\n#fundamental-concepts\\n#example-2-advanced\\n#hanging-orders\\n#hanging_orders_cancel_pct'},\n",
       " {'url': 'https://hummingbot.org/strategy-configs/minimum-spread',\n",
       "  'titles': ''},\n",
       " {'url': 'https://hummingbot.org/strategy-configs/order-refresh-tolerance',\n",
       "  'titles': ''},\n",
       " {'url': 'https://hummingbot.org/strategy-configs/price-band/#priceceiling',\n",
       "  'titles': '#price-band\\n#how-it-works\\n#price_ceiling\\n#price-band-with-order-refresh-tolerance\\n#price-band-with-external-pricing-source\\n#price_floor\\n#sample-configurations'},\n",
       " {'url': 'https://hummingbot.org/strategy-configs/price-band/#pricefloor',\n",
       "  'titles': '#price-band\\n#how-it-works\\n#price_ceiling\\n#price-band-with-order-refresh-tolerance\\n#price-band-with-external-pricing-source\\n#price_floor\\n#sample-configurations'},\n",
       " {'url': 'https://hummingbot.org/strategy-configs/ping-pong', 'titles': ''},\n",
       " {'url': 'https://hummingbot.org/strategy-configs/order-optimization',\n",
       "  'titles': ''},\n",
       " {'url': 'https://hummingbot.org/strategy-configs/order-optimization/#ask_order_optimization_depth',\n",
       "  'titles': '#order-optimization\\n#sample-configuration\\n#bid_order_optimization_depth\\n#order-optimization-depth\\n#order-optimization-with-multiple-order-levels\\n#ask_order_optimization_depth\\n#order_optimization_enabled\\n#how-it-works'},\n",
       " {'url': 'https://hummingbot.org/strategy-configs/order-optimization/#bid_order_optimization_depth',\n",
       "  'titles': '#order-optimization\\n#sample-configuration\\n#bid_order_optimization_depth\\n#order-optimization-depth\\n#order-optimization-with-multiple-order-levels\\n#ask_order_optimization_depth\\n#order_optimization_enabled\\n#how-it-works'},\n",
       " {'url': 'https://hummingbot.org/strategy-configs/add-transaction-costs',\n",
       "  'titles': ''},\n",
       " {'url': 'https://hummingbot.org/strategy-configs/external-price-source/#price_type',\n",
       "  'titles': '#external-pricing-source-configuration\\n#take_if_crossed\\n#price_source_market\\n#price_source_exchange\\n#price-source-current-market\\n#price_source\\n#when-to-use-an-external-price-source\\n#taking-crossed-orders\\n#relevant-parameters\\n#price_type\\n#price_source_custom_api\\n#how-it-works\\n#price-source-external-market\\n#price-source-custom-api'},\n",
       " {'url': 'https://hummingbot.org/strategy-configs/external-price-source/#price_source_exchange',\n",
       "  'titles': '#external-pricing-source-configuration\\n#take_if_crossed\\n#price_source_market\\n#price_source_exchange\\n#price-source-current-market\\n#price_source\\n#when-to-use-an-external-price-source\\n#taking-crossed-orders\\n#relevant-parameters\\n#price_type\\n#price_source_custom_api\\n#how-it-works\\n#price-source-external-market\\n#price-source-custom-api'},\n",
       " {'url': 'https://hummingbot.org/strategy-configs/external-price-source/#price_source_market',\n",
       "  'titles': '#external-pricing-source-configuration\\n#take_if_crossed\\n#price_source_market\\n#price_source_exchange\\n#price-source-current-market\\n#price_source\\n#when-to-use-an-external-price-source\\n#taking-crossed-orders\\n#relevant-parameters\\n#price_type\\n#price_source_custom_api\\n#how-it-works\\n#price-source-external-market\\n#price-source-custom-api'},\n",
       " {'url': 'https://hummingbot.org/strategy-configs/external-price-source/#price-source-custom-api',\n",
       "  'titles': '#external-pricing-source-configuration\\n#take_if_crossed\\n#price_source_market\\n#price_source_exchange\\n#price-source-current-market\\n#price_source\\n#when-to-use-an-external-price-source\\n#taking-crossed-orders\\n#relevant-parameters\\n#price_type\\n#price_source_custom_api\\n#how-it-works\\n#price-source-external-market\\n#price-source-custom-api'},\n",
       " {'url': 'https://hummingbot.org/strategy-configs/external-price-source/#takeifcrossed',\n",
       "  'titles': '#external-pricing-source-configuration\\n#take_if_crossed\\n#price_source_market\\n#price_source_exchange\\n#price-source-current-market\\n#price_source\\n#when-to-use-an-external-price-source\\n#taking-crossed-orders\\n#relevant-parameters\\n#price_type\\n#price_source_custom_api\\n#how-it-works\\n#price-source-external-market\\n#price-source-custom-api'},\n",
       " {'url': 'https://hummingbot.org/quickstart/index.md', 'titles': ''},\n",
       " {'url': 'https://hummingbot.org/developers/strategies', 'titles': ''},\n",
       " {'url': 'https://hummingbot.org/strategies/cross-exchange-market-making',\n",
       "  'titles': ''},\n",
       " {'url': 'https://hummingbot.org/strategies/avellaneda-market-making',\n",
       "  'titles': ''},\n",
       " {'url': 'https://hummingbot.org/strategies/cross-exchange-mining',\n",
       "  'titles': ''},\n",
       " {'url': 'https://hummingbot.org/strategies/hedge', 'titles': ''},\n",
       " {'url': 'https://hummingbot.org/strategies/liquidity-mining', 'titles': ''},\n",
       " {'url': 'https://hummingbot.org/strategies/spot-perpetual-arbitrage',\n",
       "  'titles': ''},\n",
       " {'url': 'https://hummingbot.org/strategies/twap', 'titles': ''},\n",
       " {'url': 'https://hummingbot.org/developers/strategies/',\n",
       "  'titles': '#guides\\n#tutorial\\n#what-is-a-strategy'},\n",
       " {'url': 'https://hummingbot.org/developers/strategies/key-concepts',\n",
       "  'titles': ''},\n",
       " {'url': 'https://hummingbot.org/developers/strategies/config', 'titles': ''},\n",
       " {'url': 'https://hummingbot.org/developers/strategies/hanging-orders',\n",
       "  'titles': ''},\n",
       " {'url': 'https://hummingbot.org/v2-strategies/executors', 'titles': ''},\n",
       " {'url': 'https://hummingbot.org/v2-strategies/candles', 'titles': ''},\n",
       " {'url': 'https://hummingbot.org/v2-strategies/controllers', 'titles': ''},\n",
       " {'url': 'https://hummingbot.org/v2-strategies/executor-handlers',\n",
       "  'titles': ''},\n",
       " {'url': 'https://hummingbot.org/global-configs/paper-trade/#adding-paper-trade-balance',\n",
       "  'titles': '#enabling-and-disabling\\n#adding-paper-trade-balance\\n#adding-exchanges'},\n",
       " {'url': 'https://hummingbot.org/gateway/setup/#updating-config-parameters',\n",
       "  'titles': '#configuring-node-providers\\n#connecting-to-a-dex\\n#fetching-wallet-balances\\n#working-with-tokens\\n#listing-gateway-commands\\n#updating-config-parameters\\n#checking-gateway-status\\n#getting-help\\n#listing-dex-connectors\\n#adding-new-symbols-to-balance'},\n",
       " {'url': 'https://hummingbot.org/gateway/gateway-status.png', 'titles': ''},\n",
       " {'url': 'https://hummingbot.org/gateway/approve-tokens-command.png',\n",
       "  'titles': ''},\n",
       " {'url': 'https://hummingbot.org/gateway/postman-approve.png', 'titles': ''},\n",
       " {'url': 'https://hummingbot.org/gateway/postman-allowances.png',\n",
       "  'titles': ''},\n",
       " {'url': 'https://hummingbot.org/gateway/connector-tokens.png', 'titles': ''},\n",
       " {'url': 'https://hummingbot.org/gateway/postman-certs-1.png', 'titles': ''},\n",
       " {'url': 'https://hummingbot.org/gateway/installation/#generate-certs',\n",
       "  'titles': '#install-with-docker\\n#install-from-source\\n#generate-certs\\n#run-setup-script\\n#installation\\n#start-gateway\\n#prerequisites'},\n",
       " {'url': 'https://hummingbot.org/gateway/generate-certs.png', 'titles': ''},\n",
       " {'url': 'https://hummingbot.org/gateway/certs-path.png', 'titles': ''},\n",
       " {'url': 'https://hummingbot.org/gateway/postman-certs-2.png', 'titles': ''},\n",
       " {'url': 'https://hummingbot.org/gateway/postman-balances.png', 'titles': ''},\n",
       " {'url': 'https://hummingbot.org/client/config-files', 'titles': ''},\n",
       " {'url': 'https://hummingbot.org/assets/img/all-commands.png', 'titles': ''},\n",
       " {'url': 'https://hummingbot.org/assets/img/command-init.png', 'titles': ''},\n",
       " {'url': 'https://hummingbot.org/gateway/tokens/#displaying-tokens-in-balance',\n",
       "  'titles': '#where-are-lists-stored\\n#testnet-faucets\\n#use-evmapprove-in-postman\\n#wrapped-tokens\\n#approve-token-command\\n#what-are-token-lists\\n#adding-tokens\\n#approving-tokens\\n#displaying-tokens-in-balance'},\n",
       " {'url': 'https://hummingbot.org/strategies/aroon-oscillator/',\n",
       "  'titles': '#strategy-info\\n#aroon_oscillator\\n#i-more-resources\\n#strategy-tier\\n#exchanges-supported\\n#strategy-configs\\n#summary\\n#description'},\n",
       " {'url': 'https://hummingbot.org/client/quickstart/index.md', 'titles': ''},\n",
       " {'url': 'https://hummingbot.org/client/user-interface', 'titles': ''},\n",
       " {'url': 'https://hummingbot.org/client/commands-shortcuts', 'titles': ''},\n",
       " {'url': 'https://hummingbot.org/client/launch-exit', 'titles': ''},\n",
       " {'url': 'https://hummingbot.org/client/log-files', 'titles': ''},\n",
       " {'url': 'https://hummingbot.org/client/start-stop', 'titles': ''},\n",
       " {'url': 'https://hummingbot.org/global-configs/paper-trade', 'titles': ''},\n",
       " {'url': 'https://hummingbot.org/global-configs/strategy-autostart',\n",
       "  'titles': ''},\n",
       " {'url': 'https://hummingbot.org/global-configs/balance-limit', 'titles': ''},\n",
       " {'url': 'https://hummingbot.org/global-configs/clock-tick.md', 'titles': ''},\n",
       " {'url': 'https://hummingbot.org/global-configs/color-settings', 'titles': ''},\n",
       " {'url': 'https://hummingbot.org/global-configs/external-db', 'titles': ''},\n",
       " {'url': 'https://hummingbot.org/global-configs/kill-switch', 'titles': ''},\n",
       " {'url': 'https://hummingbot.org/global-configs/override-fees', 'titles': ''},\n",
       " {'url': 'https://hummingbot.org/global-configs/rate-limits-share-pct',\n",
       "  'titles': ''},\n",
       " {'url': 'https://hummingbot.org/global-configs/telegram', 'titles': ''},\n",
       " {'url': 'https://hummingbot.org/#community-calls',\n",
       "  'titles': '#stay-ahead-with-the-hummingbot-newsletter\\n#directional-trading-with-macd-and-bollinger-bands\\n#for-many-crypto-market-making-firms-hummingbot-is-the-trusted-starting-point-for-creating-secure-scalable-algo-trading-solutions\\n#protocols-token-projects\\n#published-when-each-monthly-release-drops-our-official-newsletter-has-all-the-hummingbot-news-upcoming-events-and-contributions-from-the-global-hummingbot-community\\n#learn-how-to-design-and-code-strategies-like-these-in-botcamp-the-official-training-and-membership-program-for-the-hummingbot-community\\n#we-are-grateful-to-the-exchanges-protocols-and-companies-who-support-our-quest-to-democratize-high-frequency-trading\\n#market-makers\\n#what-strategies-can-you-build-with-hummingbot\\n#introducing-v2-strategies\\n#a-global-nexus-for-algo-traders\\n#what-can-you-do-with-hummingbot\\n#algorithmic-traders-and-boutique-firms-leverage-hummingbot-for-capturing-cross-chain-cross-exchange-arbitrage-opportunities-with-the-amm-arbitrage-strategy-and-earning-liquidity-mining-rewards-on-hummingbot-miner\\n#algo-traders-boutique-firms\\n#sponsors-backers\\n#the-hummingbot-foundation-a-not-for-profit-beacon-ensures-the-codebases-decentralized-evolution-guided-by-the-hummingbot-community-and-governance-token-hbot\\n#who-uses-hummingbot\\n#technical-deep-dive-into-the-avellaneda-stoikov-strategy\\n#blockchain-protocols-harness-hummingbot-to-foster-liquidity-catalyzing-their-ecosystems-without-the-overhead-of-external-market-makers'},\n",
       " {'url': 'https://hummingbot.org/dashboard', 'titles': ''},\n",
       " {'url': 'https://hummingbot.org/about', 'titles': ''},\n",
       " {'url': 'https://hummingbot.org/governance', 'titles': ''},\n",
       " {'url': 'https://hummingbot.org/faq', 'titles': ''},\n",
       " {'url': 'https://hummingbot.org/governance/releases', 'titles': ''},\n",
       " {'url': 'https://hummingbot.org/installation/docker/#useful-docker-commands',\n",
       "  'titles': '#detach-from-the-container-and-return-to-command-line\\n#attach-to-the-container\\n#multiple-hummingbot-instances-gateway\\n#useful-docker-commands\\n#single-hummingbot-instance\\n#docker-buildx\\n#hummingbot-gateway-emqx-broker\\n#deploy-examples\\n#list-all-containers\\n#stop-the-compose-project\\n#create-the-compose-project\\n#deployment-types\\n#update-the-container-to-the-latest-image\\n#bash-scripts\\n#autostart-hummingbot-instance\\n#hummingbot-gateway-instances\\n#give-all-users-readwrite-permissions-to-local-files\\n#docker\\n#building-docker-images\\n#remove-a-container\\n#docker-compose\\n#docker-build\\n#update-the-compose-project-for-the-latest-images\\n#prequisites\\n#stop-a-container'},\n",
       " {'url': 'https://hummingbot.org/quickstart/', 'titles': ''},\n",
       " {'url': 'https://hummingbot.org/installation/getting-started/custom-script/index.md',\n",
       "  'titles': ''},\n",
       " {'url': 'https://hummingbot.org/getting-started/dashboard/', 'titles': ''},\n",
       " {'url': 'https://hummingbot.org/getting-started/custom-script/index.md',\n",
       "  'titles': ''},\n",
       " {'url': 'https://hummingbot.org/getting-started/liquidity-mining/index.md',\n",
       "  'titles': ''},\n",
       " {'url': 'https://hummingbot.org/developers/contributions.m', 'titles': ''},\n",
       " {'url': 'https://hummingbot.org/client', 'titles': ''},\n",
       " {'url': 'https://hummingbot.org/strategies', 'titles': ''},\n",
       " {'url': 'https://hummingbot.org/v2-strategies', 'titles': ''},\n",
       " {'url': 'https://hummingbot.org/scripts', 'titles': ''},\n",
       " {'url': 'https://hummingbot.org/v1-strategies', 'titles': ''},\n",
       " {'url': 'https://hummingbot.org/cex-connectors', 'titles': ''},\n",
       " {'url': 'https://hummingbot.org/dex-connectors', 'titles': ''}]"
      ]
     },
     "execution_count": 47,
     "metadata": {},
     "output_type": "execute_result"
    }
   ],
   "source": [
    "[doc.metadata for doc in documents]"
   ]
  },
  {
   "cell_type": "code",
   "execution_count": 48,
   "metadata": {
    "ExecuteTime": {
     "end_time": "2023-11-29T19:41:54.781458Z",
     "start_time": "2023-11-29T19:41:54.778189Z"
    },
    "collapsed": false,
    "jupyter": {
     "outputs_hidden": false
    }
   },
   "outputs": [
    {
     "data": {
      "text/plain": [
       "238"
      ]
     },
     "execution_count": 48,
     "metadata": {},
     "output_type": "execute_result"
    }
   ],
   "source": [
    "len(documents)"
   ]
  },
  {
   "cell_type": "code",
   "execution_count": 49,
   "metadata": {
    "ExecuteTime": {
     "end_time": "2023-11-29T19:41:55.667871Z",
     "start_time": "2023-11-29T19:41:55.660274Z"
    },
    "collapsed": false,
    "jupyter": {
     "outputs_hidden": false
    }
   },
   "outputs": [
    {
     "data": {
      "text/plain": [
       "Document(page_content=\"Hummingbot - the open source OS for crypto algo traders - Hummingbot/nSkip to content/n🚀 Introducing V2 Strategies - Design, Customize and Backtest Advanced Algo Trading Strategies!/nHummingbot/nHummingbot - the open source OS for crypto algo traders/nInitializing search/nhummingbot/hummingbot/nHome/nDocs/nAcademy/nBotcamp/nReleases/nBounties/nGovernance/nAbout/nBlog/nThe open source OS for crypto algo traders/nHummingbot is an open source platform that helps you design, backtest, and deploy fleets of automated crypto trading bots/nGet Started/nLearn with Botcamp/nHummingbot/nhummingbot/hummingbot/nHome/nDocs/nDocs/nGetting Started/nInstallation/nClient/nGateway/nDashboard/nStrategies/nScripts/nConnectors/nGlossary/nTroubleshooting/nAcademy/nAcademy/nLatest/nAll Articles/nArchive/nCategories/nBotcamp/nBotcamp/nBotcamp FAQ/nReleases/nReleases/nRelease Process/n1.22.0/n1.21.0/n1.20.0/n1.19.0/n1.18.0/n1.17.0/n1.16.0/n1.15.0/n1.14.0/n1.13.0/n1.12.0/n1.11.0/n1.10.0/n1.9.0/n1.8.0/n1.7.0/n1.6.0/n1.5.0/n1.4.0/n1.3.0/n1.2.0/n1.1.1/n1.1.0/n1.0.1/n1.0.0/nBounties/nBounties/nBounty Sponsors/nBounty Contributors/nContribution Guidelines/nForking the Repository/nBounties Board ↗️/nGovernance/nGovernance/nPolls/nProposals/nEpochs/nWhitepaper/nAbout/nAbout/nFAQ/nFoundation/nSponsors & Backers/nReported Volumes/nHistory/n📆 Calendar ↗️/nBlog/nBlog/nArchive/nCategories/nWhat can you do with Hummingbot?/n¶/nCraft Cutting-Edge Strategies/nDesign sophisticated market making, arbitrage, and directional strategies using our library of templates and script examples./nV2 Strategy Docs/nSeamless Exchange Integration/nHummingbot establishes a direct WebSocket connection with many exchanges, including DEXs on L1/L2 blockchain networks./nConnector Docs/nBacktest and Deploy with Ease/nBacktest your strategies against historical data and deploy multiple instances with Dashboard, a new web-based user interface and control center./nDashboard Docs/nFork, Customize, Innovate/nHummingbot is free and publicly available under the Apache 2.0 open source license, so you can use the code however you like!/nHow to Fork the Repo/nWho uses Hummingbot?/n¶/nMarket Makers/n¶/nFor many crypto market making firms, Hummingbot is the trusted starting point for creating secure, scalable algo trading solutions./n¶/nAs the company that open-sourced Hummingbot, we're incredibly proud of how the community has embraced it. Today, we run bespoke strategies for our institutional clients using many custom Hummingbot instances./nCarlo Las Marias/nWe started with Hummingbot as the foundation for our market-making business. Their WebSocket connector architecture is the most accessible in the market. We still use it from time to time and enjoy their great documentation./nEugene Tartakovsky/nHummingbot has served as a reliable base for us to build custom tools and strategies. It has many quality connectors and all components are well thought out, allowing us to flexibly modify the open source code./nJelle Buth/nAlgo Traders & Boutique Firms/n¶/nAlgorithmic traders and boutique firms leverage Hummingbot for capturing cross-chain + cross-exchange arbitrage opportunities with the/nAMM Arbitrage strategy/nand earning liquidity mining rewards on/nHummingbot Miner/n./n¶/nHummingbot allowed me to launch a successful suite of trading strategies managing over $2 billion in trade volume. I can't recommend Hummingbot enough for any algo trader seeking a 0 to 1 platform./nKollan/nSince 2021, I've been a dedicated user of Hummingbot, primarily utilizing the pure market making strategy. Based on my profitable strategies, I started an algo-trading startup in Saudi Arabia!/nHyder/nHummingbot revolutionized my crypto trading. Using advanced strategies, I developed my own successful trading style and consistently ranked at the top of Hummingbot Miner's leaderboard for months./nWojak/nProtocols & Token Projects/n¶/nBlockchain protocols harness Hummingbot to foster liquidity, catalyzing their ecosystems without the overhead of external market makers./n¶/nWe’re big supporters of Hummingbot’s vision of open source algo trading. Their community of market makers has contributed significantly to the liquidity on Avalanche-based DEXs./nLydia Chiu/nHummingbot plays a pivotal role in Harmony's DeFi strategy. Our Hummingbot connector enables our community to power liquidity for current and future projects on Harmony./nStephen Tse/nWhat strategies can you build with Hummingbot?/n¶/nLearn how to design and code strategies like these in/nBotcamp/n, the official training and membership program for the Hummingbot community./n¶/nIntroducing V2 Strategies/n¶/nDirectional Trading with MACD and Bollinger Bands/n¶/nTechnical Deep Dive into the Avellaneda & Stoikov Strategy/n¶/nJoin Botcamp/nA Global Nexus for Algo Traders/n¶/nThe Hummingbot Foundation, a not-for-profit beacon, ensures the codebase's decentralized evolution, guided by the Hummingbot community and Governance Token (HBOT)./n¶/nAbout Us/n: About the Foundation and our mission/nGovernance/n: Decide how Hummingbot evolves/nFAQ/n: Answers to common questions/nSponsors & Backers/n¶/nWe are grateful to the exchanges, protocols, and companies who support our quest to/ndemocratize high-frequency trading/n!/n¶/nStay Ahead with the Hummingbot newsletter/n¶/nPublished when each monthly release drops, our official newsletter has all the Hummingbot news, upcoming events, and contributions from the global Hummingbot community!/n¶/nGet the Newsletter/nBack to top/nCopyright © 2023 Hummingbot Foundation/nMade with/nMaterial for MkDocs Insiders\", metadata={'url': 'https://hummingbot.org/', 'titles': '#stay-ahead-with-the-hummingbot-newsletter\\n#directional-trading-with-macd-and-bollinger-bands\\n#for-many-crypto-market-making-firms-hummingbot-is-the-trusted-starting-point-for-creating-secure-scalable-algo-trading-solutions\\n#protocols-token-projects\\n#published-when-each-monthly-release-drops-our-official-newsletter-has-all-the-hummingbot-news-upcoming-events-and-contributions-from-the-global-hummingbot-community\\n#learn-how-to-design-and-code-strategies-like-these-in-botcamp-the-official-training-and-membership-program-for-the-hummingbot-community\\n#we-are-grateful-to-the-exchanges-protocols-and-companies-who-support-our-quest-to-democratize-high-frequency-trading\\n#market-makers\\n#what-strategies-can-you-build-with-hummingbot\\n#introducing-v2-strategies\\n#a-global-nexus-for-algo-traders\\n#what-can-you-do-with-hummingbot\\n#algorithmic-traders-and-boutique-firms-leverage-hummingbot-for-capturing-cross-chain-cross-exchange-arbitrage-opportunities-with-the-amm-arbitrage-strategy-and-earning-liquidity-mining-rewards-on-hummingbot-miner\\n#algo-traders-boutique-firms\\n#sponsors-backers\\n#the-hummingbot-foundation-a-not-for-profit-beacon-ensures-the-codebases-decentralized-evolution-guided-by-the-hummingbot-community-and-governance-token-hbot\\n#who-uses-hummingbot\\n#technical-deep-dive-into-the-avellaneda-stoikov-strategy\\n#blockchain-protocols-harness-hummingbot-to-foster-liquidity-catalyzing-their-ecosystems-without-the-overhead-of-external-market-makers'})"
      ]
     },
     "execution_count": 49,
     "metadata": {},
     "output_type": "execute_result"
    }
   ],
   "source": [
    "documents[0]"
   ]
  },
  {
   "cell_type": "code",
   "execution_count": 50,
   "metadata": {
    "ExecuteTime": {
     "end_time": "2023-11-29T19:41:56.308664Z",
     "start_time": "2023-11-29T19:41:56.303799Z"
    },
    "collapsed": false,
    "jupyter": {
     "outputs_hidden": false
    }
   },
   "outputs": [
    {
     "data": {
      "text/plain": [
       "4"
      ]
     },
     "execution_count": 50,
     "metadata": {},
     "output_type": "execute_result"
    }
   ],
   "source": [
    "from langchain.text_splitter import RecursiveCharacterTextSplitter\n",
    "\n",
    "r_splitter = RecursiveCharacterTextSplitter(\n",
    "    chunk_size=1500,\n",
    "    chunk_overlap=0,\n",
    "    separators=[\"\\n\\n\", \"\\n\", \" \", \"\"]\n",
    ")\n",
    "splitted_docs = r_splitter.split_documents([documents[0]])\n",
    "len(splitted_docs)"
   ]
  },
  {
   "cell_type": "code",
   "execution_count": 51,
   "metadata": {
    "ExecuteTime": {
     "end_time": "2023-11-29T19:41:57.095945Z",
     "start_time": "2023-11-29T19:41:57.088562Z"
    },
    "collapsed": false,
    "jupyter": {
     "outputs_hidden": false
    }
   },
   "outputs": [
    {
     "data": {
      "text/plain": [
       "'Hummingbot - the open source OS for crypto algo traders - Hummingbot/nSkip to content/n🚀 Introducing V2 Strategies - Design, Customize and Backtest Advanced Algo Trading Strategies!/nHummingbot/nHummingbot - the open source OS for crypto algo traders/nInitializing search/nhummingbot/hummingbot/nHome/nDocs/nAcademy/nBotcamp/nReleases/nBounties/nGovernance/nAbout/nBlog/nThe open source OS for crypto algo traders/nHummingbot is an open source platform that helps you design, backtest, and deploy fleets of automated crypto trading bots/nGet Started/nLearn with Botcamp/nHummingbot/nhummingbot/hummingbot/nHome/nDocs/nDocs/nGetting Started/nInstallation/nClient/nGateway/nDashboard/nStrategies/nScripts/nConnectors/nGlossary/nTroubleshooting/nAcademy/nAcademy/nLatest/nAll Articles/nArchive/nCategories/nBotcamp/nBotcamp/nBotcamp FAQ/nReleases/nReleases/nRelease Process/n1.22.0/n1.21.0/n1.20.0/n1.19.0/n1.18.0/n1.17.0/n1.16.0/n1.15.0/n1.14.0/n1.13.0/n1.12.0/n1.11.0/n1.10.0/n1.9.0/n1.8.0/n1.7.0/n1.6.0/n1.5.0/n1.4.0/n1.3.0/n1.2.0/n1.1.1/n1.1.0/n1.0.1/n1.0.0/nBounties/nBounties/nBounty Sponsors/nBounty Contributors/nContribution Guidelines/nForking the Repository/nBounties Board ↗️/nGovernance/nGovernance/nPolls/nProposals/nEpochs/nWhitepaper/nAbout/nAbout/nFAQ/nFoundation/nSponsors & Backers/nReported Volumes/nHistory/n📆 Calendar ↗️/nBlog/nBlog/nArchive/nCategories/nWhat can you do with Hummingbot?/n¶/nCraft Cutting-Edge Strategies/nDesign sophisticated market making, arbitrage, and'"
      ]
     },
     "execution_count": 51,
     "metadata": {},
     "output_type": "execute_result"
    }
   ],
   "source": [
    "splitted_docs[0].page_content"
   ]
  },
  {
   "cell_type": "code",
   "execution_count": 52,
   "metadata": {
    "ExecuteTime": {
     "end_time": "2023-11-29T19:41:57.647156Z",
     "start_time": "2023-11-29T19:41:57.643082Z"
    },
    "collapsed": false,
    "jupyter": {
     "outputs_hidden": false
    }
   },
   "outputs": [
    {
     "data": {
      "text/plain": [
       "\"directional strategies using our library of templates and script examples./nV2 Strategy Docs/nSeamless Exchange Integration/nHummingbot establishes a direct WebSocket connection with many exchanges, including DEXs on L1/L2 blockchain networks./nConnector Docs/nBacktest and Deploy with Ease/nBacktest your strategies against historical data and deploy multiple instances with Dashboard, a new web-based user interface and control center./nDashboard Docs/nFork, Customize, Innovate/nHummingbot is free and publicly available under the Apache 2.0 open source license, so you can use the code however you like!/nHow to Fork the Repo/nWho uses Hummingbot?/n¶/nMarket Makers/n¶/nFor many crypto market making firms, Hummingbot is the trusted starting point for creating secure, scalable algo trading solutions./n¶/nAs the company that open-sourced Hummingbot, we're incredibly proud of how the community has embraced it. Today, we run bespoke strategies for our institutional clients using many custom Hummingbot instances./nCarlo Las Marias/nWe started with Hummingbot as the foundation for our market-making business. Their WebSocket connector architecture is the most accessible in the market. We still use it from time to time and enjoy their great documentation./nEugene Tartakovsky/nHummingbot has served as a reliable base for us to build custom tools and strategies. It has many quality connectors and all components are well thought out, allowing us to flexibly modify the open source\""
      ]
     },
     "execution_count": 52,
     "metadata": {},
     "output_type": "execute_result"
    }
   ],
   "source": [
    "splitted_docs[1].page_content"
   ]
  },
  {
   "cell_type": "code",
   "execution_count": 53,
   "metadata": {
    "ExecuteTime": {
     "end_time": "2023-11-29T19:41:58.136567Z",
     "start_time": "2023-11-29T19:41:58.133316Z"
    },
    "collapsed": false,
    "jupyter": {
     "outputs_hidden": false
    }
   },
   "outputs": [
    {
     "data": {
      "text/plain": [
       "\"code./nJelle Buth/nAlgo Traders & Boutique Firms/n¶/nAlgorithmic traders and boutique firms leverage Hummingbot for capturing cross-chain + cross-exchange arbitrage opportunities with the/nAMM Arbitrage strategy/nand earning liquidity mining rewards on/nHummingbot Miner/n./n¶/nHummingbot allowed me to launch a successful suite of trading strategies managing over $2 billion in trade volume. I can't recommend Hummingbot enough for any algo trader seeking a 0 to 1 platform./nKollan/nSince 2021, I've been a dedicated user of Hummingbot, primarily utilizing the pure market making strategy. Based on my profitable strategies, I started an algo-trading startup in Saudi Arabia!/nHyder/nHummingbot revolutionized my crypto trading. Using advanced strategies, I developed my own successful trading style and consistently ranked at the top of Hummingbot Miner's leaderboard for months./nWojak/nProtocols & Token Projects/n¶/nBlockchain protocols harness Hummingbot to foster liquidity, catalyzing their ecosystems without the overhead of external market makers./n¶/nWe’re big supporters of Hummingbot’s vision of open source algo trading. Their community of market makers has contributed significantly to the liquidity on Avalanche-based DEXs./nLydia Chiu/nHummingbot plays a pivotal role in Harmony's DeFi strategy. Our Hummingbot connector enables our community to power liquidity for current and future projects on Harmony./nStephen Tse/nWhat strategies can you build with Hummingbot?/n¶/nLearn how\""
      ]
     },
     "execution_count": 53,
     "metadata": {},
     "output_type": "execute_result"
    }
   ],
   "source": [
    "splitted_docs[2].page_content"
   ]
  },
  {
   "cell_type": "code",
   "execution_count": 54,
   "metadata": {
    "ExecuteTime": {
     "end_time": "2023-11-29T19:41:58.392066Z",
     "start_time": "2023-11-29T19:41:58.388284Z"
    },
    "collapsed": false,
    "jupyter": {
     "outputs_hidden": false
    }
   },
   "outputs": [
    {
     "data": {
      "text/plain": [
       "\"to design and code strategies like these in/nBotcamp/n, the official training and membership program for the Hummingbot community./n¶/nIntroducing V2 Strategies/n¶/nDirectional Trading with MACD and Bollinger Bands/n¶/nTechnical Deep Dive into the Avellaneda & Stoikov Strategy/n¶/nJoin Botcamp/nA Global Nexus for Algo Traders/n¶/nThe Hummingbot Foundation, a not-for-profit beacon, ensures the codebase's decentralized evolution, guided by the Hummingbot community and Governance Token (HBOT)./n¶/nAbout Us/n: About the Foundation and our mission/nGovernance/n: Decide how Hummingbot evolves/nFAQ/n: Answers to common questions/nSponsors & Backers/n¶/nWe are grateful to the exchanges, protocols, and companies who support our quest to/ndemocratize high-frequency trading/n!/n¶/nStay Ahead with the Hummingbot newsletter/n¶/nPublished when each monthly release drops, our official newsletter has all the Hummingbot news, upcoming events, and contributions from the global Hummingbot community!/n¶/nGet the Newsletter/nBack to top/nCopyright © 2023 Hummingbot Foundation/nMade with/nMaterial for MkDocs Insiders\""
      ]
     },
     "execution_count": 54,
     "metadata": {},
     "output_type": "execute_result"
    }
   ],
   "source": [
    "splitted_docs[3].page_content"
   ]
  },
  {
   "cell_type": "markdown",
   "metadata": {
    "collapsed": false,
    "jupyter": {
     "outputs_hidden": false
    }
   },
   "source": [
    "# Splitting the documents\n",
    "\n",
    "Now we are going to split the documents using the MarkdownTextSplitter"
   ]
  },
  {
   "cell_type": "code",
   "execution_count": 55,
   "metadata": {
    "ExecuteTime": {
     "end_time": "2023-11-29T19:41:59.368889Z",
     "start_time": "2023-11-29T19:41:59.143613Z"
    },
    "collapsed": false,
    "jupyter": {
     "outputs_hidden": false
    }
   },
   "outputs": [],
   "source": [
    "chunk_size = 2000\n",
    "chunk_overlap = 0\n",
    "\n",
    "# Replace with location where you want to store the vector_db\n",
    "persist_directory = \"/Users/feng/Code/ai-assistant/vector_stores\"\n",
    "\n",
    "r_splitter = RecursiveCharacterTextSplitter(\n",
    "    chunk_size=chunk_size,\n",
    "    chunk_overlap=chunk_overlap,\n",
    "    separators=[\"\\n\\n\", \"\\n\", \" \", \"\"]\n",
    ")\n",
    "splitted_documents = r_splitter.split_documents(documents)"
   ]
  },
  {
   "cell_type": "code",
   "execution_count": 56,
   "metadata": {
    "ExecuteTime": {
     "end_time": "2023-11-29T19:42:00.822577Z",
     "start_time": "2023-11-29T19:42:00.818882Z"
    },
    "collapsed": false,
    "jupyter": {
     "outputs_hidden": false
    }
   },
   "outputs": [
    {
     "data": {
      "text/plain": [
       "5879"
      ]
     },
     "execution_count": 56,
     "metadata": {},
     "output_type": "execute_result"
    }
   ],
   "source": [
    "len(splitted_documents)"
   ]
  },
  {
   "cell_type": "markdown",
   "metadata": {
    "collapsed": false,
    "jupyter": {
     "outputs_hidden": false
    }
   },
   "source": [
    "# Creating the embeddings and store in chroma db\n"
   ]
  },
  {
   "cell_type": "code",
   "execution_count": 57,
   "metadata": {
    "ExecuteTime": {
     "end_time": "2023-11-29T19:42:06.272609Z",
     "start_time": "2023-11-29T19:42:05.817801Z"
    },
    "collapsed": false,
    "jupyter": {
     "outputs_hidden": false
    }
   },
   "outputs": [],
   "source": [
    "from langchain.vectorstores.chroma import Chroma\n",
    "from langchain.embeddings import OpenAIEmbeddings\n",
    "\n",
    "def split_list(input_list, size):\n",
    "    return [input_list[i:i + size] for i in range(0, len(input_list), size)]\n",
    "\n",
    "\n",
    "embedding = OpenAIEmbeddings(chunk_size=1000)\n",
    "\n",
    "batch_size = 150\n",
    "document_batches = split_list(splitted_documents, batch_size)"
   ]
  },
  {
   "cell_type": "code",
   "execution_count": 58,
   "metadata": {
    "ExecuteTime": {
     "end_time": "2023-11-29T19:42:06.485310Z",
     "start_time": "2023-11-29T19:42:06.481297Z"
    },
    "collapsed": false,
    "jupyter": {
     "outputs_hidden": false
    }
   },
   "outputs": [
    {
     "data": {
      "text/plain": [
       "40"
      ]
     },
     "execution_count": 58,
     "metadata": {},
     "output_type": "execute_result"
    }
   ],
   "source": [
    "len(document_batches)"
   ]
  },
  {
   "cell_type": "code",
   "execution_count": 59,
   "metadata": {
    "ExecuteTime": {
     "end_time": "2023-11-29T19:51:36.673368Z",
     "start_time": "2023-11-29T19:42:12.692135Z"
    },
    "collapsed": false,
    "jupyter": {
     "outputs_hidden": false
    }
   },
   "outputs": [
    {
     "name": "stderr",
     "output_type": "stream",
     "text": [
      "Retrying langchain.embeddings.openai.embed_with_retry.<locals>._embed_with_retry in 4.0 seconds as it raised RateLimitError: Rate limit reached for text-embedding-ada-002 in organization org-E8j03EzsiOLjDq0kYsBgEm6Z on tokens per min (TPM): Limit 1000000, Used 795420, Requested 208132. Please try again in 213ms. Visit https://platform.openai.com/account/rate-limits to learn more..\n",
      "Retrying langchain.embeddings.openai.embed_with_retry.<locals>._embed_with_retry in 4.0 seconds as it raised RateLimitError: Rate limit reached for text-embedding-ada-002 in organization org-E8j03EzsiOLjDq0kYsBgEm6Z on tokens per min (TPM): Limit 1000000, Used 820214, Requested 200803. Please try again in 1.261s. Visit https://platform.openai.com/account/rate-limits to learn more..\n",
      "Retrying langchain.embeddings.openai.embed_with_retry.<locals>._embed_with_retry in 4.0 seconds as it raised RateLimitError: Rate limit reached for text-embedding-ada-002 in organization org-E8j03EzsiOLjDq0kYsBgEm6Z on tokens per min (TPM): Limit 1000000, Used 794948, Requested 208630. Please try again in 214ms. Visit https://platform.openai.com/account/rate-limits to learn more..\n",
      "Retrying langchain.embeddings.openai.embed_with_retry.<locals>._embed_with_retry in 4.0 seconds as it raised RateLimitError: Rate limit reached for text-embedding-ada-002 in organization org-E8j03EzsiOLjDq0kYsBgEm6Z on tokens per min (TPM): Limit 1000000, Used 839868, Requested 210696. Please try again in 3.033s. Visit https://platform.openai.com/account/rate-limits to learn more..\n",
      "Retrying langchain.embeddings.openai.embed_with_retry.<locals>._embed_with_retry in 4.0 seconds as it raised RateLimitError: Rate limit reached for text-embedding-ada-002 in organization org-E8j03EzsiOLjDq0kYsBgEm6Z on tokens per min (TPM): Limit 1000000, Used 817824, Requested 208168. Please try again in 1.559s. Visit https://platform.openai.com/account/rate-limits to learn more..\n",
      "Retrying langchain.embeddings.openai.embed_with_retry.<locals>._embed_with_retry in 4.0 seconds as it raised RateLimitError: Rate limit reached for text-embedding-ada-002 in organization org-E8j03EzsiOLjDq0kYsBgEm6Z on tokens per min (TPM): Limit 1000000, Used 798881, Requested 206198. Please try again in 304ms. Visit https://platform.openai.com/account/rate-limits to learn more..\n",
      "Retrying langchain.embeddings.openai.embed_with_retry.<locals>._embed_with_retry in 4.0 seconds as it raised RateLimitError: Rate limit reached for text-embedding-ada-002 in organization org-E8j03EzsiOLjDq0kYsBgEm6Z on tokens per min (TPM): Limit 1000000, Used 817644, Requested 206355. Please try again in 1.439s. Visit https://platform.openai.com/account/rate-limits to learn more..\n",
      "Retrying langchain.embeddings.openai.embed_with_retry.<locals>._embed_with_retry in 4.0 seconds as it raised RateLimitError: Rate limit reached for text-embedding-ada-002 in organization org-E8j03EzsiOLjDq0kYsBgEm6Z on tokens per min (TPM): Limit 1000000, Used 848814, Requested 218151. Please try again in 4.017s. Visit https://platform.openai.com/account/rate-limits to learn more..\n",
      "Retrying langchain.embeddings.openai.embed_with_retry.<locals>._embed_with_retry in 4.0 seconds as it raised RateLimitError: Rate limit reached for text-embedding-ada-002 in organization org-E8j03EzsiOLjDq0kYsBgEm6Z on tokens per min (TPM): Limit 1000000, Used 821190, Requested 212289. Please try again in 2.008s. Visit https://platform.openai.com/account/rate-limits to learn more..\n",
      "Retrying langchain.embeddings.openai.embed_with_retry.<locals>._embed_with_retry in 4.0 seconds as it raised RateLimitError: Rate limit reached for text-embedding-ada-002 in organization org-E8j03EzsiOLjDq0kYsBgEm6Z on tokens per min (TPM): Limit 1000000, Used 826431, Requested 201104. Please try again in 1.652s. Visit https://platform.openai.com/account/rate-limits to learn more..\n"
     ]
    }
   ],
   "source": [
    "for batch in document_batches:\n",
    "    vectordb = Chroma.from_documents(\n",
    "        collection_name=\"hummingbot_documentation\",\n",
    "        collection_metadata={\n",
    "            \"Description\": \"This are the files from the Hummingbot docs.\"\n",
    "        },\n",
    "        documents=batch,\n",
    "        embedding=embedding,\n",
    "        persist_directory=persist_directory\n",
    "    )\n",
    "    time.sleep(5)"
   ]
  },
  {
   "cell_type": "code",
   "execution_count": 60,
   "metadata": {
    "ExecuteTime": {
     "end_time": "2023-11-29T19:53:26.810102Z",
     "start_time": "2023-11-29T19:53:26.395405Z"
    },
    "collapsed": false,
    "jupyter": {
     "outputs_hidden": false
    }
   },
   "outputs": [
    {
     "data": {
      "text/plain": [
       "[Document(page_content='Pure Market Making - Hummingbot/nSkip to content/nHummingbot/nPure Market Making/nInitializing search/nhummingbot/hummingbot/nHome/nDocs/nAcademy/nBotcamp/nReleases/nBounties/nGovernance/nAbout/nBlog/nHummingbot/nhummingbot/hummingbot/nHome/nDocs/nDocs/nGetting Started/nInstallation/nClient/nGateway/nDashboard/nStrategies/nStrategies/nV2 Strategies/nV1 Strategies/nV1 Strategies/nPure Market Making/nPure Market Making/nTable of contents/n📁 Strategy Info/n🏆 Strategy Tier/n📝 Summary/n🏦 Supported Exchange Types/n🛠️ Strategy configs/n📓 Description/nArchitecture/nRefreshing Orders/nExecuting Order Proposals/nExample Order Flow/nℹ️ More Resources/nCross-Exchange Market Making/nAMM Arbitrage/nAvellaneda Market Making/nCross-Exchange Mining/nHedge/nLiquidity Mining/nPerpetual Market Making/nSpot Perpetual Arbitrage/nTWAP/nUniswap v3 LP/nPMM Strategy Configs/nScripts/nConnectors/nGlossary/nTroubleshooting/nAcademy/nAcademy/nLatest/nAll Articles/nArchive/nCategories/nBotcamp/nBotcamp/nBotcamp FAQ/nReleases/nReleases/nRelease Process/n1.22.0/n1.21.0/n1.20.0/n1.19.0/n1.18.0/n1.17.0/n1.16.0/n1.15.0/n1.14.0/n1.13.0/n1.12.0/n1.11.0/n1.10.0/n1.9.0/n1.8.0/n1.7.0/n1.6.0/n1.5.0/n1.4.0/n1.3.0/n1.2.0/n1.1.1/n1.1.0/n1.0.1/n1.0.0/nBounties/nBounties/nBounty Sponsors/nBounty Contributors/nContribution Guidelines/nForking the Repository/nBounties Board ↗️/nGovernance/nGovernance/nPolls/nProposals/nEpochs/nWhitepaper/nAbout/nAbout/nFAQ/nFoundation/nSponsors & Backers/nReported Volumes/nHistory/n📆 Calendar ↗️/nBlog/nBlog/nArchive/nCategories/nTable of contents/n📁 Strategy Info/n🏆 Strategy Tier/n📝 Summary/n🏦 Supported Exchange Types/n🛠️ Strategy configs/n📓 Description/nArchitecture/nRefreshing Orders/nExecuting Order Proposals/nExample Order Flow/nℹ️ More Resources/nHome/nDocs/nStrategies/nV1 Strategies/npure_market_making/n¶/n📁 Strategy Info/n¶/nFolder:/n/hummingbot/strategy/pure_market_making/nConfigs:/npure_market_making_config_map.py/nMaintainer: Hummingbot Foundation/n🏆 Strategy', metadata={'titles': '#strategy-info\\n#architecture\\n#i-more-resources\\n#refreshing-orders\\n#strategy-tier\\n#example-order-flow\\n#executing-order-proposals\\n#supported-exchange-types\\n#pure_market_making\\n#strategy-configs\\n#summary\\n#description', 'url': 'https://hummingbot.org/strategies/pure-market-making/'}),\n",
       " Document(page_content='Pure Market Making - Hummingbot/nSkip to content/nHummingbot/nPure Market Making/nInitializing search/nhummingbot/hummingbot/nHome/nDocs/nAcademy/nBotcamp/nReleases/nBounties/nGovernance/nAbout/nBlog/nHummingbot/nhummingbot/hummingbot/nHome/nDocs/nDocs/nGetting Started/nInstallation/nClient/nGateway/nDashboard/nStrategies/nStrategies/nV2 Strategies/nV1 Strategies/nV1 Strategies/nPure Market Making/nPure Market Making/nTable of contents/n📁 Strategy Info/n🏆 Strategy Tier/n📝 Summary/n🏦 Supported Exchange Types/n🛠️ Strategy configs/n📓 Description/nArchitecture/nRefreshing Orders/nExecuting Order Proposals/nExample Order Flow/nℹ️ More Resources/nCross-Exchange Market Making/nAMM Arbitrage/nAvellaneda Market Making/nCross-Exchange Mining/nHedge/nLiquidity Mining/nPerpetual Market Making/nSpot Perpetual Arbitrage/nTWAP/nUniswap v3 LP/nPMM Strategy Configs/nScripts/nConnectors/nGlossary/nTroubleshooting/nAcademy/nAcademy/nLatest/nAll Articles/nArchive/nCategories/nBotcamp/nBotcamp/nBotcamp FAQ/nReleases/nReleases/nRelease Process/n1.22.0/n1.21.0/n1.20.0/n1.19.0/n1.18.0/n1.17.0/n1.16.0/n1.15.0/n1.14.0/n1.13.0/n1.12.0/n1.11.0/n1.10.0/n1.9.0/n1.8.0/n1.7.0/n1.6.0/n1.5.0/n1.4.0/n1.3.0/n1.2.0/n1.1.1/n1.1.0/n1.0.1/n1.0.0/nBounties/nBounties/nBounty Sponsors/nBounty Contributors/nContribution Guidelines/nForking the Repository/nBounties Board ↗️/nGovernance/nGovernance/nPolls/nProposals/nEpochs/nWhitepaper/nAbout/nAbout/nFAQ/nFoundation/nSponsors & Backers/nReported Volumes/nHistory/n📆 Calendar ↗️/nBlog/nBlog/nArchive/nCategories/nTable of contents/n📁 Strategy Info/n🏆 Strategy Tier/n📝 Summary/n🏦 Supported Exchange Types/n🛠️ Strategy configs/n📓 Description/nArchitecture/nRefreshing Orders/nExecuting Order Proposals/nExample Order Flow/nℹ️ More Resources/nHome/nDocs/nStrategies/nV1 Strategies/npure_market_making/n¶/n📁 Strategy Info/n¶/nFolder:/n/hummingbot/strategy/pure_market_making/nConfigs:/npure_market_making_config_map.py/nMaintainer: Hummingbot Foundation/n🏆 Strategy', metadata={'titles': '#strategy-info\\n#architecture\\n#i-more-resources\\n#refreshing-orders\\n#strategy-tier\\n#example-order-flow\\n#executing-order-proposals\\n#supported-exchange-types\\n#pure_market_making\\n#strategy-configs\\n#summary\\n#description', 'url': 'https://hummingbot.org/strategies/pure-market-making/'}),\n",
       " Document(page_content='PMM Strategy Configs - Hummingbot/nSkip to content/nHummingbot/nPMM Strategy Configs/nInitializing search/nhummingbot/hummingbot/nHome/nDocs/nAcademy/nBotcamp/nReleases/nBounties/nGovernance/nAbout/nBlog/nHummingbot/nhummingbot/hummingbot/nHome/nDocs/nDocs/nGetting Started/nInstallation/nClient/nGateway/nDashboard/nStrategies/nStrategies/nV2 Strategies/nV1 Strategies/nV1 Strategies/nPure Market Making/nCross-Exchange Market Making/nAMM Arbitrage/nAvellaneda Market Making/nCross-Exchange Mining/nHedge/nLiquidity Mining/nPerpetual Market Making/nSpot Perpetual Arbitrage/nTWAP/nUniswap v3 LP/nPMM Strategy Configs/nPMM Strategy Configs/nAdd Transaction Costs/nOrder Levels/nFilled Order Delay/nHanging Orders/nMinimum Spread/nOrder Refresh Tolerance/nOrder Optimization/nInventory Skew/nMax Order Age/nOrder Override/nPrice Band/nPrice Source/nPing Pong/nScripts/nConnectors/nGlossary/nTroubleshooting/nAcademy/nAcademy/nLatest/nAll Articles/nArchive/nCategories/nBotcamp/nBotcamp/nBotcamp FAQ/nReleases/nReleases/nRelease Process/n1.22.0/n1.21.0/n1.20.0/n1.19.0/n1.18.0/n1.17.0/n1.16.0/n1.15.0/n1.14.0/n1.13.0/n1.12.0/n1.11.0/n1.10.0/n1.9.0/n1.8.0/n1.7.0/n1.6.0/n1.5.0/n1.4.0/n1.3.0/n1.2.0/n1.1.1/n1.1.0/n1.0.1/n1.0.0/nBounties/nBounties/nBounty Sponsors/nBounty Contributors/nContribution Guidelines/nForking the Repository/nBounties Board ↗️/nGovernance/nGovernance/nPolls/nProposals/nEpochs/nWhitepaper/nAbout/nAbout/nFAQ/nFoundation/nSponsors & Backers/nReported Volumes/nHistory/n📆 Calendar ↗️/nBlog/nBlog/nArchive/nCategories/nTable of contents/nHow to configure/nList of configs/nHome/nDocs/nStrategies/nV1 Strategies/nPMM Strategy Configs/nPMM Strategy Configs/nBelow are configurable variables that are available in the/nPure Market Making strategy/n. They give you more control over how your market making bot behaves./nHow to configure/n¶/nThere are two ways to configure these parameters:/nRun/nconfig/nto see the current strategy settings. Run command/nconfig [parameter_name]/nto', metadata={'titles': '#how-to-configure\\n#list-of-configs', 'url': 'https://hummingbot.org/strategy-configs/'}),\n",
       " Document(page_content='PMM Strategy Configs - Hummingbot/nSkip to content/nHummingbot/nPMM Strategy Configs/nInitializing search/nhummingbot/hummingbot/nHome/nDocs/nAcademy/nBotcamp/nReleases/nBounties/nGovernance/nAbout/nBlog/nHummingbot/nhummingbot/hummingbot/nHome/nDocs/nDocs/nGetting Started/nInstallation/nClient/nGateway/nDashboard/nStrategies/nStrategies/nV2 Strategies/nV1 Strategies/nV1 Strategies/nPure Market Making/nCross-Exchange Market Making/nAMM Arbitrage/nAvellaneda Market Making/nCross-Exchange Mining/nHedge/nLiquidity Mining/nPerpetual Market Making/nSpot Perpetual Arbitrage/nTWAP/nUniswap v3 LP/nPMM Strategy Configs/nPMM Strategy Configs/nAdd Transaction Costs/nOrder Levels/nFilled Order Delay/nHanging Orders/nMinimum Spread/nOrder Refresh Tolerance/nOrder Optimization/nInventory Skew/nMax Order Age/nOrder Override/nPrice Band/nPrice Source/nPing Pong/nScripts/nConnectors/nGlossary/nTroubleshooting/nAcademy/nAcademy/nLatest/nAll Articles/nArchive/nCategories/nBotcamp/nBotcamp/nBotcamp FAQ/nReleases/nReleases/nRelease Process/n1.22.0/n1.21.0/n1.20.0/n1.19.0/n1.18.0/n1.17.0/n1.16.0/n1.15.0/n1.14.0/n1.13.0/n1.12.0/n1.11.0/n1.10.0/n1.9.0/n1.8.0/n1.7.0/n1.6.0/n1.5.0/n1.4.0/n1.3.0/n1.2.0/n1.1.1/n1.1.0/n1.0.1/n1.0.0/nBounties/nBounties/nBounty Sponsors/nBounty Contributors/nContribution Guidelines/nForking the Repository/nBounties Board ↗️/nGovernance/nGovernance/nPolls/nProposals/nEpochs/nWhitepaper/nAbout/nAbout/nFAQ/nFoundation/nSponsors & Backers/nReported Volumes/nHistory/n📆 Calendar ↗️/nBlog/nBlog/nArchive/nCategories/nTable of contents/nHow to configure/nList of configs/nHome/nDocs/nStrategies/nV1 Strategies/nPMM Strategy Configs/nPMM Strategy Configs/nBelow are configurable variables that are available in the/nPure Market Making strategy/n. They give you more control over how your market making bot behaves./nHow to configure/n¶/nThere are two ways to configure these parameters:/nRun/nconfig/nto see the current strategy settings. Run command/nconfig [parameter_name]/nto', metadata={'titles': '#how-to-configure\\n#list-of-configs', 'url': 'https://hummingbot.org/strategy-configs/'})]"
      ]
     },
     "execution_count": 60,
     "metadata": {},
     "output_type": "execute_result"
    }
   ],
   "source": [
    "vectordb.similarity_search(\"how can I configure a pure market making strategy?\")"
   ]
  },
  {
   "cell_type": "code",
   "execution_count": null,
   "metadata": {},
   "outputs": [],
   "source": []
  }
 ],
 "metadata": {
  "kernelspec": {
   "display_name": "Python 3 (ipykernel)",
   "language": "python",
   "name": "python3"
  },
  "language_info": {
   "codemirror_mode": {
    "name": "ipython",
    "version": 3
   },
   "file_extension": ".py",
   "mimetype": "text/x-python",
   "name": "python",
   "nbconvert_exporter": "python",
   "pygments_lexer": "ipython3",
   "version": "3.11.6"
  }
 },
 "nbformat": 4,
 "nbformat_minor": 4
}
